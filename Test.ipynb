{
 "cells": [
  {
   "cell_type": "markdown",
   "id": "e8cc0e5f-3cdb-4bda-a886-7d0eb934fce5",
   "metadata": {},
   "source": [
    "## Test"
   ]
  },
  {
   "cell_type": "code",
   "execution_count": 2,
   "id": "3c0572e9-a3b0-46ef-91b2-89c51419da99",
   "metadata": {},
   "outputs": [
    {
     "name": "stdout",
     "output_type": "stream",
     "text": [
      "importing Jupyter notebook from C:\\Users\\Msc 2\\Desktop\\Video-Text Summarization\\Codes\\directory\\Preprocessing\\Audio_feature.ipynb\n"
     ]
    },
    {
     "name": "stderr",
     "output_type": "stream",
     "text": [
      "Using cache found in C:\\Users\\Msc 2/.cache\\torch\\hub\\harritaylor_torchvggish_master\n"
     ]
    },
    {
     "name": "stdout",
     "output_type": "stream",
     "text": [
      "importing Jupyter notebook from C:\\Users\\Msc 2\\Desktop\\Video-Text Summarization\\Codes\\directory\\Segmentation\\KTS\\KTS_Segmentation.ipynb\n"
     ]
    },
    {
     "ename": "IndexError",
     "evalue": "list index out of range",
     "output_type": "error",
     "traceback": [
      "\u001b[1;31m---------------------------------------------------------------------------\u001b[0m",
      "\u001b[1;31mIndexError\u001b[0m                                Traceback (most recent call last)",
      "Input \u001b[1;32mIn [2]\u001b[0m, in \u001b[0;36m<cell line: 3>\u001b[1;34m()\u001b[0m\n\u001b[0;32m      1\u001b[0m \u001b[38;5;28;01mimport\u001b[39;00m \u001b[38;5;21;01mimport_ipynb\u001b[39;00m\n\u001b[0;32m      2\u001b[0m \u001b[38;5;28;01mfrom\u001b[39;00m \u001b[38;5;21;01mPreprocessing\u001b[39;00m \u001b[38;5;28;01mimport\u001b[39;00m feature_extraction, Audio_feature\n\u001b[1;32m----> 3\u001b[0m \u001b[38;5;28;01mfrom\u001b[39;00m \u001b[38;5;21;01mSegmentation\u001b[39;00m\u001b[38;5;21;01m.\u001b[39;00m\u001b[38;5;21;01mKTS\u001b[39;00m \u001b[38;5;28;01mimport\u001b[39;00m KTS_Segmentation\n",
      "File \u001b[1;32m<frozen importlib._bootstrap>:1007\u001b[0m, in \u001b[0;36m_find_and_load\u001b[1;34m(name, import_)\u001b[0m\n",
      "File \u001b[1;32m<frozen importlib._bootstrap>:986\u001b[0m, in \u001b[0;36m_find_and_load_unlocked\u001b[1;34m(name, import_)\u001b[0m\n",
      "File \u001b[1;32m<frozen importlib._bootstrap>:664\u001b[0m, in \u001b[0;36m_load_unlocked\u001b[1;34m(spec)\u001b[0m\n",
      "File \u001b[1;32m<frozen importlib._bootstrap>:627\u001b[0m, in \u001b[0;36m_load_backward_compatible\u001b[1;34m(spec)\u001b[0m\n",
      "File \u001b[1;32m~\\anaconda3\\lib\\site-packages\\import_ipynb.py:61\u001b[0m, in \u001b[0;36mNotebookLoader.load_module\u001b[1;34m(self, fullname)\u001b[0m\n\u001b[0;32m     59\u001b[0m         code \u001b[38;5;241m=\u001b[39m \u001b[38;5;28mself\u001b[39m\u001b[38;5;241m.\u001b[39mshell\u001b[38;5;241m.\u001b[39minput_transformer_manager\u001b[38;5;241m.\u001b[39mtransform_cell(cell\u001b[38;5;241m.\u001b[39msource)\n\u001b[0;32m     60\u001b[0m         \u001b[38;5;66;03m# run the code in themodule\u001b[39;00m\n\u001b[1;32m---> 61\u001b[0m         \u001b[43mexec\u001b[49m\u001b[43m(\u001b[49m\u001b[43mcode\u001b[49m\u001b[43m,\u001b[49m\u001b[43m \u001b[49m\u001b[43mmod\u001b[49m\u001b[38;5;241;43m.\u001b[39;49m\u001b[38;5;18;43m__dict__\u001b[39;49m\u001b[43m)\u001b[49m\n\u001b[0;32m     62\u001b[0m \u001b[38;5;28;01mfinally\u001b[39;00m:\n\u001b[0;32m     63\u001b[0m     \u001b[38;5;28mself\u001b[39m\u001b[38;5;241m.\u001b[39mshell\u001b[38;5;241m.\u001b[39muser_ns \u001b[38;5;241m=\u001b[39m save_user_ns\n",
      "File \u001b[1;32m<string>:1\u001b[0m, in \u001b[0;36m<module>\u001b[1;34m\u001b[0m\n",
      "\u001b[1;31mIndexError\u001b[0m: list index out of range"
     ]
    }
   ],
   "source": [
    "import import_ipynb\n",
    "from Preprocessing import feature_extraction, Audio_feature\n",
    "from Segmentation.KTS import KTS_Segmentation\n",
    "\n",
    "# from Model.vasnet.Model import VASNet\n",
    "# from Model.vasnet import Evaluation"
   ]
  },
  {
   "cell_type": "markdown",
   "id": "a2b3018c-e278-4e93-912c-d927edf466a9",
   "metadata": {},
   "source": [
    "#### Feature Extraction"
   ]
  },
  {
   "cell_type": "markdown",
   "id": "454027e0-d946-4ecf-b384-64214f6a4890",
   "metadata": {},
   "source": [
    "#### Test 1"
   ]
  },
  {
   "cell_type": "code",
   "execution_count": 2,
   "id": "7fb8bc23-6435-4023-9ad0-16816bc47e74",
   "metadata": {},
   "outputs": [],
   "source": [
    "h5file_path = 'Preprocessing/extracted_features/normal'+'/Test1.h5'"
   ]
  },
  {
   "cell_type": "code",
   "execution_count": 3,
   "id": "46eb1546-060f-4301-a5e3-31413d416cbc",
   "metadata": {},
   "outputs": [
    {
     "name": "stderr",
     "output_type": "stream",
     "text": [
      "100%|██████████| 1/1 [03:24<00:00, 204.28s/it]"
     ]
    },
    {
     "name": "stdout",
     "output_type": "stream",
     "text": [
      "1 . video_1 no. of frames= 13260.0 Output dimension= (884, 1024)\n"
     ]
    },
    {
     "name": "stderr",
     "output_type": "stream",
     "text": [
      "\n"
     ]
    }
   ],
   "source": [
    "feature_extraction.extract_features(videos_path='data/Custom dataset/', h5output_path='Preprocessing/extracted_features/normal'+'/Test1.h5')"
   ]
  },
  {
   "cell_type": "markdown",
   "id": "9f07777e-48e6-4890-8a80-21aab7a692b6",
   "metadata": {},
   "source": [
    "#### test 2"
   ]
  },
  {
   "cell_type": "code",
   "execution_count": 5,
   "id": "1e90b094-63f9-4fca-bbb5-dc32db4aefdc",
   "metadata": {},
   "outputs": [
    {
     "name": "stderr",
     "output_type": "stream",
     "text": [
      "100%|██████████| 1/1 [05:26<00:00, 326.27s/it]"
     ]
    },
    {
     "name": "stdout",
     "output_type": "stream",
     "text": [
      "1 . video_1 no. of frames= 13016.0 Output dimension= (867, 1024)\n"
     ]
    },
    {
     "name": "stderr",
     "output_type": "stream",
     "text": [
      "\n"
     ]
    }
   ],
   "source": [
    "feature_extraction.extract_features(videos_path='data/Custom dataset/', h5output_path='Preprocessing/extracted_features/normal'+'/Test3.h5')"
   ]
  },
  {
   "cell_type": "markdown",
   "id": "be5012bd-aa29-4598-81da-7127f6e3452f",
   "metadata": {},
   "source": [
    "##### Test 3"
   ]
  },
  {
   "cell_type": "code",
   "execution_count": null,
   "id": "ab866792-d9aa-46c0-9969-a7a3d9a79560",
   "metadata": {},
   "outputs": [],
   "source": [
    "tvsum_data = public_dataset_path+'/ydata-tvsum50-v1_1'\n",
    "normalFt_path = features_path+'/normal'\n",
    "h5file_path = 'Preprocessing/extracted_features/normal'+'/Test1.h5'\n",
    "feature_extraction.extract_features(videos_path=tvsum_data+'/video', h5output_path='Preprocessing/extracted_features/normal'+'/Test1.h5', names=vnames)"
   ]
  },
  {
   "cell_type": "markdown",
   "id": "e7722ac2-7970-446d-9000-44d888ae4ac3",
   "metadata": {},
   "source": [
    "#### Test 4"
   ]
  },
  {
   "cell_type": "code",
   "execution_count": 2,
   "id": "942ecf66-47ae-4727-a9d4-db85257553dd",
   "metadata": {},
   "outputs": [
    {
     "name": "stderr",
     "output_type": "stream",
     "text": [
      " 25%|██▌       | 1/4 [00:29<01:29, 29.86s/it]"
     ]
    },
    {
     "name": "stdout",
     "output_type": "stream",
     "text": [
      "1 . video_1 no. of frames= 3532.0 Output dimension= (235, 1024)\n"
     ]
    },
    {
     "name": "stderr",
     "output_type": "stream",
     "text": [
      " 50%|█████     | 2/4 [00:58<00:58, 29.10s/it]"
     ]
    },
    {
     "name": "stdout",
     "output_type": "stream",
     "text": [
      "2 . video_2 no. of frames= 4853.0 Output dimension= (323, 1024)\n"
     ]
    },
    {
     "name": "stderr",
     "output_type": "stream",
     "text": [
      " 75%|███████▌  | 3/4 [04:33<01:54, 114.11s/it]"
     ]
    },
    {
     "name": "stdout",
     "output_type": "stream",
     "text": [
      "3 . video_3 no. of frames= 13260.0 Output dimension= (884, 1024)\n"
     ]
    },
    {
     "name": "stderr",
     "output_type": "stream",
     "text": [
      "100%|██████████| 4/4 [06:50<00:00, 102.69s/it]"
     ]
    },
    {
     "name": "stdout",
     "output_type": "stream",
     "text": [
      "4 . video_4 no. of frames= 5320.0 Output dimension= (354, 1024)\n"
     ]
    },
    {
     "name": "stderr",
     "output_type": "stream",
     "text": [
      "\n"
     ]
    }
   ],
   "source": [
    "feature_extraction.extract_features(videos_path='data/Custom dataset/', h5output_path='Preprocessing/extracted_features/normal'+'/Test1.h5')"
   ]
  },
  {
   "cell_type": "code",
   "execution_count": null,
   "id": "7988bb20-41e8-472d-a486-3cbc3fe9b57d",
   "metadata": {},
   "outputs": [],
   "source": []
  },
  {
   "cell_type": "code",
   "execution_count": 4,
   "id": "2e129b01-8851-4a9c-bde3-616e34dfab29",
   "metadata": {},
   "outputs": [
    {
     "name": "stderr",
     "output_type": "stream",
     "text": [
      "  1%|█                                                                                  | 1/75 [00:38<47:57, 38.88s/it]"
     ]
    },
    {
     "name": "stdout",
     "output_type": "stream",
     "text": [
      "1 . video_1 no. of frames= 6912.0 Output dimension= (432, 1024)\n"
     ]
    },
    {
     "name": "stderr",
     "output_type": "stream",
     "text": [
      "  3%|██▏                                                                                | 2/75 [00:57<32:29, 26.70s/it]"
     ]
    },
    {
     "name": "stdout",
     "output_type": "stream",
     "text": [
      "2 . video_2 no. of frames= 3532.0 Output dimension= (220, 1024)\n"
     ]
    },
    {
     "name": "stderr",
     "output_type": "stream",
     "text": [
      "  4%|███▎                                                                               | 3/75 [01:29<35:00, 29.17s/it]"
     ]
    },
    {
     "name": "stdout",
     "output_type": "stream",
     "text": [
      "3 . video_3 no. of frames= 5742.0 Output dimension= (358, 1024)\n"
     ]
    },
    {
     "name": "stderr",
     "output_type": "stream",
     "text": [
      "  5%|████▍                                                                              | 4/75 [01:50<30:47, 26.03s/it]"
     ]
    },
    {
     "name": "stdout",
     "output_type": "stream",
     "text": [
      "4 . video_4 no. of frames= 4853.0 Output dimension= (303, 1024)\n"
     ]
    },
    {
     "name": "stderr",
     "output_type": "stream",
     "text": [
      "  7%|█████▌                                                                             | 5/75 [02:13<29:17, 25.10s/it]"
     ]
    },
    {
     "name": "stdout",
     "output_type": "stream",
     "text": [
      "5 . video_5 no. of frames= 4005.0 Output dimension= (250, 1024)\n"
     ]
    },
    {
     "name": "stderr",
     "output_type": "stream",
     "text": [
      "  8%|██████▋                                                                            | 6/75 [02:33<26:42, 23.23s/it]"
     ]
    },
    {
     "name": "stdout",
     "output_type": "stream",
     "text": [
      "6 . video_6 no. of frames= 3312.0 Output dimension= (207, 1024)\n"
     ]
    },
    {
     "name": "stderr",
     "output_type": "stream",
     "text": [
      "  9%|███████▋                                                                           | 7/75 [03:01<27:59, 24.70s/it]"
     ]
    },
    {
     "name": "stdout",
     "output_type": "stream",
     "text": [
      "7 . video_7 no. of frames= 4688.0 Output dimension= (293, 1024)\n"
     ]
    },
    {
     "name": "stderr",
     "output_type": "stream",
     "text": [
      " 11%|████████▊                                                                          | 8/75 [03:55<38:08, 34.16s/it]"
     ]
    },
    {
     "name": "stdout",
     "output_type": "stream",
     "text": [
      "8 . video_8 no. of frames= 4494.0 Output dimension= (280, 1024)\n"
     ]
    },
    {
     "name": "stderr",
     "output_type": "stream",
     "text": [
      " 12%|█████████▉                                                                         | 9/75 [04:16<33:02, 30.03s/it]"
     ]
    },
    {
     "name": "stdout",
     "output_type": "stream",
     "text": [
      "9 . video_9 no. of frames= 3995.0 Output dimension= (249, 1024)\n"
     ]
    },
    {
     "name": "stderr",
     "output_type": "stream",
     "text": [
      " 13%|██████████▉                                                                       | 10/75 [05:04<38:30, 35.54s/it]"
     ]
    },
    {
     "name": "stdout",
     "output_type": "stream",
     "text": [
      "10 . video_10 no. of frames= 10597.0 Output dimension= (662, 1024)\n"
     ]
    },
    {
     "name": "stderr",
     "output_type": "stream",
     "text": [
      " 15%|████████████                                                                      | 11/75 [05:33<35:56, 33.69s/it]"
     ]
    },
    {
     "name": "stdout",
     "output_type": "stream",
     "text": [
      "11 . video_11 no. of frames= 5661.0 Output dimension= (353, 1024)\n"
     ]
    },
    {
     "name": "stderr",
     "output_type": "stream",
     "text": [
      " 16%|█████████████                                                                     | 12/75 [06:03<33:55, 32.30s/it]"
     ]
    },
    {
     "name": "stdout",
     "output_type": "stream",
     "text": [
      "12 . video_12 no. of frames= 4729.0 Output dimension= (295, 1024)\n"
     ]
    },
    {
     "name": "stderr",
     "output_type": "stream",
     "text": [
      " 17%|██████████████▏                                                                   | 13/75 [06:29<31:30, 30.49s/it]"
     ]
    },
    {
     "name": "stdout",
     "output_type": "stream",
     "text": [
      "13 . video_13 no. of frames= 3341.0 Output dimension= (208, 1024)\n"
     ]
    },
    {
     "name": "stderr",
     "output_type": "stream",
     "text": [
      " 19%|███████████████▎                                                                  | 14/75 [07:39<43:04, 42.37s/it]"
     ]
    },
    {
     "name": "stdout",
     "output_type": "stream",
     "text": [
      "14 . video_14 no. of frames= 13511.0 Output dimension= (844, 1024)\n"
     ]
    },
    {
     "name": "stderr",
     "output_type": "stream",
     "text": [
      " 20%|████████████████▍                                                                 | 15/75 [08:03<36:49, 36.82s/it]"
     ]
    },
    {
     "name": "stdout",
     "output_type": "stream",
     "text": [
      "15 . video_15 no. of frames= 3064.0 Output dimension= (191, 1024)\n"
     ]
    },
    {
     "name": "stderr",
     "output_type": "stream",
     "text": [
      " 21%|█████████████████▍                                                                | 16/75 [08:29<33:07, 33.69s/it]"
     ]
    },
    {
     "name": "stdout",
     "output_type": "stream",
     "text": [
      "16 . video_16 no. of frames= 5133.0 Output dimension= (320, 1024)\n"
     ]
    },
    {
     "name": "stderr",
     "output_type": "stream",
     "text": [
      " 23%|██████████████████▌                                                               | 17/75 [08:48<28:17, 29.27s/it]"
     ]
    },
    {
     "name": "stdout",
     "output_type": "stream",
     "text": [
      "17 . video_17 no. of frames= 3705.0 Output dimension= (231, 1024)\n"
     ]
    },
    {
     "name": "stderr",
     "output_type": "stream",
     "text": [
      " 24%|███████████████████▋                                                              | 18/75 [09:08<25:08, 26.47s/it]"
     ]
    },
    {
     "name": "stdout",
     "output_type": "stream",
     "text": [
      "18 . video_18 no. of frames= 4382.0 Output dimension= (273, 1024)\n"
     ]
    },
    {
     "name": "stderr",
     "output_type": "stream",
     "text": [
      " 25%|████████████████████▊                                                             | 19/75 [09:48<28:22, 30.39s/it]"
     ]
    },
    {
     "name": "stdout",
     "output_type": "stream",
     "text": [
      "19 . video_19 no. of frames= 5075.0 Output dimension= (317, 1024)\n"
     ]
    },
    {
     "name": "stderr",
     "output_type": "stream",
     "text": [
      " 27%|█████████████████████▊                                                            | 20/75 [11:06<41:05, 44.83s/it]"
     ]
    },
    {
     "name": "stdout",
     "output_type": "stream",
     "text": [
      "20 . video_20 no. of frames= 19406.0 Output dimension= (1212, 1024)\n"
     ]
    },
    {
     "name": "stderr",
     "output_type": "stream",
     "text": [
      " 28%|██████████████████████▉                                                           | 21/75 [12:15<46:57, 52.18s/it]"
     ]
    },
    {
     "name": "stdout",
     "output_type": "stream",
     "text": [
      "21 . video_21 no. of frames= 9046.0 Output dimension= (565, 1024)\n"
     ]
    },
    {
     "name": "stderr",
     "output_type": "stream",
     "text": [
      " 29%|████████████████████████                                                          | 22/75 [12:21<33:40, 38.13s/it]"
     ]
    },
    {
     "name": "stdout",
     "output_type": "stream",
     "text": [
      "22 . video_22 no. of frames= 1287.0 Output dimension= (80, 1024)\n"
     ]
    },
    {
     "name": "stderr",
     "output_type": "stream",
     "text": [
      " 31%|█████████████████████████▏                                                        | 23/75 [13:40<43:44, 50.46s/it]"
     ]
    },
    {
     "name": "stdout",
     "output_type": "stream",
     "text": [
      "23 . video_23 no. of frames= 15307.0 Output dimension= (956, 1024)\n"
     ]
    },
    {
     "name": "stderr",
     "output_type": "stream",
     "text": [
      " 32%|██████████████████████████▏                                                       | 24/75 [13:55<33:53, 39.88s/it]"
     ]
    },
    {
     "name": "stdout",
     "output_type": "stream",
     "text": [
      "24 . video_24 no. of frames= 2941.0 Output dimension= (183, 1024)\n"
     ]
    },
    {
     "name": "stderr",
     "output_type": "stream",
     "text": [
      " 33%|███████████████████████████▎                                                      | 25/75 [14:53<37:44, 45.29s/it]"
     ]
    },
    {
     "name": "stdout",
     "output_type": "stream",
     "text": [
      "25 . video_25 no. of frames= 4971.0 Output dimension= (310, 1024)\n"
     ]
    },
    {
     "name": "stderr",
     "output_type": "stream",
     "text": [
      " 35%|████████████████████████████▍                                                     | 26/75 [15:19<32:16, 39.53s/it]"
     ]
    },
    {
     "name": "stdout",
     "output_type": "stream",
     "text": [
      "26 . video_26 no. of frames= 4931.0 Output dimension= (308, 1024)\n"
     ]
    },
    {
     "name": "stderr",
     "output_type": "stream",
     "text": [
      " 36%|█████████████████████████████▌                                                    | 27/75 [16:11<34:35, 43.24s/it]"
     ]
    },
    {
     "name": "stdout",
     "output_type": "stream",
     "text": [
      "27 . video_27 no. of frames= 9721.0 Output dimension= (607, 1024)\n"
     ]
    },
    {
     "name": "stderr",
     "output_type": "stream",
     "text": [
      " 37%|██████████████████████████████▌                                                   | 28/75 [16:37<29:55, 38.21s/it]"
     ]
    },
    {
     "name": "stdout",
     "output_type": "stream",
     "text": [
      "28 . video_28 no. of frames= 5939.0 Output dimension= (371, 1024)\n"
     ]
    },
    {
     "name": "stderr",
     "output_type": "stream",
     "text": [
      " 39%|███████████████████████████████▋                                                  | 29/75 [16:44<21:54, 28.58s/it]"
     ]
    },
    {
     "name": "stdout",
     "output_type": "stream",
     "text": [
      "29 . video_29 no. of frames= 1612.0 Output dimension= (100, 1024)\n"
     ]
    },
    {
     "name": "stderr",
     "output_type": "stream",
     "text": [
      " 40%|████████████████████████████████▊                                                 | 30/75 [17:51<30:14, 40.33s/it]"
     ]
    },
    {
     "name": "stdout",
     "output_type": "stream",
     "text": [
      "30 . video_30 no. of frames= 17527.0 Output dimension= (1095, 1024)\n"
     ]
    },
    {
     "name": "stderr",
     "output_type": "stream",
     "text": [
      " 41%|█████████████████████████████████▉                                                | 31/75 [18:14<25:46, 35.14s/it]"
     ]
    },
    {
     "name": "stdout",
     "output_type": "stream",
     "text": [
      "31 . video_31 no. of frames= 4356.0 Output dimension= (272, 1024)\n"
     ]
    },
    {
     "name": "stderr",
     "output_type": "stream",
     "text": [
      " 43%|██████████████████████████████████▉                                               | 32/75 [18:52<25:43, 35.89s/it]"
     ]
    },
    {
     "name": "stdout",
     "output_type": "stream",
     "text": [
      "32 . video_32 no. of frames= 7210.0 Output dimension= (450, 1024)\n"
     ]
    },
    {
     "name": "stderr",
     "output_type": "stream",
     "text": [
      " 44%|████████████████████████████████████                                              | 33/75 [19:26<24:38, 35.21s/it]"
     ]
    },
    {
     "name": "stdout",
     "output_type": "stream",
     "text": [
      "33 . video_33 no. of frames= 5846.0 Output dimension= (365, 1024)\n"
     ]
    },
    {
     "name": "stderr",
     "output_type": "stream",
     "text": [
      " 45%|█████████████████████████████████████▏                                            | 34/75 [20:17<27:22, 40.07s/it]"
     ]
    },
    {
     "name": "stdout",
     "output_type": "stream",
     "text": [
      "34 . video_34 no. of frames= 9671.0 Output dimension= (604, 1024)\n"
     ]
    },
    {
     "name": "stderr",
     "output_type": "stream",
     "text": [
      " 47%|██████████████████████████████████████▎                                           | 35/75 [20:42<23:40, 35.50s/it]"
     ]
    },
    {
     "name": "stdout",
     "output_type": "stream",
     "text": [
      "35 . video_35 no. of frames= 4700.0 Output dimension= (293, 1024)\n"
     ]
    },
    {
     "name": "stderr",
     "output_type": "stream",
     "text": [
      " 48%|███████████████████████████████████████▎                                          | 36/75 [20:55<18:43, 28.80s/it]"
     ]
    },
    {
     "name": "stdout",
     "output_type": "stream",
     "text": [
      "36 . video_36 no. of frames= 2500.0 Output dimension= (156, 1024)\n"
     ]
    },
    {
     "name": "stderr",
     "output_type": "stream",
     "text": [
      " 49%|████████████████████████████████████████▍                                         | 37/75 [22:07<26:30, 41.85s/it]"
     ]
    },
    {
     "name": "stdout",
     "output_type": "stream",
     "text": [
      "37 . video_37 no. of frames= 14019.0 Output dimension= (876, 1024)\n"
     ]
    },
    {
     "name": "stderr",
     "output_type": "stream",
     "text": [
      " 51%|█████████████████████████████████████████▌                                        | 38/75 [22:39<23:59, 38.90s/it]"
     ]
    },
    {
     "name": "stdout",
     "output_type": "stream",
     "text": [
      "38 . video_38 no. of frames= 5971.0 Output dimension= (373, 1024)\n"
     ]
    },
    {
     "name": "stderr",
     "output_type": "stream",
     "text": [
      " 52%|██████████████████████████████████████████▋                                       | 39/75 [23:03<20:32, 34.24s/it]"
     ]
    },
    {
     "name": "stdout",
     "output_type": "stream",
     "text": [
      "39 . video_39 no. of frames= 4304.0 Output dimension= (269, 1024)\n"
     ]
    },
    {
     "name": "stderr",
     "output_type": "stream",
     "text": [
      " 53%|███████████████████████████████████████████▋                                      | 40/75 [23:18<16:40, 28.58s/it]"
     ]
    },
    {
     "name": "stdout",
     "output_type": "stream",
     "text": [
      "40 . video_40 no. of frames= 3802.0 Output dimension= (237, 1024)\n"
     ]
    },
    {
     "name": "stderr",
     "output_type": "stream",
     "text": [
      " 55%|████████████████████████████████████████████▊                                     | 41/75 [23:23<12:08, 21.43s/it]"
     ]
    },
    {
     "name": "stdout",
     "output_type": "stream",
     "text": [
      "41 . video_41 no. of frames= 950.0 Output dimension= (59, 1024)\n"
     ]
    },
    {
     "name": "stderr",
     "output_type": "stream",
     "text": [
      " 56%|█████████████████████████████████████████████▉                                    | 42/75 [23:49<12:30, 22.74s/it]"
     ]
    },
    {
     "name": "stdout",
     "output_type": "stream",
     "text": [
      "42 . video_42 no. of frames= 3187.0 Output dimension= (199, 1024)\n"
     ]
    },
    {
     "name": "stderr",
     "output_type": "stream",
     "text": [
      " 57%|███████████████████████████████████████████████                                   | 43/75 [24:08<11:38, 21.84s/it]"
     ]
    },
    {
     "name": "stdout",
     "output_type": "stream",
     "text": [
      "43 . video_43 no. of frames= 3896.0 Output dimension= (243, 1024)\n"
     ]
    },
    {
     "name": "stderr",
     "output_type": "stream",
     "text": [
      " 59%|████████████████████████████████████████████████                                  | 44/75 [24:40<12:51, 24.87s/it]"
     ]
    },
    {
     "name": "stdout",
     "output_type": "stream",
     "text": [
      "44 . video_44 no. of frames= 6241.0 Output dimension= (390, 1024)\n"
     ]
    },
    {
     "name": "stderr",
     "output_type": "stream",
     "text": [
      " 60%|█████████████████████████████████████████████████▏                                | 45/75 [25:34<16:41, 33.38s/it]"
     ]
    },
    {
     "name": "stdout",
     "output_type": "stream",
     "text": [
      "45 . video_45 no. of frames= 4608.0 Output dimension= (288, 1024)\n"
     ]
    },
    {
     "name": "stderr",
     "output_type": "stream",
     "text": [
      " 61%|██████████████████████████████████████████████████▎                               | 46/75 [25:59<14:56, 30.93s/it]"
     ]
    },
    {
     "name": "stdout",
     "output_type": "stream",
     "text": [
      "46 . video_46 no. of frames= 4740.0 Output dimension= (296, 1024)\n"
     ]
    },
    {
     "name": "stderr",
     "output_type": "stream",
     "text": [
      " 63%|███████████████████████████████████████████████████▍                              | 47/75 [27:02<18:55, 40.54s/it]"
     ]
    },
    {
     "name": "stdout",
     "output_type": "stream",
     "text": [
      "47 . video_47 no. of frames= 11414.0 Output dimension= (713, 1024)\n"
     ]
    },
    {
     "name": "stderr",
     "output_type": "stream",
     "text": [
      " 64%|████████████████████████████████████████████████████▍                             | 48/75 [27:52<19:30, 43.35s/it]"
     ]
    },
    {
     "name": "stdout",
     "output_type": "stream",
     "text": [
      "48 . video_48 no. of frames= 6096.0 Output dimension= (381, 1024)\n"
     ]
    },
    {
     "name": "stderr",
     "output_type": "stream",
     "text": [
      " 65%|█████████████████████████████████████████████████████▌                            | 49/75 [28:03<14:34, 33.63s/it]"
     ]
    },
    {
     "name": "stdout",
     "output_type": "stream",
     "text": [
      "49 . video_49 no. of frames= 2574.0 Output dimension= (160, 1024)\n"
     ]
    },
    {
     "name": "stderr",
     "output_type": "stream",
     "text": [
      " 67%|██████████████████████████████████████████████████████▋                           | 50/75 [28:37<14:03, 33.74s/it]"
     ]
    },
    {
     "name": "stdout",
     "output_type": "stream",
     "text": [
      "50 . video_50 no. of frames= 6580.0 Output dimension= (411, 1024)\n"
     ]
    },
    {
     "name": "stderr",
     "output_type": "stream",
     "text": [
      " 68%|███████████████████████████████████████████████████████▊                          | 51/75 [28:48<10:50, 27.12s/it]"
     ]
    },
    {
     "name": "stdout",
     "output_type": "stream",
     "text": [
      "51 . video_51 no. of frames= 3119.0 Output dimension= (194, 1024)\n"
     ]
    },
    {
     "name": "stderr",
     "output_type": "stream",
     "text": [
      " 69%|████████████████████████████████████████████████████████▊                         | 52/75 [29:01<08:41, 22.66s/it]"
     ]
    },
    {
     "name": "stdout",
     "output_type": "stream",
     "text": [
      "52 . video_52 no. of frames= 3065.0 Output dimension= (191, 1024)\n"
     ]
    },
    {
     "name": "stderr",
     "output_type": "stream",
     "text": [
      " 71%|█████████████████████████████████████████████████████████▉                        | 53/75 [29:43<10:27, 28.50s/it]"
     ]
    },
    {
     "name": "stdout",
     "output_type": "stream",
     "text": [
      "53 . video_53 no. of frames= 8073.0 Output dimension= (504, 1024)\n"
     ]
    },
    {
     "name": "stderr",
     "output_type": "stream",
     "text": [
      " 72%|███████████████████████████████████████████████████████████                       | 54/75 [30:40<12:57, 37.04s/it]"
     ]
    },
    {
     "name": "stdout",
     "output_type": "stream",
     "text": [
      "54 . video_54 no. of frames= 10917.0 Output dimension= (682, 1024)\n"
     ]
    },
    {
     "name": "stderr",
     "output_type": "stream",
     "text": [
      " 73%|████████████████████████████████████████████████████████████▏                     | 55/75 [31:19<12:34, 37.70s/it]"
     ]
    },
    {
     "name": "stdout",
     "output_type": "stream",
     "text": [
      "55 . video_55 no. of frames= 6683.0 Output dimension= (417, 1024)\n"
     ]
    },
    {
     "name": "stderr",
     "output_type": "stream",
     "text": [
      " 75%|█████████████████████████████████████████████████████████████▏                    | 56/75 [31:36<09:57, 31.44s/it]"
     ]
    },
    {
     "name": "stdout",
     "output_type": "stream",
     "text": [
      "56 . video_56 no. of frames= 2221.0 Output dimension= (138, 1024)\n"
     ]
    },
    {
     "name": "stderr",
     "output_type": "stream",
     "text": [
      " 76%|██████████████████████████████████████████████████████████████▎                   | 57/75 [31:52<08:02, 26.82s/it]"
     ]
    },
    {
     "name": "stdout",
     "output_type": "stream",
     "text": [
      "57 . video_57 no. of frames= 4166.0 Output dimension= (260, 1024)\n"
     ]
    },
    {
     "name": "stderr",
     "output_type": "stream",
     "text": [
      " 77%|███████████████████████████████████████████████████████████████▍                  | 58/75 [32:02<06:11, 21.88s/it]"
     ]
    },
    {
     "name": "stdout",
     "output_type": "stream",
     "text": [
      "58 . video_58 no. of frames= 1751.0 Output dimension= (109, 1024)\n"
     ]
    },
    {
     "name": "stderr",
     "output_type": "stream",
     "text": [
      " 79%|████████████████████████████████████████████████████████████████▌                 | 59/75 [32:18<05:22, 20.19s/it]"
     ]
    },
    {
     "name": "stdout",
     "output_type": "stream",
     "text": [
      "59 . video_59 no. of frames= 3863.0 Output dimension= (241, 1024)\n"
     ]
    },
    {
     "name": "stderr",
     "output_type": "stream",
     "text": [
      " 80%|█████████████████████████████████████████████████████████████████▌                | 60/75 [32:41<05:15, 21.01s/it]"
     ]
    },
    {
     "name": "stdout",
     "output_type": "stream",
     "text": [
      "60 . video_60 no. of frames= 4468.0 Output dimension= (279, 1024)\n"
     ]
    },
    {
     "name": "stderr",
     "output_type": "stream",
     "text": [
      " 81%|██████████████████████████████████████████████████████████████████▋               | 61/75 [33:02<04:50, 20.78s/it]"
     ]
    },
    {
     "name": "stdout",
     "output_type": "stream",
     "text": [
      "61 . video_61 no. of frames= 4009.0 Output dimension= (250, 1024)\n"
     ]
    },
    {
     "name": "stderr",
     "output_type": "stream",
     "text": [
      " 83%|███████████████████████████████████████████████████████████████████▊              | 62/75 [34:18<08:06, 37.44s/it]"
     ]
    },
    {
     "name": "stdout",
     "output_type": "stream",
     "text": [
      "62 . video_62 no. of frames= 9672.0 Output dimension= (604, 1024)\n"
     ]
    },
    {
     "name": "stderr",
     "output_type": "stream",
     "text": [
      " 84%|████████████████████████████████████████████████████████████████████▉             | 63/75 [35:00<07:44, 38.73s/it]"
     ]
    },
    {
     "name": "stdout",
     "output_type": "stream",
     "text": [
      "63 . video_63 no. of frames= 5178.0 Output dimension= (323, 1024)\n"
     ]
    },
    {
     "name": "stderr",
     "output_type": "stream",
     "text": [
      " 85%|█████████████████████████████████████████████████████████████████████▉            | 64/75 [35:39<07:06, 38.80s/it]"
     ]
    },
    {
     "name": "stdout",
     "output_type": "stream",
     "text": [
      "64 . video_64 no. of frames= 9870.0 Output dimension= (616, 1024)\n"
     ]
    },
    {
     "name": "stderr",
     "output_type": "stream",
     "text": [
      " 87%|███████████████████████████████████████████████████████████████████████           | 65/75 [36:07<05:55, 35.59s/it]"
     ]
    },
    {
     "name": "stdout",
     "output_type": "stream",
     "text": [
      "65 . video_65 no. of frames= 5412.0 Output dimension= (338, 1024)\n"
     ]
    },
    {
     "name": "stderr",
     "output_type": "stream",
     "text": [
      " 88%|████████████████████████████████████████████████████████████████████████▏         | 66/75 [36:56<05:58, 39.80s/it]"
     ]
    },
    {
     "name": "stdout",
     "output_type": "stream",
     "text": [
      "66 . video_66 no. of frames= 9535.0 Output dimension= (595, 1024)\n"
     ]
    },
    {
     "name": "stderr",
     "output_type": "stream",
     "text": [
      " 89%|█████████████████████████████████████████████████████████████████████████▎        | 67/75 [37:37<05:19, 39.98s/it]"
     ]
    },
    {
     "name": "stdout",
     "output_type": "stream",
     "text": [
      "67 . video_67 no. of frames= 7959.0 Output dimension= (497, 1024)\n"
     ]
    },
    {
     "name": "stderr",
     "output_type": "stream",
     "text": [
      " 91%|██████████████████████████████████████████████████████████████████████████▎       | 68/75 [38:06<04:16, 36.66s/it]"
     ]
    },
    {
     "name": "stdout",
     "output_type": "stream",
     "text": [
      "68 . video_68 no. of frames= 5631.0 Output dimension= (351, 1024)\n"
     ]
    },
    {
     "name": "stderr",
     "output_type": "stream",
     "text": [
      " 92%|███████████████████████████████████████████████████████████████████████████▍      | 69/75 [39:13<04:36, 46.04s/it]"
     ]
    },
    {
     "name": "stdout",
     "output_type": "stream",
     "text": [
      "69 . video_69 no. of frames= 13365.0 Output dimension= (835, 1024)\n"
     ]
    },
    {
     "name": "stderr",
     "output_type": "stream",
     "text": [
      " 93%|████████████████████████████████████████████████████████████████████████████▌     | 70/75 [39:49<03:34, 42.96s/it]"
     ]
    },
    {
     "name": "stdout",
     "output_type": "stream",
     "text": [
      "70 . video_70 no. of frames= 7010.0 Output dimension= (438, 1024)\n"
     ]
    },
    {
     "name": "stderr",
     "output_type": "stream",
     "text": [
      " 95%|█████████████████████████████████████████████████████████████████████████████▋    | 71/75 [40:06<02:19, 35.00s/it]"
     ]
    },
    {
     "name": "stdout",
     "output_type": "stream",
     "text": [
      "71 . video_71 no. of frames= 4324.0 Output dimension= (270, 1024)\n"
     ]
    },
    {
     "name": "stderr",
     "output_type": "stream",
     "text": [
      " 96%|██████████████████████████████████████████████████████████████████████████████▋   | 72/75 [40:23<01:28, 29.62s/it]"
     ]
    },
    {
     "name": "stdout",
     "output_type": "stream",
     "text": [
      "72 . video_72 no. of frames= 3327.0 Output dimension= (207, 1024)\n"
     ]
    },
    {
     "name": "stderr",
     "output_type": "stream",
     "text": [
      " 97%|███████████████████████████████████████████████████████████████████████████████▊  | 73/75 [41:12<01:11, 35.60s/it]"
     ]
    },
    {
     "name": "stdout",
     "output_type": "stream",
     "text": [
      "73 . video_73 no. of frames= 9731.0 Output dimension= (608, 1024)\n"
     ]
    },
    {
     "name": "stderr",
     "output_type": "stream",
     "text": [
      " 99%|████████████████████████████████████████████████████████████████████████████████▉ | 74/75 [41:55<00:37, 37.85s/it]"
     ]
    },
    {
     "name": "stdout",
     "output_type": "stream",
     "text": [
      "74 . video_74 no. of frames= 8281.0 Output dimension= (517, 1024)\n"
     ]
    },
    {
     "name": "stderr",
     "output_type": "stream",
     "text": [
      "100%|██████████████████████████████████████████████████████████████████████████████████| 75/75 [42:18<00:00, 33.85s/it]"
     ]
    },
    {
     "name": "stdout",
     "output_type": "stream",
     "text": [
      "75 . video_75 no. of frames= 4463.0 Output dimension= (278, 1024)\n"
     ]
    },
    {
     "name": "stderr",
     "output_type": "stream",
     "text": [
      "\n"
     ]
    }
   ],
   "source": [
    "feature_extraction.extract_features(videos_path='E:/annotated_dataset/videos', h5output_path='../coot-videotext-master/NEW/data/youcook2/'+'/GoogLenetFeats.h5')"
   ]
  },
  {
   "cell_type": "markdown",
   "id": "b37b5575-eb83-4af0-bbdf-c99d73279472",
   "metadata": {},
   "source": [
    "#### Segmentation"
   ]
  },
  {
   "cell_type": "code",
   "execution_count": 4,
   "id": "06c422c2-e9df-470a-9e4c-9853a71669d2",
   "metadata": {},
   "outputs": [
    {
     "name": "stdout",
     "output_type": "stream",
     "text": [
      "71\n",
      "Precomputing scatters...\n",
      "Inferring best change points...\n",
      "Precomputing scatters...\n",
      "Inferring best change points...\n",
      "video_1 141.28 71 (72, 2)\n",
      "98\n",
      "Precomputing scatters...\n",
      "Inferring best change points...\n",
      "Precomputing scatters...\n",
      "Inferring best change points...\n",
      "video_2 194.12 98 (99, 2)\n",
      "277\n",
      "Precomputing scatters...\n",
      "Inferring best change points...\n",
      "Precomputing scatters...\n",
      "Inferring best change points...\n",
      "video_3 552.5 277 (278, 2)\n",
      "111\n",
      "Precomputing scatters...\n",
      "Inferring best change points...\n",
      "Precomputing scatters...\n",
      "Inferring best change points...\n",
      "video_4 221.66666666666666 111 (112, 2)\n"
     ]
    }
   ],
   "source": [
    "KTS_Segmentation.gen_cps('Preprocessing/extracted_features/normal'+'/Test1.h5')"
   ]
  },
  {
   "cell_type": "markdown",
   "id": "35fb4a61-6409-4059-8098-f58968cfe264",
   "metadata": {},
   "source": [
    "#### Audio Feature Ectraction"
   ]
  },
  {
   "cell_type": "code",
   "execution_count": 7,
   "id": "e9791c48-516c-4fdb-bff4-8d5dcb0419fd",
   "metadata": {},
   "outputs": [
    {
     "name": "stdout",
     "output_type": "stream",
     "text": [
      "Extracting Audio Feature from :  video_1\n"
     ]
    },
    {
     "name": "stderr",
     "output_type": "stream",
     "text": [
      "100%|██████████| 235/235 [00:09<00:00, 25.60it/s]\n"
     ]
    },
    {
     "name": "stdout",
     "output_type": "stream",
     "text": [
      "Feature Shape:  (235, 128)\n",
      "Extracting Audio Feature from :  video_2\n"
     ]
    },
    {
     "name": "stderr",
     "output_type": "stream",
     "text": [
      "100%|██████████| 323/323 [00:13<00:00, 24.80it/s]\n"
     ]
    },
    {
     "name": "stdout",
     "output_type": "stream",
     "text": [
      "Feature Shape:  (323, 128)\n",
      "Extracting Audio Feature from :  video_3\n"
     ]
    },
    {
     "name": "stderr",
     "output_type": "stream",
     "text": [
      "100%|██████████| 884/884 [00:33<00:00, 26.07it/s]\n"
     ]
    },
    {
     "name": "stdout",
     "output_type": "stream",
     "text": [
      "Feature Shape:  (884, 128)\n",
      "Extracting Audio Feature from :  video_4\n"
     ]
    },
    {
     "name": "stderr",
     "output_type": "stream",
     "text": [
      "100%|██████████| 354/354 [00:13<00:00, 25.99it/s]"
     ]
    },
    {
     "name": "stdout",
     "output_type": "stream",
     "text": [
      "Feature Shape:  (354, 128)\n"
     ]
    },
    {
     "name": "stderr",
     "output_type": "stream",
     "text": [
      "\n"
     ]
    }
   ],
   "source": [
    "args={\n",
    "    'output_h5':'Preprocessing/extracted_features/normal/Test1.h5',\n",
    "    'video_folder':'data/Custom dataset/'\n",
    "}\n",
    "\n",
    "Audio_feature.extract_audio_feats(args)"
   ]
  },
  {
   "cell_type": "code",
   "execution_count": null,
   "id": "ddca206c-9ef5-4acf-bc5c-e361bf9f0797",
   "metadata": {},
   "outputs": [],
   "source": []
  },
  {
   "cell_type": "markdown",
   "id": "d88b807a-c283-4dda-9c06-f99a4e11af6b",
   "metadata": {},
   "source": [
    "#### Predict"
   ]
  },
  {
   "cell_type": "code",
   "execution_count": 11,
   "id": "9a748fa3-f5dc-47e7-befc-d6474e0137ca",
   "metadata": {},
   "outputs": [],
   "source": [
    "args={\n",
    "    'verbose':True,\n",
    "    'use_cuda':False,\n",
    "    'cuda_device':0,\n",
    "    'max_summary_length':0.15,\n",
    "    'featuresH5':h5file_path,\n",
    "    'SegH5':h5file_path,\n",
    "    'splits':None,\n",
    "    \"train\" : False,\n",
    "    \"model_path\" : 'Model/vasnet/models/tvsum_splits_4_0.5941821875878188.tar.pth', \n",
    "    \"dataset_name\": 'tvsum',\n",
    "    \"results_path\": 'results/test_results_normal.h5',\n",
    "    \"ifgetScore\": False\n",
    "}"
   ]
  },
  {
   "cell_type": "code",
   "execution_count": 23,
   "id": "fb6e0bec-a572-43d1-a056-4e0bffc26571",
   "metadata": {},
   "outputs": [
    {
     "ename": "AttributeError",
     "evalue": "module 'Model.vasnet.Evaluation' has no attribute 'Evaluation'",
     "output_type": "error",
     "traceback": [
      "\u001b[1;31m---------------------------------------------------------------------------\u001b[0m",
      "\u001b[1;31mAttributeError\u001b[0m                            Traceback (most recent call last)",
      "Input \u001b[1;32mIn [23]\u001b[0m, in \u001b[0;36m<cell line: 1>\u001b[1;34m()\u001b[0m\n\u001b[1;32m----> 1\u001b[0m evaluator \u001b[38;5;241m=\u001b[39m \u001b[43mEvaluation\u001b[49m\u001b[38;5;241;43m.\u001b[39;49m\u001b[43mEvaluation\u001b[49m(args)\n\u001b[0;32m      2\u001b[0m evaluator\u001b[38;5;241m.\u001b[39minit_model()\n\u001b[0;32m      3\u001b[0m evaluator\u001b[38;5;241m.\u001b[39mpredict()\n",
      "\u001b[1;31mAttributeError\u001b[0m: module 'Model.vasnet.Evaluation' has no attribute 'Evaluation'"
     ]
    }
   ],
   "source": [
    "evaluator = Evaluation.Evaluation(args)\n",
    "evaluator.init_model()\n",
    "evaluator.predict()"
   ]
  }
 ],
 "metadata": {
  "kernelspec": {
   "display_name": "Python 3 (ipykernel)",
   "language": "python",
   "name": "python3"
  },
  "language_info": {
   "codemirror_mode": {
    "name": "ipython",
    "version": 3
   },
   "file_extension": ".py",
   "mimetype": "text/x-python",
   "name": "python",
   "nbconvert_exporter": "python",
   "pygments_lexer": "ipython3",
   "version": "3.9.12"
  }
 },
 "nbformat": 4,
 "nbformat_minor": 5
}
