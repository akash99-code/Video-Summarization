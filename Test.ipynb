{
 "cells": [
  {
   "cell_type": "markdown",
   "id": "e8cc0e5f-3cdb-4bda-a886-7d0eb934fce5",
   "metadata": {},
   "source": [
    "## Test"
   ]
  },
  {
   "cell_type": "code",
   "execution_count": 3,
   "id": "3c0572e9-a3b0-46ef-91b2-89c51419da99",
   "metadata": {},
   "outputs": [],
   "source": [
    "import import_ipynb\n",
    "from Preprocessing import feature_extraction\n",
    "from Segmentation.KTS import KTS_Segmentation\n",
    "# from Model.vasnet.Model import VASNet\n",
    "# from Model.vasnet import Evaluation"
   ]
  },
  {
   "cell_type": "markdown",
   "id": "a2b3018c-e278-4e93-912c-d927edf466a9",
   "metadata": {},
   "source": [
    "#### Feature Extraction"
   ]
  },
  {
   "cell_type": "code",
   "execution_count": 2,
   "id": "7fb8bc23-6435-4023-9ad0-16816bc47e74",
   "metadata": {},
   "outputs": [],
   "source": [
    "h5file_path = 'Preprocessing/extracted_features/normal'+'/Test1.h5'"
   ]
  },
  {
   "cell_type": "code",
   "execution_count": 3,
   "id": "46eb1546-060f-4301-a5e3-31413d416cbc",
   "metadata": {},
   "outputs": [
    {
     "name": "stderr",
     "output_type": "stream",
     "text": [
      "100%|██████████| 1/1 [01:49<00:00, 109.83s/it]"
     ]
    },
    {
     "name": "stdout",
     "output_type": "stream",
     "text": [
      "1 . video_1 no. of frames= 4225.0 Output dimension= (281, 1024)\n"
     ]
    },
    {
     "name": "stderr",
     "output_type": "stream",
     "text": [
      "\n"
     ]
    }
   ],
   "source": [
    "feature_extraction.extract_features(videos_path='data/Custom dataset/', h5output_path='Preprocessing/extracted_features/normal'+'/Test1.h5')"
   ]
  },
  {
   "cell_type": "markdown",
   "id": "9f07777e-48e6-4890-8a80-21aab7a692b6",
   "metadata": {},
   "source": [
    "#### test 2"
   ]
  },
  {
   "cell_type": "code",
   "execution_count": 5,
   "id": "1e90b094-63f9-4fca-bbb5-dc32db4aefdc",
   "metadata": {},
   "outputs": [
    {
     "name": "stderr",
     "output_type": "stream",
     "text": [
      "100%|██████████| 1/1 [05:26<00:00, 326.27s/it]"
     ]
    },
    {
     "name": "stdout",
     "output_type": "stream",
     "text": [
      "1 . video_1 no. of frames= 13016.0 Output dimension= (867, 1024)\n"
     ]
    },
    {
     "name": "stderr",
     "output_type": "stream",
     "text": [
      "\n"
     ]
    }
   ],
   "source": [
    "feature_extraction.extract_features(videos_path='data/Custom dataset/', h5output_path='Preprocessing/extracted_features/normal'+'/Test3.h5')"
   ]
  },
  {
   "cell_type": "markdown",
   "id": "be5012bd-aa29-4598-81da-7127f6e3452f",
   "metadata": {},
   "source": [
    "##### Test 2"
   ]
  },
  {
   "cell_type": "code",
   "execution_count": null,
   "id": "ab866792-d9aa-46c0-9969-a7a3d9a79560",
   "metadata": {},
   "outputs": [],
   "source": [
    "tvsum_data = public_dataset_path+'/ydata-tvsum50-v1_1'\n",
    "normalFt_path = features_path+'/normal'\n",
    "h5file_path = 'Preprocessing/extracted_features/normal'+'/Test1.h5'\n",
    "feature_extraction.extract_features(videos_path=tvsum_data+'/video', h5output_path='Preprocessing/extracted_features/normal'+'/Test1.h5', names=vnames)"
   ]
  },
  {
   "cell_type": "markdown",
   "id": "e7722ac2-7970-446d-9000-44d888ae4ac3",
   "metadata": {},
   "source": [
    "#### Test 4"
   ]
  },
  {
   "cell_type": "code",
   "execution_count": 8,
   "id": "942ecf66-47ae-4727-a9d4-db85257553dd",
   "metadata": {},
   "outputs": [
    {
     "name": "stderr",
     "output_type": "stream",
     "text": [
      "100%|██████████| 1/1 [01:29<00:00, 89.89s/it]"
     ]
    },
    {
     "name": "stdout",
     "output_type": "stream",
     "text": [
      "1 . video_1 no. of frames= 5783.0 Output dimension= (385, 1024)\n"
     ]
    },
    {
     "name": "stderr",
     "output_type": "stream",
     "text": [
      "\n"
     ]
    }
   ],
   "source": [
    "feature_extraction.extract_features(videos_path='data/Custom dataset/', h5output_path='Preprocessing/extracted_features/normal'+'/Test4.h5')"
   ]
  },
  {
   "cell_type": "markdown",
   "id": "b37b5575-eb83-4af0-bbdf-c99d73279472",
   "metadata": {},
   "source": [
    "#### Segmentation"
   ]
  },
  {
   "cell_type": "code",
   "execution_count": null,
   "id": "06c422c2-e9df-470a-9e4c-9853a71669d2",
   "metadata": {},
   "outputs": [],
   "source": [
    "KTS_Segmentation.gen_cps('Preprocessing/extracted_features/normal'+'/Test4.h5')"
   ]
  },
  {
   "cell_type": "code",
   "execution_count": null,
   "id": "ddca206c-9ef5-4acf-bc5c-e361bf9f0797",
   "metadata": {},
   "outputs": [],
   "source": []
  },
  {
   "cell_type": "markdown",
   "id": "d88b807a-c283-4dda-9c06-f99a4e11af6b",
   "metadata": {},
   "source": [
    "#### Predict"
   ]
  },
  {
   "cell_type": "code",
   "execution_count": 11,
   "id": "9a748fa3-f5dc-47e7-befc-d6474e0137ca",
   "metadata": {},
   "outputs": [],
   "source": [
    "args={\n",
    "    'verbose':True,\n",
    "    'use_cuda':False,\n",
    "    'cuda_device':0,\n",
    "    'max_summary_length':0.15,\n",
    "    'featuresH5':h5file_path,\n",
    "    'SegH5':h5file_path,\n",
    "    'splits':None,\n",
    "    \"train\" : False,\n",
    "    \"model_path\" : 'Model/vasnet/models/tvsum_splits_4_0.5941821875878188.tar.pth', \n",
    "    \"dataset_name\": 'tvsum',\n",
    "    \"results_path\": 'results/test_results_normal.h5',\n",
    "    \"ifgetScore\": False\n",
    "}"
   ]
  },
  {
   "cell_type": "code",
   "execution_count": 23,
   "id": "fb6e0bec-a572-43d1-a056-4e0bffc26571",
   "metadata": {},
   "outputs": [
    {
     "ename": "AttributeError",
     "evalue": "module 'Model.vasnet.Evaluation' has no attribute 'Evaluation'",
     "output_type": "error",
     "traceback": [
      "\u001b[1;31m---------------------------------------------------------------------------\u001b[0m",
      "\u001b[1;31mAttributeError\u001b[0m                            Traceback (most recent call last)",
      "Input \u001b[1;32mIn [23]\u001b[0m, in \u001b[0;36m<cell line: 1>\u001b[1;34m()\u001b[0m\n\u001b[1;32m----> 1\u001b[0m evaluator \u001b[38;5;241m=\u001b[39m \u001b[43mEvaluation\u001b[49m\u001b[38;5;241;43m.\u001b[39;49m\u001b[43mEvaluation\u001b[49m(args)\n\u001b[0;32m      2\u001b[0m evaluator\u001b[38;5;241m.\u001b[39minit_model()\n\u001b[0;32m      3\u001b[0m evaluator\u001b[38;5;241m.\u001b[39mpredict()\n",
      "\u001b[1;31mAttributeError\u001b[0m: module 'Model.vasnet.Evaluation' has no attribute 'Evaluation'"
     ]
    }
   ],
   "source": [
    "evaluator = Evaluation.Evaluation(args)\n",
    "evaluator.init_model()\n",
    "evaluator.predict()"
   ]
  }
 ],
 "metadata": {
  "kernelspec": {
   "display_name": "Python 3 (ipykernel)",
   "language": "python",
   "name": "python3"
  },
  "language_info": {
   "codemirror_mode": {
    "name": "ipython",
    "version": 3
   },
   "file_extension": ".py",
   "mimetype": "text/x-python",
   "name": "python",
   "nbconvert_exporter": "python",
   "pygments_lexer": "ipython3",
   "version": "3.9.12"
  }
 },
 "nbformat": 4,
 "nbformat_minor": 5
}
