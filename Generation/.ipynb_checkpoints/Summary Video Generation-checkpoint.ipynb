{
 "cells": [
  {
   "cell_type": "markdown",
   "id": "38eff490-acbf-401d-9ca3-4c2dfff747dd",
   "metadata": {},
   "source": [
    "## Summary Video Generation "
   ]
  },
  {
   "cell_type": "code",
   "execution_count": 1,
   "id": "876a8c0b-1865-4642-b17e-829539fb0365",
   "metadata": {},
   "outputs": [],
   "source": [
    "import os\n",
    "import pandas as pd\n",
    "import h5py\n",
    "import cv2\n",
    "import numpy as np\n",
    "from moviepy.video.io.VideoFileClip import VideoFileClip\n",
    "from moviepy.editor import concatenate_videoclips\n",
    "import os    \n",
    "# os.environ['KMP_DUPLICATE_LIB_OK'] = 'True'\n",
    "# os.environ[\"FFMPEG_BINARY\"] = \"/path/to/custom/ffmpeg\""
   ]
  },
  {
   "cell_type": "markdown",
   "id": "05a10746-f0b2-454a-ae93-e72e475612df",
   "metadata": {
    "jp-MarkdownHeadingCollapsed": true,
    "tags": []
   },
   "source": [
    "#### )) Util method"
   ]
  },
  {
   "cell_type": "code",
   "execution_count": 2,
   "id": "a757fcb5-e3c6-41eb-b939-adc7b52bea3a",
   "metadata": {},
   "outputs": [],
   "source": [
    "def video_map(key, info_df):\n",
    "    if info_df is None:\n",
    "        return key\n",
    "    name = info_df.loc[int(key.split('_')[1])-1]['video_id']\n",
    "    return name"
   ]
  },
  {
   "cell_type": "markdown",
   "id": "fc94bb3f-621b-452f-a500-9c9c45203902",
   "metadata": {
    "jp-MarkdownHeadingCollapsed": true,
    "tags": []
   },
   "source": [
    "#### )) Pick summary frames"
   ]
  },
  {
   "cell_type": "code",
   "execution_count": 3,
   "id": "e955a405-3e7e-4b8a-aee7-c2b65211dccf",
   "metadata": {},
   "outputs": [],
   "source": [
    "def pick_frames(args):\n",
    "\n",
    "    encoded_summ = args['encode_summary_path']\n",
    "    # s='DSN/models/summe/result4.h5'\n",
    "    with h5py.File(encoded_summ, 'r') as f:\n",
    "        for key in f.keys():       \n",
    "            if key == 'mean_fm':\n",
    "                continue\n",
    "               \n",
    "            if 'video_info' in args:\n",
    "                info_df = pd.read_csv(args['video_info'], sep='\\t')\n",
    "                video_name = video_map(key, info_df)\n",
    "            else:\n",
    "                video_name = f[key+'/video_name'][()].decode().split('.')[0]\n",
    "                \n",
    "            videofile=args['video_folder']+'/'+video_name+'.mp4'\n",
    "            summ_folder=args['output_folder']+'/'+video_name+'/frames/'\n",
    "            \n",
    "            print(key, video_name) \n",
    "            \n",
    "            if not os.path.exists(summ_folder):\n",
    "                os.makedirs(summ_folder)\n",
    "            machine_summary = f[key+'/machine_summary'][()]\n",
    "            camera = cv2.VideoCapture(videofile)\n",
    "            times = 0\n",
    "            c=0\n",
    "            while times<len(machine_summary):\n",
    "                \n",
    "                res, image = camera.read()\n",
    "                if not res:\n",
    "                    print(times)\n",
    "                    break\n",
    "                if machine_summary[times] == 1:\n",
    "                    cv2.imwrite(summ_folder + str(c).zfill(6) + '.jpg', image)\n",
    "                    c+=1\n",
    "                times += 1\n",
    "            \n",
    "            camera.release()\n"
   ]
  },
  {
   "cell_type": "markdown",
   "id": "f9708f47-773d-4e0b-afb6-35dc2bf38ee0",
   "metadata": {
    "jp-MarkdownHeadingCollapsed": true,
    "tags": []
   },
   "source": [
    "#### )) Stich-back videos"
   ]
  },
  {
   "cell_type": "code",
   "execution_count": 4,
   "id": "fb9cf631-e57d-403a-a68b-831b6315c4d5",
   "metadata": {},
   "outputs": [],
   "source": [
    "def generate_video(args):\n",
    "    sum_folders = os.listdir(args['output_folder'])\n",
    "    for file in sum_folders:\n",
    "        p=args['output_folder']+'/'+file+'/'\n",
    "        frms = p+\"frames\"\n",
    "        print(p)\n",
    "        cmd = \"ffmpeg -y -r 24 -i \" + frms+\"/%06d.jpg -c:v libx264 -r 24 -pix_fmt yuv420p \"+args['output_folder']+'/'+file+\".mp4\"\n",
    "        # print(cmd)\n",
    "        command = ( cmd\n",
    "         )\n",
    "        # \"ffmpeg -y -r 15 -i  vasnet_results/%06d.jpg -c:v libx264 -r 30 -pix_fmt yuv420p vasnet_results/ui.mp4\"\n",
    "        os.system(command)\n",
    "# execute the command using os.system\n",
    "\n"
   ]
  },
  {
   "cell_type": "markdown",
   "id": "b21cf379-7aac-453a-b465-dff136ed29ff",
   "metadata": {},
   "source": [
    "#### )) Clip-out video with Audio"
   ]
  },
  {
   "cell_type": "code",
   "execution_count": 2,
   "id": "997813c1-05d5-4c1a-a16a-cd03e334eeba",
   "metadata": {},
   "outputs": [],
   "source": [
    "def clipout_with_audio(args):\n",
    "    encoded_summ = args['encode_summary_path']\n",
    "    summ_folder = args['output_folder']\n",
    "    print(summ_folder)\n",
    "    if not os.path.exists(summ_folder):\n",
    "        os.makedirs(summ_folder)\n",
    "        \n",
    "    with h5py.File(encoded_summ, 'r') as f:\n",
    "        for key in f.keys():  \n",
    "            print(key)\n",
    "            path2video=args['video_folder']+f[key+'/video_name'][()].decode()\n",
    "            video = VideoFileClip(path2video)\n",
    "            fps = video.fps\n",
    "            machine_summary = f[key+'/machine_summary'][()]\n",
    "            start, end = 0,0\n",
    "            summ = list(machine_summary)\n",
    "            l = len(summ)\n",
    "            clips=[]\n",
    "            while end!=l-1:\n",
    "                if 1 not in summ[start:]:\n",
    "                    break\n",
    "                start = summ[start:].index(1)+start\n",
    "                \n",
    "                if 0 not in summ[start:]:\n",
    "                    end = len(summ)\n",
    "                else:\n",
    "                    end = summ[start:].index(0)+start\n",
    "                # clip=video.subclip(start/fps, (end-1)/fps)\n",
    "                clip = video.cutout(0,start/fps).cutout( (end-1)/fps, video.duration)\n",
    "                clips.append(clip)\n",
    "                start=end\n",
    "                # print(start)\n",
    "                \n",
    "            final_clip = concatenate_videoclips(clips)\n",
    "            final_clip.fps = fps\n",
    "            final_clip.write_videofile(summ_folder+'/'+f[key+'/video_name'][()].decode(), fps)    \n",
    "\n",
    "            "
   ]
  },
  {
   "cell_type": "markdown",
   "id": "0d4241b2-d8d6-417f-886f-f2ed265790d5",
   "metadata": {
    "jp-MarkdownHeadingCollapsed": true,
    "tags": []
   },
   "source": [
    "#### )) Genrate Summaries"
   ]
  },
  {
   "cell_type": "markdown",
   "id": "b23f5a2d-d0bd-4f1a-b64b-8bacd0f01316",
   "metadata": {},
   "source": [
    "*On Prebuilt features*"
   ]
  },
  {
   "cell_type": "code",
   "execution_count": 5,
   "id": "4bc25afd-8931-4faf-9b80-db234d38a837",
   "metadata": {},
   "outputs": [],
   "source": [
    "args={\n",
    "    'encode_summary_path':'../Model/vasnet/results/tvsum_results.h5',\n",
    "    'video_folder':'../data/Public datasets/ydata-tvsum50-v1_1/video',\n",
    "    'video_info':'../data/Public datasets/ydata-tvsum50-v1_1/data/ydata-tvsum50-info.tsv',\n",
    "    'output_folder': 'generated_summary/tvsum_summs'\n",
    "    \n",
    "}"
   ]
  },
  {
   "cell_type": "code",
   "execution_count": 48,
   "id": "5a32d170-01ba-4cc5-a21f-baaba3d1d4a3",
   "metadata": {
    "collapsed": true,
    "jupyter": {
     "outputs_hidden": true
    },
    "tags": []
   },
   "outputs": [
    {
     "name": "stdout",
     "output_type": "stream",
     "text": [
      "video_1 AwmHb44_ouw\n",
      "video_10 akI8YFjEmUw\n",
      "video_11 i3wAGJaaktw\n",
      "video_12 Bhxk-O1Y7Ho\n",
      "video_13 0tmA_C6XwfM\n",
      "video_14 3eYKfiOEJNs\n",
      "video_15 xxdtq8mxegs\n",
      "video_16 WG0MBPpPC6I\n",
      "video_17 Hl-__g2gn_A\n",
      "video_18 Yi4Ij2NM7U4\n",
      "video_19 37rzWOQsNIw\n",
      "video_2 98MoyGZKHXc\n",
      "video_20 LRw_obCPUt0\n",
      "video_21 cjibtmSLxQ4\n",
      "video_22 b626MiF1ew4\n",
      "video_23 XkqCExn6_Us\n",
      "video_24 GsAD1KT1xo8\n",
      "video_25 PJrm840pAUI\n",
      "video_26 91IHQYk1IQM\n",
      "video_27 RBCABdttQmI\n",
      "video_28 z_6gVvQb2d0\n",
      "video_29 fWutDQy1nnY\n",
      "video_3 J0nA4VgnoCo\n",
      "video_30 4wU_LUjG5Ic\n",
      "video_31 VuWGsYPqAX8\n",
      "video_32 JKpqYvAdIsw\n",
      "video_33 xmEERLqJ2kU\n",
      "video_34 byxOvuiIJV0\n",
      "video_35 _xMr-HKMfVA\n",
      "video_36 WxtbjNsCQ8A\n",
      "video_37 uGu_10sucQo\n",
      "video_38 EE-bNr36nyA\n",
      "video_39 Se3oxnaPsz0\n",
      "video_4 gzDbaEs1Rlg\n",
      "video_40 oDXZc0tZe04\n",
      "video_41 qqR6AEXwxoQ\n",
      "video_42 EYqVtI9YWJA\n",
      "video_43 eQu1rNs0an0\n",
      "video_44 JgHubY5Vw3Y\n",
      "video_45 iVt07TCkFM0\n",
      "video_46 E11zDS9XGzg\n",
      "video_47 NyBmCxDoHJU\n",
      "video_48 kLxoNp-UchI\n",
      "video_49 jcoYJXDG9sw\n",
      "video_5 XzYM3PfTM4w\n",
      "video_50 -esJrBWj2d8\n",
      "video_6 HT5vyqe0Xaw\n",
      "video_7 sTEELN-vY30\n",
      "video_8 vdmoEJ5YbrQ\n",
      "video_9 xwqBXPGE9pQ\n"
     ]
    }
   ],
   "source": [
    "pick_frames(args)"
   ]
  },
  {
   "cell_type": "code",
   "execution_count": 49,
   "id": "89855e07-b515-4c69-b118-7d1cc67aee43",
   "metadata": {
    "collapsed": true,
    "jupyter": {
     "outputs_hidden": true
    },
    "tags": []
   },
   "outputs": [
    {
     "name": "stdout",
     "output_type": "stream",
     "text": [
      "ffmpeg -y -r 30 -i generated_summary/tvsum_summs/-esJrBWj2d8/frames/%06d.jpg -c:v libx264 -r 30 -pix_fmt yuv420p generated_summary/tvsum_summs/-esJrBWj2d8.mp4\n",
      "ffmpeg -y -r 30 -i generated_summary/tvsum_summs/0tmA_C6XwfM/frames/%06d.jpg -c:v libx264 -r 30 -pix_fmt yuv420p generated_summary/tvsum_summs/0tmA_C6XwfM.mp4\n",
      "ffmpeg -y -r 30 -i generated_summary/tvsum_summs/37rzWOQsNIw/frames/%06d.jpg -c:v libx264 -r 30 -pix_fmt yuv420p generated_summary/tvsum_summs/37rzWOQsNIw.mp4\n",
      "ffmpeg -y -r 30 -i generated_summary/tvsum_summs/3eYKfiOEJNs/frames/%06d.jpg -c:v libx264 -r 30 -pix_fmt yuv420p generated_summary/tvsum_summs/3eYKfiOEJNs.mp4\n",
      "ffmpeg -y -r 30 -i generated_summary/tvsum_summs/4wU_LUjG5Ic/frames/%06d.jpg -c:v libx264 -r 30 -pix_fmt yuv420p generated_summary/tvsum_summs/4wU_LUjG5Ic.mp4\n",
      "ffmpeg -y -r 30 -i generated_summary/tvsum_summs/91IHQYk1IQM/frames/%06d.jpg -c:v libx264 -r 30 -pix_fmt yuv420p generated_summary/tvsum_summs/91IHQYk1IQM.mp4\n",
      "ffmpeg -y -r 30 -i generated_summary/tvsum_summs/98MoyGZKHXc/frames/%06d.jpg -c:v libx264 -r 30 -pix_fmt yuv420p generated_summary/tvsum_summs/98MoyGZKHXc.mp4\n",
      "ffmpeg -y -r 30 -i generated_summary/tvsum_summs/akI8YFjEmUw/frames/%06d.jpg -c:v libx264 -r 30 -pix_fmt yuv420p generated_summary/tvsum_summs/akI8YFjEmUw.mp4\n",
      "ffmpeg -y -r 30 -i generated_summary/tvsum_summs/AwmHb44_ouw/frames/%06d.jpg -c:v libx264 -r 30 -pix_fmt yuv420p generated_summary/tvsum_summs/AwmHb44_ouw.mp4\n",
      "ffmpeg -y -r 30 -i generated_summary/tvsum_summs/b626MiF1ew4/frames/%06d.jpg -c:v libx264 -r 30 -pix_fmt yuv420p generated_summary/tvsum_summs/b626MiF1ew4.mp4\n",
      "ffmpeg -y -r 30 -i generated_summary/tvsum_summs/Bhxk-O1Y7Ho/frames/%06d.jpg -c:v libx264 -r 30 -pix_fmt yuv420p generated_summary/tvsum_summs/Bhxk-O1Y7Ho.mp4\n",
      "ffmpeg -y -r 30 -i generated_summary/tvsum_summs/byxOvuiIJV0/frames/%06d.jpg -c:v libx264 -r 30 -pix_fmt yuv420p generated_summary/tvsum_summs/byxOvuiIJV0.mp4\n",
      "ffmpeg -y -r 30 -i generated_summary/tvsum_summs/cjibtmSLxQ4/frames/%06d.jpg -c:v libx264 -r 30 -pix_fmt yuv420p generated_summary/tvsum_summs/cjibtmSLxQ4.mp4\n",
      "ffmpeg -y -r 30 -i generated_summary/tvsum_summs/E11zDS9XGzg/frames/%06d.jpg -c:v libx264 -r 30 -pix_fmt yuv420p generated_summary/tvsum_summs/E11zDS9XGzg.mp4\n",
      "ffmpeg -y -r 30 -i generated_summary/tvsum_summs/EE-bNr36nyA/frames/%06d.jpg -c:v libx264 -r 30 -pix_fmt yuv420p generated_summary/tvsum_summs/EE-bNr36nyA.mp4\n",
      "ffmpeg -y -r 30 -i generated_summary/tvsum_summs/eQu1rNs0an0/frames/%06d.jpg -c:v libx264 -r 30 -pix_fmt yuv420p generated_summary/tvsum_summs/eQu1rNs0an0.mp4\n",
      "ffmpeg -y -r 30 -i generated_summary/tvsum_summs/EYqVtI9YWJA/frames/%06d.jpg -c:v libx264 -r 30 -pix_fmt yuv420p generated_summary/tvsum_summs/EYqVtI9YWJA.mp4\n",
      "ffmpeg -y -r 30 -i generated_summary/tvsum_summs/fWutDQy1nnY/frames/%06d.jpg -c:v libx264 -r 30 -pix_fmt yuv420p generated_summary/tvsum_summs/fWutDQy1nnY.mp4\n",
      "ffmpeg -y -r 30 -i generated_summary/tvsum_summs/GsAD1KT1xo8/frames/%06d.jpg -c:v libx264 -r 30 -pix_fmt yuv420p generated_summary/tvsum_summs/GsAD1KT1xo8.mp4\n",
      "ffmpeg -y -r 30 -i generated_summary/tvsum_summs/gzDbaEs1Rlg/frames/%06d.jpg -c:v libx264 -r 30 -pix_fmt yuv420p generated_summary/tvsum_summs/gzDbaEs1Rlg.mp4\n",
      "ffmpeg -y -r 30 -i generated_summary/tvsum_summs/Hl-__g2gn_A/frames/%06d.jpg -c:v libx264 -r 30 -pix_fmt yuv420p generated_summary/tvsum_summs/Hl-__g2gn_A.mp4\n",
      "ffmpeg -y -r 30 -i generated_summary/tvsum_summs/HT5vyqe0Xaw/frames/%06d.jpg -c:v libx264 -r 30 -pix_fmt yuv420p generated_summary/tvsum_summs/HT5vyqe0Xaw.mp4\n",
      "ffmpeg -y -r 30 -i generated_summary/tvsum_summs/i3wAGJaaktw/frames/%06d.jpg -c:v libx264 -r 30 -pix_fmt yuv420p generated_summary/tvsum_summs/i3wAGJaaktw.mp4\n",
      "ffmpeg -y -r 30 -i generated_summary/tvsum_summs/iVt07TCkFM0/frames/%06d.jpg -c:v libx264 -r 30 -pix_fmt yuv420p generated_summary/tvsum_summs/iVt07TCkFM0.mp4\n",
      "ffmpeg -y -r 30 -i generated_summary/tvsum_summs/J0nA4VgnoCo/frames/%06d.jpg -c:v libx264 -r 30 -pix_fmt yuv420p generated_summary/tvsum_summs/J0nA4VgnoCo.mp4\n",
      "ffmpeg -y -r 30 -i generated_summary/tvsum_summs/jcoYJXDG9sw/frames/%06d.jpg -c:v libx264 -r 30 -pix_fmt yuv420p generated_summary/tvsum_summs/jcoYJXDG9sw.mp4\n",
      "ffmpeg -y -r 30 -i generated_summary/tvsum_summs/JgHubY5Vw3Y/frames/%06d.jpg -c:v libx264 -r 30 -pix_fmt yuv420p generated_summary/tvsum_summs/JgHubY5Vw3Y.mp4\n",
      "ffmpeg -y -r 30 -i generated_summary/tvsum_summs/JKpqYvAdIsw/frames/%06d.jpg -c:v libx264 -r 30 -pix_fmt yuv420p generated_summary/tvsum_summs/JKpqYvAdIsw.mp4\n",
      "ffmpeg -y -r 30 -i generated_summary/tvsum_summs/kLxoNp-UchI/frames/%06d.jpg -c:v libx264 -r 30 -pix_fmt yuv420p generated_summary/tvsum_summs/kLxoNp-UchI.mp4\n",
      "ffmpeg -y -r 30 -i generated_summary/tvsum_summs/LRw_obCPUt0/frames/%06d.jpg -c:v libx264 -r 30 -pix_fmt yuv420p generated_summary/tvsum_summs/LRw_obCPUt0.mp4\n",
      "ffmpeg -y -r 30 -i generated_summary/tvsum_summs/NyBmCxDoHJU/frames/%06d.jpg -c:v libx264 -r 30 -pix_fmt yuv420p generated_summary/tvsum_summs/NyBmCxDoHJU.mp4\n",
      "ffmpeg -y -r 30 -i generated_summary/tvsum_summs/oDXZc0tZe04/frames/%06d.jpg -c:v libx264 -r 30 -pix_fmt yuv420p generated_summary/tvsum_summs/oDXZc0tZe04.mp4\n",
      "ffmpeg -y -r 30 -i generated_summary/tvsum_summs/PJrm840pAUI/frames/%06d.jpg -c:v libx264 -r 30 -pix_fmt yuv420p generated_summary/tvsum_summs/PJrm840pAUI.mp4\n",
      "ffmpeg -y -r 30 -i generated_summary/tvsum_summs/qqR6AEXwxoQ/frames/%06d.jpg -c:v libx264 -r 30 -pix_fmt yuv420p generated_summary/tvsum_summs/qqR6AEXwxoQ.mp4\n",
      "ffmpeg -y -r 30 -i generated_summary/tvsum_summs/RBCABdttQmI/frames/%06d.jpg -c:v libx264 -r 30 -pix_fmt yuv420p generated_summary/tvsum_summs/RBCABdttQmI.mp4\n",
      "ffmpeg -y -r 30 -i generated_summary/tvsum_summs/Se3oxnaPsz0/frames/%06d.jpg -c:v libx264 -r 30 -pix_fmt yuv420p generated_summary/tvsum_summs/Se3oxnaPsz0.mp4\n",
      "ffmpeg -y -r 30 -i generated_summary/tvsum_summs/sTEELN-vY30/frames/%06d.jpg -c:v libx264 -r 30 -pix_fmt yuv420p generated_summary/tvsum_summs/sTEELN-vY30.mp4\n"
     ]
    },
    {
     "ename": "KeyboardInterrupt",
     "evalue": "",
     "output_type": "error",
     "traceback": [
      "\u001b[1;31m---------------------------------------------------------------------------\u001b[0m",
      "\u001b[1;31mKeyboardInterrupt\u001b[0m                         Traceback (most recent call last)",
      "Input \u001b[1;32mIn [49]\u001b[0m, in \u001b[0;36m<cell line: 1>\u001b[1;34m()\u001b[0m\n\u001b[1;32m----> 1\u001b[0m \u001b[43mgenerate_video\u001b[49m\u001b[43m(\u001b[49m\u001b[43margs\u001b[49m\u001b[43m)\u001b[49m\n",
      "Input \u001b[1;32mIn [45]\u001b[0m, in \u001b[0;36mgenerate_video\u001b[1;34m(args)\u001b[0m\n\u001b[0;32m      9\u001b[0m command \u001b[38;5;241m=\u001b[39m ( cmd\n\u001b[0;32m     10\u001b[0m  )\n\u001b[0;32m     11\u001b[0m \u001b[38;5;66;03m# \"ffmpeg -y -r 15 -i  vasnet_results/%06d.jpg -c:v libx264 -r 30 -pix_fmt yuv420p vasnet_results/ui.mp4\"\u001b[39;00m\n\u001b[1;32m---> 12\u001b[0m \u001b[43mos\u001b[49m\u001b[38;5;241;43m.\u001b[39;49m\u001b[43msystem\u001b[49m\u001b[43m(\u001b[49m\u001b[43mcommand\u001b[49m\u001b[43m)\u001b[49m\n",
      "\u001b[1;31mKeyboardInterrupt\u001b[0m: "
     ]
    }
   ],
   "source": [
    "generate_video(args)"
   ]
  },
  {
   "cell_type": "markdown",
   "id": "d6cdbab2-645a-4053-969c-fb28d7492dd7",
   "metadata": {},
   "source": [
    "*On Custom features*"
   ]
  },
  {
   "cell_type": "code",
   "execution_count": 7,
   "id": "3f324a16-47ea-4dc1-8416-5ae7f9434cbf",
   "metadata": {},
   "outputs": [],
   "source": [
    "args={\n",
    "    'encode_summary_path':'../Model/vasnet/results/tvsum_results_normal.h5',\n",
    "    'video_folder':'../data/Public datasets/ydata-tvsum50-v1_1/video',\n",
    "    'video_info':'../data/Public datasets/ydata-tvsum50-v1_1/data/ydata-tvsum50-info.tsv',\n",
    "    'output_folder': 'generated_summary/tvsum_summs_normal'\n",
    "    \n",
    "}"
   ]
  },
  {
   "cell_type": "code",
   "execution_count": 10,
   "id": "3059f133-3965-4c1d-ae09-ebfc1e069cb7",
   "metadata": {},
   "outputs": [
    {
     "name": "stdout",
     "output_type": "stream",
     "text": [
      "video_1 AwmHb44_ouw\n",
      "video_10 akI8YFjEmUw\n"
     ]
    },
    {
     "ename": "KeyboardInterrupt",
     "evalue": "",
     "output_type": "error",
     "traceback": [
      "\u001b[1;31m---------------------------------------------------------------------------\u001b[0m",
      "\u001b[1;31mKeyboardInterrupt\u001b[0m                         Traceback (most recent call last)",
      "Input \u001b[1;32mIn [10]\u001b[0m, in \u001b[0;36m<cell line: 1>\u001b[1;34m()\u001b[0m\n\u001b[1;32m----> 1\u001b[0m \u001b[43mpick_frames\u001b[49m\u001b[43m(\u001b[49m\u001b[43margs\u001b[49m\u001b[43m)\u001b[49m\n",
      "Input \u001b[1;32mIn [5]\u001b[0m, in \u001b[0;36mpick_frames\u001b[1;34m(args)\u001b[0m\n\u001b[0;32m     22\u001b[0m c\u001b[38;5;241m=\u001b[39m\u001b[38;5;241m0\u001b[39m\n\u001b[0;32m     23\u001b[0m \u001b[38;5;28;01mwhile\u001b[39;00m times\u001b[38;5;241m<\u001b[39m\u001b[38;5;28mlen\u001b[39m(machine_summary):\n\u001b[1;32m---> 25\u001b[0m     res, image \u001b[38;5;241m=\u001b[39m \u001b[43mcamera\u001b[49m\u001b[38;5;241;43m.\u001b[39;49m\u001b[43mread\u001b[49m\u001b[43m(\u001b[49m\u001b[43m)\u001b[49m\n\u001b[0;32m     26\u001b[0m     \u001b[38;5;28;01mif\u001b[39;00m \u001b[38;5;129;01mnot\u001b[39;00m res:\n\u001b[0;32m     27\u001b[0m         \u001b[38;5;28mprint\u001b[39m(times)\n",
      "\u001b[1;31mKeyboardInterrupt\u001b[0m: "
     ]
    }
   ],
   "source": [
    "pick_frames(args)"
   ]
  },
  {
   "cell_type": "code",
   "execution_count": 58,
   "id": "51cb53c9-2713-4000-ab68-d4f0767b3bdf",
   "metadata": {},
   "outputs": [
    {
     "name": "stdout",
     "output_type": "stream",
     "text": [
      "generated_summary/tvsum_summs_normal/-esJrBWj2d8/\n",
      "generated_summary/tvsum_summs_normal/0tmA_C6XwfM/\n",
      "generated_summary/tvsum_summs_normal/37rzWOQsNIw/\n",
      "generated_summary/tvsum_summs_normal/3eYKfiOEJNs/\n"
     ]
    }
   ],
   "source": [
    "generate_video(args)"
   ]
  },
  {
   "cell_type": "markdown",
   "id": "d2a1a75d-1544-467e-8937-52bb7c41c67c",
   "metadata": {},
   "source": [
    "*Test Features*"
   ]
  },
  {
   "cell_type": "code",
   "execution_count": 46,
   "id": "9e0ce597-5ed4-475e-95ed-0de37ed4ce45",
   "metadata": {},
   "outputs": [],
   "source": [
    "# args={\n",
    "#     'encode_summary_path':'../Model/HMT/results/test1_results_normal.h5',\n",
    "#     'video_folder':'../data/Custom dataset/',\n",
    "#     # 'video_info':'../data/Public datasets/ydata-tvsum50-v1_1/data/ydata-tvsum50-info.tsv',\n",
    "#     'output_folder': 'generated_summary/test1_summs_normal'\n",
    "    \n",
    "# }\n",
    "\n",
    "args={\n",
    "    'encode_summary_path':'../Model/vasnet/results/customSetResults.h5',\n",
    "    'video_folder':'../data/Custom dataset/',\n",
    "    # 'video_info':'../data/Public datasets/ydata-tvsum50-v1_1/data/ydata-tvsum50-info.tsv',\n",
    "    'output_folder': 'generated_summary/custom_test'\n",
    "    \n",
    "}"
   ]
  },
  {
   "cell_type": "code",
   "execution_count": 52,
   "id": "9fa5c7e0-7277-4205-9a8e-3ab32307fcd8",
   "metadata": {
    "collapsed": true,
    "jupyter": {
     "outputs_hidden": true
    },
    "tags": []
   },
   "outputs": [
    {
     "name": "stdout",
     "output_type": "stream",
     "text": [
      "generated_summary/custom_test\n",
      "video_1\n",
      "Moviepy - Building video generated_summary/custom_test/0tmA_C6XwfM.mp4.\n",
      "MoviePy - Writing audio in 0tmA_C6XwfMTEMP_MPY_wvf_snd.mp3\n"
     ]
    },
    {
     "name": "stderr",
     "output_type": "stream",
     "text": [
      "                                                       \r"
     ]
    },
    {
     "name": "stdout",
     "output_type": "stream",
     "text": [
      "MoviePy - Done.\n",
      "fps3: 25.0\n",
      "Moviepy - Writing video generated_summary/custom_test/0tmA_C6XwfM.mp4\n",
      "\n",
      "fps2: 25.0\n",
      "Fps1: 25.0\n"
     ]
    },
    {
     "name": "stderr",
     "output_type": "stream",
     "text": [
      "                                                               \r"
     ]
    },
    {
     "name": "stdout",
     "output_type": "stream",
     "text": [
      "Moviepy - Done !\n",
      "Moviepy - video ready generated_summary/custom_test/0tmA_C6XwfM.mp4\n",
      "video_2\n",
      "Moviepy - Building video generated_summary/custom_test/3eYKfiOEJNs.mp4.\n",
      "MoviePy - Writing audio in 3eYKfiOEJNsTEMP_MPY_wvf_snd.mp3\n"
     ]
    },
    {
     "name": "stderr",
     "output_type": "stream",
     "text": [
      "                                                                    \r"
     ]
    },
    {
     "name": "stdout",
     "output_type": "stream",
     "text": [
      "MoviePy - Done.\n",
      "fps3: 25.0\n",
      "Moviepy - Writing video generated_summary/custom_test/3eYKfiOEJNs.mp4\n",
      "\n",
      "fps2: 25.0\n",
      "Fps1: 25.0\n"
     ]
    },
    {
     "name": "stderr",
     "output_type": "stream",
     "text": [
      "                                                               \r"
     ]
    },
    {
     "name": "stdout",
     "output_type": "stream",
     "text": [
      "Moviepy - Done !\n",
      "Moviepy - video ready generated_summary/custom_test/3eYKfiOEJNs.mp4\n",
      "video_3\n",
      "Moviepy - Building video generated_summary/custom_test/ehsaas.mp4.\n",
      "MoviePy - Writing audio in ehsaasTEMP_MPY_wvf_snd.mp3\n"
     ]
    },
    {
     "name": "stderr",
     "output_type": "stream",
     "text": [
      "                                                                       \r"
     ]
    },
    {
     "name": "stdout",
     "output_type": "stream",
     "text": [
      "MoviePy - Done.\n",
      "fps3: 29.97002997002997\n",
      "Moviepy - Writing video generated_summary/custom_test/ehsaas.mp4\n",
      "\n",
      "fps2: 29.97002997002997\n",
      "Fps1: 29.97002997002997\n"
     ]
    },
    {
     "name": "stderr",
     "output_type": "stream",
     "text": [
      "                                                                   \r"
     ]
    },
    {
     "name": "stdout",
     "output_type": "stream",
     "text": [
      "Moviepy - Done !\n",
      "Moviepy - video ready generated_summary/custom_test/ehsaas.mp4\n",
      "video_4\n",
      "Moviepy - Building video generated_summary/custom_test/test1.mp4.\n",
      "MoviePy - Writing audio in test1TEMP_MPY_wvf_snd.mp3\n"
     ]
    },
    {
     "name": "stderr",
     "output_type": "stream",
     "text": [
      "                                                                      \r"
     ]
    },
    {
     "name": "stdout",
     "output_type": "stream",
     "text": [
      "MoviePy - Done.\n",
      "fps3: 24.0\n",
      "Moviepy - Writing video generated_summary/custom_test/test1.mp4\n",
      "\n",
      "fps2: 24.0\n",
      "Fps1: 24.0\n"
     ]
    },
    {
     "name": "stderr",
     "output_type": "stream",
     "text": [
      "                                                                 \r"
     ]
    },
    {
     "name": "stdout",
     "output_type": "stream",
     "text": [
      "Moviepy - Done !\n",
      "Moviepy - video ready generated_summary/custom_test/test1.mp4\n",
      "video_5\n",
      "Moviepy - Building video generated_summary/custom_test/video_2.mp4.\n",
      "MoviePy - Writing audio in video_2TEMP_MPY_wvf_snd.mp3\n"
     ]
    },
    {
     "name": "stderr",
     "output_type": "stream",
     "text": [
      "                                                                    \r"
     ]
    },
    {
     "name": "stdout",
     "output_type": "stream",
     "text": [
      "MoviePy - Done.\n",
      "fps3: 24.0\n",
      "Moviepy - Writing video generated_summary/custom_test/video_2.mp4\n",
      "\n",
      "fps2: 24.0\n",
      "Fps1: 24.0\n"
     ]
    },
    {
     "name": "stderr",
     "output_type": "stream",
     "text": [
      "                                                              \r"
     ]
    },
    {
     "name": "stdout",
     "output_type": "stream",
     "text": [
      "Moviepy - Done !\n",
      "Moviepy - video ready generated_summary/custom_test/video_2.mp4\n"
     ]
    }
   ],
   "source": [
    "clipout_with_audio(args)"
   ]
  },
  {
   "cell_type": "code",
   "execution_count": 18,
   "id": "27d9f07d-9c0f-4886-a1f7-ae952dbfee93",
   "metadata": {},
   "outputs": [
    {
     "name": "stdout",
     "output_type": "stream",
     "text": [
      "video_1 0tmA_C6XwfM\n",
      "video_2 3eYKfiOEJNs\n",
      "video_3 ehsaas\n",
      "video_4 test1\n",
      "video_5 video_2\n"
     ]
    }
   ],
   "source": [
    "pick_frames(args)"
   ]
  },
  {
   "cell_type": "code",
   "execution_count": 21,
   "id": "e906f4f4-15d1-41b4-89d4-a7d6b3377ac4",
   "metadata": {},
   "outputs": [
    {
     "name": "stdout",
     "output_type": "stream",
     "text": [
      "generated_summary/custom_test/0tmA_C6XwfM/\n",
      "generated_summary/custom_test/3eYKfiOEJNs/\n",
      "generated_summary/custom_test/ehsaas/\n"
     ]
    },
    {
     "ename": "KeyboardInterrupt",
     "evalue": "",
     "output_type": "error",
     "traceback": [
      "\u001b[1;31m---------------------------------------------------------------------------\u001b[0m",
      "\u001b[1;31mKeyboardInterrupt\u001b[0m                         Traceback (most recent call last)",
      "Input \u001b[1;32mIn [21]\u001b[0m, in \u001b[0;36m<cell line: 1>\u001b[1;34m()\u001b[0m\n\u001b[1;32m----> 1\u001b[0m \u001b[43mgenerate_video\u001b[49m\u001b[43m(\u001b[49m\u001b[43margs\u001b[49m\u001b[43m)\u001b[49m\n",
      "Input \u001b[1;32mIn [20]\u001b[0m, in \u001b[0;36mgenerate_video\u001b[1;34m(args)\u001b[0m\n\u001b[0;32m      9\u001b[0m command \u001b[38;5;241m=\u001b[39m ( cmd\n\u001b[0;32m     10\u001b[0m  )\n\u001b[0;32m     11\u001b[0m \u001b[38;5;66;03m# \"ffmpeg -y -r 15 -i  vasnet_results/%06d.jpg -c:v libx264 -r 30 -pix_fmt yuv420p vasnet_results/ui.mp4\"\u001b[39;00m\n\u001b[1;32m---> 12\u001b[0m \u001b[43mos\u001b[49m\u001b[38;5;241;43m.\u001b[39;49m\u001b[43msystem\u001b[49m\u001b[43m(\u001b[49m\u001b[43mcommand\u001b[49m\u001b[43m)\u001b[49m\n",
      "\u001b[1;31mKeyboardInterrupt\u001b[0m: "
     ]
    }
   ],
   "source": [
    "generate_video(args)"
   ]
  },
  {
   "cell_type": "markdown",
   "id": "3fed68cc-1074-4c31-80ed-e6e6765ba5e7",
   "metadata": {},
   "source": [
    "---------------------------"
   ]
  },
  {
   "cell_type": "code",
   "execution_count": 53,
   "id": "1aa3f2d3-8ab6-4287-bd77-d35e993ae307",
   "metadata": {},
   "outputs": [
    {
     "data": {
      "text/plain": [
       "<moviepy.audio.io.AudioFileClip.AudioFileClip at 0x2191c3dacd0>"
      ]
     },
     "execution_count": 53,
     "metadata": {},
     "output_type": "execute_result"
    }
   ],
   "source": [
    "video = VideoFileClip('../data/Custom dataset/0tmA_C6XwfM.mp4')\n",
    "dur = video.duration\n",
    "clip=video.cutout(0,8.5).cutout(8.8,dur)\n",
    "clip.audio"
   ]
  },
  {
   "cell_type": "code",
   "execution_count": 33,
   "id": "ee043123-a195-4787-99ff-cedbc192e4a8",
   "metadata": {},
   "outputs": [
    {
     "data": {
      "text/plain": [
       "141.34"
      ]
     },
     "execution_count": 33,
     "metadata": {},
     "output_type": "execute_result"
    }
   ],
   "source": [
    "dur"
   ]
  },
  {
   "cell_type": "markdown",
   "id": "3fafaee0-ed6f-4d94-a33b-6e5782fac936",
   "metadata": {},
   "source": [
    "### Custom"
   ]
  },
  {
   "cell_type": "code",
   "execution_count": 3,
   "id": "2d1de7c6-0eb9-4a0e-a0c5-481ef8b3ac05",
   "metadata": {},
   "outputs": [],
   "source": [
    "args={\n",
    "    'encode_summary_path':'../../models/Trirar/TrirarSegOri/Custom_set.h5',\n",
    "    'video_folder':'../data/Custom dataset/',\n",
    "    # 'video_info':'../data/Public datasets/ydata-tvsum50-v1_1/data/ydata-tvsum50-info.tsv',\n",
    "    'output_folder': 'generated_summary/custom_test'\n",
    "    \n",
    "}"
   ]
  },
  {
   "cell_type": "code",
   "execution_count": 4,
   "id": "ca331d26-8b15-475f-bf22-7ad1254f5ccc",
   "metadata": {},
   "outputs": [
    {
     "name": "stdout",
     "output_type": "stream",
     "text": [
      "generated_summary/custom_test\n",
      "video_1\n",
      "names: dict_items([])\n"
     ]
    },
    {
     "ename": "TypeError",
     "evalue": "missing a required argument: 'fps'",
     "output_type": "error",
     "traceback": [
      "\u001b[1;31m---------------------------------------------------------------------------\u001b[0m",
      "\u001b[1;31mTypeError\u001b[0m                                 Traceback (most recent call last)",
      "Input \u001b[1;32mIn [4]\u001b[0m, in \u001b[0;36m<cell line: 1>\u001b[1;34m()\u001b[0m\n\u001b[1;32m----> 1\u001b[0m \u001b[43mclipout_with_audio\u001b[49m\u001b[43m(\u001b[49m\u001b[43margs\u001b[49m\u001b[43m)\u001b[49m\n",
      "Input \u001b[1;32mIn [2]\u001b[0m, in \u001b[0;36mclipout_with_audio\u001b[1;34m(args)\u001b[0m\n\u001b[0;32m     32\u001b[0m     \u001b[38;5;66;03m# print(start)\u001b[39;00m\n\u001b[0;32m     34\u001b[0m final_clip \u001b[38;5;241m=\u001b[39m concatenate_videoclips(clips)\n\u001b[1;32m---> 35\u001b[0m \u001b[43mfinal_clip\u001b[49m\u001b[38;5;241;43m.\u001b[39;49m\u001b[43mwrite_videofile\u001b[49m\u001b[43m(\u001b[49m\u001b[43msumm_folder\u001b[49m\u001b[38;5;241;43m+\u001b[39;49m\u001b[38;5;124;43m'\u001b[39;49m\u001b[38;5;124;43m/\u001b[39;49m\u001b[38;5;124;43m'\u001b[39;49m\u001b[38;5;241;43m+\u001b[39;49m\u001b[43mf\u001b[49m\u001b[43m[\u001b[49m\u001b[43mkey\u001b[49m\u001b[38;5;241;43m+\u001b[39;49m\u001b[38;5;124;43m'\u001b[39;49m\u001b[38;5;124;43m/video_name\u001b[39;49m\u001b[38;5;124;43m'\u001b[39;49m\u001b[43m]\u001b[49m\u001b[43m[\u001b[49m\u001b[43m(\u001b[49m\u001b[43m)\u001b[49m\u001b[43m]\u001b[49m\u001b[38;5;241;43m.\u001b[39;49m\u001b[43mdecode\u001b[49m\u001b[43m(\u001b[49m\u001b[43m)\u001b[49m\u001b[43m,\u001b[49m\u001b[43m \u001b[49m\u001b[43mfps\u001b[49m\u001b[43m)\u001b[49m\n",
      "File \u001b[1;32m~\\anaconda3\\lib\\site-packages\\decorator.py:232\u001b[0m, in \u001b[0;36mdecorate.<locals>.fun\u001b[1;34m(*args, **kw)\u001b[0m\n\u001b[0;32m    230\u001b[0m \u001b[38;5;28;01mif\u001b[39;00m \u001b[38;5;129;01mnot\u001b[39;00m kwsyntax:\n\u001b[0;32m    231\u001b[0m     args, kw \u001b[38;5;241m=\u001b[39m fix(args, kw, sig)\n\u001b[1;32m--> 232\u001b[0m \u001b[38;5;28;01mreturn\u001b[39;00m caller(func, \u001b[38;5;241m*\u001b[39m(extras \u001b[38;5;241m+\u001b[39m args), \u001b[38;5;241m*\u001b[39m\u001b[38;5;241m*\u001b[39mkw)\n",
      "File \u001b[1;32m~\\anaconda3\\lib\\site-packages\\moviepy\\decorators.py:54\u001b[0m, in \u001b[0;36mrequires_duration\u001b[1;34m(f, clip, *a, **k)\u001b[0m\n\u001b[0;32m     52\u001b[0m     \u001b[38;5;28;01mraise\u001b[39;00m \u001b[38;5;167;01mValueError\u001b[39;00m(\u001b[38;5;124m\"\u001b[39m\u001b[38;5;124mAttribute \u001b[39m\u001b[38;5;124m'\u001b[39m\u001b[38;5;124mduration\u001b[39m\u001b[38;5;124m'\u001b[39m\u001b[38;5;124m not set\u001b[39m\u001b[38;5;124m\"\u001b[39m)\n\u001b[0;32m     53\u001b[0m \u001b[38;5;28;01melse\u001b[39;00m:\n\u001b[1;32m---> 54\u001b[0m     \u001b[38;5;28;01mreturn\u001b[39;00m f(clip, \u001b[38;5;241m*\u001b[39ma, \u001b[38;5;241m*\u001b[39m\u001b[38;5;241m*\u001b[39mk)\n",
      "File \u001b[1;32m~\\anaconda3\\lib\\site-packages\\decorator.py:232\u001b[0m, in \u001b[0;36mdecorate.<locals>.fun\u001b[1;34m(*args, **kw)\u001b[0m\n\u001b[0;32m    230\u001b[0m \u001b[38;5;28;01mif\u001b[39;00m \u001b[38;5;129;01mnot\u001b[39;00m kwsyntax:\n\u001b[0;32m    231\u001b[0m     args, kw \u001b[38;5;241m=\u001b[39m fix(args, kw, sig)\n\u001b[1;32m--> 232\u001b[0m \u001b[38;5;28;01mreturn\u001b[39;00m caller(func, \u001b[38;5;241m*\u001b[39m(extras \u001b[38;5;241m+\u001b[39m args), \u001b[38;5;241m*\u001b[39m\u001b[38;5;241m*\u001b[39mkw)\n",
      "File \u001b[1;32m~\\anaconda3\\lib\\site-packages\\moviepy\\decorators.py:136\u001b[0m, in \u001b[0;36muse_clip_fps_by_default\u001b[1;34m(f, clip, *a, **k)\u001b[0m\n\u001b[0;32m    131\u001b[0m new_a \u001b[38;5;241m=\u001b[39m [fun(arg) \u001b[38;5;28;01mif\u001b[39;00m (name\u001b[38;5;241m==\u001b[39m\u001b[38;5;124m'\u001b[39m\u001b[38;5;124mfps\u001b[39m\u001b[38;5;124m'\u001b[39m) \u001b[38;5;28;01melse\u001b[39;00m arg\n\u001b[0;32m    132\u001b[0m          \u001b[38;5;28;01mfor\u001b[39;00m (arg, name) \u001b[38;5;129;01min\u001b[39;00m \u001b[38;5;28mzip\u001b[39m(a, names)]\n\u001b[0;32m    133\u001b[0m new_kw \u001b[38;5;241m=\u001b[39m {k: fun(v) \u001b[38;5;28;01mif\u001b[39;00m k\u001b[38;5;241m==\u001b[39m\u001b[38;5;124m'\u001b[39m\u001b[38;5;124mfps\u001b[39m\u001b[38;5;124m'\u001b[39m \u001b[38;5;28;01melse\u001b[39;00m v\n\u001b[0;32m    134\u001b[0m          \u001b[38;5;28;01mfor\u001b[39;00m (k,v) \u001b[38;5;129;01min\u001b[39;00m k\u001b[38;5;241m.\u001b[39mitems()}\n\u001b[1;32m--> 136\u001b[0m \u001b[38;5;28;01mreturn\u001b[39;00m f(clip, \u001b[38;5;241m*\u001b[39mnew_a, \u001b[38;5;241m*\u001b[39m\u001b[38;5;241m*\u001b[39mnew_kw)\n",
      "File \u001b[1;32m~\\anaconda3\\lib\\site-packages\\decorator.py:231\u001b[0m, in \u001b[0;36mdecorate.<locals>.fun\u001b[1;34m(*args, **kw)\u001b[0m\n\u001b[0;32m    229\u001b[0m \u001b[38;5;28;01mdef\u001b[39;00m \u001b[38;5;21mfun\u001b[39m(\u001b[38;5;241m*\u001b[39margs, \u001b[38;5;241m*\u001b[39m\u001b[38;5;241m*\u001b[39mkw):\n\u001b[0;32m    230\u001b[0m     \u001b[38;5;28;01mif\u001b[39;00m \u001b[38;5;129;01mnot\u001b[39;00m kwsyntax:\n\u001b[1;32m--> 231\u001b[0m         args, kw \u001b[38;5;241m=\u001b[39m \u001b[43mfix\u001b[49m\u001b[43m(\u001b[49m\u001b[43margs\u001b[49m\u001b[43m,\u001b[49m\u001b[43m \u001b[49m\u001b[43mkw\u001b[49m\u001b[43m,\u001b[49m\u001b[43m \u001b[49m\u001b[43msig\u001b[49m\u001b[43m)\u001b[49m\n\u001b[0;32m    232\u001b[0m     \u001b[38;5;28;01mreturn\u001b[39;00m caller(func, \u001b[38;5;241m*\u001b[39m(extras \u001b[38;5;241m+\u001b[39m args), \u001b[38;5;241m*\u001b[39m\u001b[38;5;241m*\u001b[39mkw)\n",
      "File \u001b[1;32m~\\anaconda3\\lib\\site-packages\\decorator.py:203\u001b[0m, in \u001b[0;36mfix\u001b[1;34m(args, kwargs, sig)\u001b[0m\n\u001b[0;32m    199\u001b[0m \u001b[38;5;28;01mdef\u001b[39;00m \u001b[38;5;21mfix\u001b[39m(args, kwargs, sig):\n\u001b[0;32m    200\u001b[0m     \u001b[38;5;124;03m\"\"\"\u001b[39;00m\n\u001b[0;32m    201\u001b[0m \u001b[38;5;124;03m    Fix args and kwargs to be consistent with the signature\u001b[39;00m\n\u001b[0;32m    202\u001b[0m \u001b[38;5;124;03m    \"\"\"\u001b[39;00m\n\u001b[1;32m--> 203\u001b[0m     ba \u001b[38;5;241m=\u001b[39m sig\u001b[38;5;241m.\u001b[39mbind(\u001b[38;5;241m*\u001b[39margs, \u001b[38;5;241m*\u001b[39m\u001b[38;5;241m*\u001b[39mkwargs)\n\u001b[0;32m    204\u001b[0m     ba\u001b[38;5;241m.\u001b[39mapply_defaults()  \u001b[38;5;66;03m# needed for test_dan_schult\u001b[39;00m\n\u001b[0;32m    205\u001b[0m     \u001b[38;5;28;01mreturn\u001b[39;00m ba\u001b[38;5;241m.\u001b[39margs, ba\u001b[38;5;241m.\u001b[39mkwargs\n",
      "File \u001b[1;32m~\\anaconda3\\lib\\inspect.py:3045\u001b[0m, in \u001b[0;36mSignature.bind\u001b[1;34m(self, *args, **kwargs)\u001b[0m\n\u001b[0;32m   3040\u001b[0m \u001b[38;5;28;01mdef\u001b[39;00m \u001b[38;5;21mbind\u001b[39m(\u001b[38;5;28mself\u001b[39m, \u001b[38;5;241m/\u001b[39m, \u001b[38;5;241m*\u001b[39margs, \u001b[38;5;241m*\u001b[39m\u001b[38;5;241m*\u001b[39mkwargs):\n\u001b[0;32m   3041\u001b[0m     \u001b[38;5;124;03m\"\"\"Get a BoundArguments object, that maps the passed `args`\u001b[39;00m\n\u001b[0;32m   3042\u001b[0m \u001b[38;5;124;03m    and `kwargs` to the function's signature.  Raises `TypeError`\u001b[39;00m\n\u001b[0;32m   3043\u001b[0m \u001b[38;5;124;03m    if the passed arguments can not be bound.\u001b[39;00m\n\u001b[0;32m   3044\u001b[0m \u001b[38;5;124;03m    \"\"\"\u001b[39;00m\n\u001b[1;32m-> 3045\u001b[0m     \u001b[38;5;28;01mreturn\u001b[39;00m \u001b[38;5;28;43mself\u001b[39;49m\u001b[38;5;241;43m.\u001b[39;49m\u001b[43m_bind\u001b[49m\u001b[43m(\u001b[49m\u001b[43margs\u001b[49m\u001b[43m,\u001b[49m\u001b[43m \u001b[49m\u001b[43mkwargs\u001b[49m\u001b[43m)\u001b[49m\n",
      "File \u001b[1;32m~\\anaconda3\\lib\\inspect.py:2960\u001b[0m, in \u001b[0;36mSignature._bind\u001b[1;34m(self, args, kwargs, partial)\u001b[0m\n\u001b[0;32m   2958\u001b[0m                 msg \u001b[38;5;241m=\u001b[39m \u001b[38;5;124m'\u001b[39m\u001b[38;5;124mmissing a required argument: \u001b[39m\u001b[38;5;132;01m{arg!r}\u001b[39;00m\u001b[38;5;124m'\u001b[39m\n\u001b[0;32m   2959\u001b[0m                 msg \u001b[38;5;241m=\u001b[39m msg\u001b[38;5;241m.\u001b[39mformat(arg\u001b[38;5;241m=\u001b[39mparam\u001b[38;5;241m.\u001b[39mname)\n\u001b[1;32m-> 2960\u001b[0m                 \u001b[38;5;28;01mraise\u001b[39;00m \u001b[38;5;167;01mTypeError\u001b[39;00m(msg) \u001b[38;5;28;01mfrom\u001b[39;00m \u001b[38;5;28mNone\u001b[39m\n\u001b[0;32m   2961\u001b[0m \u001b[38;5;28;01melse\u001b[39;00m:\n\u001b[0;32m   2962\u001b[0m     \u001b[38;5;66;03m# We have a positional argument to process\u001b[39;00m\n\u001b[0;32m   2963\u001b[0m     \u001b[38;5;28;01mtry\u001b[39;00m:\n",
      "\u001b[1;31mTypeError\u001b[0m: missing a required argument: 'fps'"
     ]
    }
   ],
   "source": [
    "clipout_with_audio(args)"
   ]
  },
  {
   "cell_type": "code",
   "execution_count": null,
   "id": "2e76d887-f385-4cab-8d96-4ad396a283b2",
   "metadata": {},
   "outputs": [],
   "source": []
  }
 ],
 "metadata": {
  "kernelspec": {
   "display_name": "Python 3 (ipykernel)",
   "language": "python",
   "name": "python3"
  },
  "language_info": {
   "codemirror_mode": {
    "name": "ipython",
    "version": 3
   },
   "file_extension": ".py",
   "mimetype": "text/x-python",
   "name": "python",
   "nbconvert_exporter": "python",
   "pygments_lexer": "ipython3",
   "version": "3.9.12"
  }
 },
 "nbformat": 4,
 "nbformat_minor": 5
}
