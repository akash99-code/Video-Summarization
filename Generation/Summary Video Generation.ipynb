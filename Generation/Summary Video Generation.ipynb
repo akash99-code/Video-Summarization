{
 "cells": [
  {
   "cell_type": "markdown",
   "id": "38eff490-acbf-401d-9ca3-4c2dfff747dd",
   "metadata": {},
   "source": [
    "## Summary Video Generation "
   ]
  },
  {
   "cell_type": "code",
   "execution_count": 1,
   "id": "876a8c0b-1865-4642-b17e-829539fb0365",
   "metadata": {},
   "outputs": [],
   "source": [
    "import os\n",
    "import pandas as pd\n",
    "import h5py\n",
    "import cv2"
   ]
  },
  {
   "cell_type": "markdown",
   "id": "05a10746-f0b2-454a-ae93-e72e475612df",
   "metadata": {},
   "source": [
    "#### )) Util method"
   ]
  },
  {
   "cell_type": "code",
   "execution_count": 2,
   "id": "a757fcb5-e3c6-41eb-b939-adc7b52bea3a",
   "metadata": {},
   "outputs": [],
   "source": [
    "def video_map(key, info_df):\n",
    "    if info_df is None:\n",
    "        return key\n",
    "    name = info_df.loc[int(key.split('_')[1])-1]['video_id']\n",
    "    return name"
   ]
  },
  {
   "cell_type": "markdown",
   "id": "fc94bb3f-621b-452f-a500-9c9c45203902",
   "metadata": {},
   "source": [
    "#### )) Pick summary frames"
   ]
  },
  {
   "cell_type": "code",
   "execution_count": 22,
   "id": "e955a405-3e7e-4b8a-aee7-c2b65211dccf",
   "metadata": {},
   "outputs": [],
   "source": [
    "def pick_frames(args):\n",
    "\n",
    "    encoded_summ = args['encode_summary_path']\n",
    "    # s='DSN/models/summe/result4.h5'\n",
    "    with h5py.File(encoded_summ, 'r') as f:\n",
    "        for key in f.keys():       \n",
    "            if key == 'mean_fm':\n",
    "                continue\n",
    "               \n",
    "            if 'video_info' in args:\n",
    "                info_df = pd.read_csv(args['video_info'], sep='\\t')\n",
    "                video_name = video_map(key, info_df)\n",
    "            else:\n",
    "                video_name = f[key+'/video_name'][()].decode().split('.')[0]\n",
    "                \n",
    "            videofile=args['video_folder']+'/'+video_name+'.mp4'\n",
    "            summ_folder=args['output_folder']+'/'+video_name+'/frames/'\n",
    "            \n",
    "            print(key, video_name) \n",
    "            \n",
    "            if not os.path.exists(summ_folder):\n",
    "                os.makedirs(summ_folder)\n",
    "            machine_summary = f[key+'/machine_summary'][()]\n",
    "            camera = cv2.VideoCapture(videofile)\n",
    "            times = 0\n",
    "            c=0\n",
    "            while times<len(machine_summary):\n",
    "                \n",
    "                res, image = camera.read()\n",
    "                if not res:\n",
    "                    print(times)\n",
    "                    break\n",
    "                if machine_summary[times] == 1:\n",
    "                    cv2.imwrite(summ_folder + str(c).zfill(6) + '.jpg', image)\n",
    "                    c+=1\n",
    "                times += 1\n",
    "            \n",
    "            camera.release()\n"
   ]
  },
  {
   "cell_type": "markdown",
   "id": "f9708f47-773d-4e0b-afb6-35dc2bf38ee0",
   "metadata": {},
   "source": [
    "#### )) Stich-back videos"
   ]
  },
  {
   "cell_type": "code",
   "execution_count": 27,
   "id": "fb9cf631-e57d-403a-a68b-831b6315c4d5",
   "metadata": {},
   "outputs": [],
   "source": [
    "def generate_video(args):\n",
    "    sum_folders = os.listdir(args['output_folder'])\n",
    "    for file in sum_folders:\n",
    "        p=args['output_folder']+'/'+file+'/'\n",
    "        frms = p+\"frames\"\n",
    "        print(p)\n",
    "        cmd = \"ffmpeg -y -r 24 -i \" + frms+\"/%06d.jpg -c:v libx264 -r 24 -pix_fmt yuv420p \"+args['output_folder']+'/'+file+\".mp4\"\n",
    "        # print(cmd)\n",
    "        command = ( cmd\n",
    "         )\n",
    "        # \"ffmpeg -y -r 15 -i  vasnet_results/%06d.jpg -c:v libx264 -r 30 -pix_fmt yuv420p vasnet_results/ui.mp4\"\n",
    "        os.system(command)\n",
    "# execute the command using os.system\n",
    "\n"
   ]
  },
  {
   "cell_type": "markdown",
   "id": "0d4241b2-d8d6-417f-886f-f2ed265790d5",
   "metadata": {},
   "source": [
    "#### )) Genrate Summaries"
   ]
  },
  {
   "cell_type": "markdown",
   "id": "b23f5a2d-d0bd-4f1a-b64b-8bacd0f01316",
   "metadata": {},
   "source": [
    "*On Prebuilt features*"
   ]
  },
  {
   "cell_type": "code",
   "execution_count": 5,
   "id": "4bc25afd-8931-4faf-9b80-db234d38a837",
   "metadata": {},
   "outputs": [],
   "source": [
    "args={\n",
    "    'encode_summary_path':'../Model/vasnet/results/tvsum_results.h5',\n",
    "    'video_folder':'../data/Public datasets/ydata-tvsum50-v1_1/video',\n",
    "    'video_info':'../data/Public datasets/ydata-tvsum50-v1_1/data/ydata-tvsum50-info.tsv',\n",
    "    'output_folder': 'generated_summary/tvsum_summs'\n",
    "    \n",
    "}"
   ]
  },
  {
   "cell_type": "code",
   "execution_count": 48,
   "id": "5a32d170-01ba-4cc5-a21f-baaba3d1d4a3",
   "metadata": {
    "collapsed": true,
    "jupyter": {
     "outputs_hidden": true
    },
    "tags": []
   },
   "outputs": [
    {
     "name": "stdout",
     "output_type": "stream",
     "text": [
      "video_1 AwmHb44_ouw\n",
      "video_10 akI8YFjEmUw\n",
      "video_11 i3wAGJaaktw\n",
      "video_12 Bhxk-O1Y7Ho\n",
      "video_13 0tmA_C6XwfM\n",
      "video_14 3eYKfiOEJNs\n",
      "video_15 xxdtq8mxegs\n",
      "video_16 WG0MBPpPC6I\n",
      "video_17 Hl-__g2gn_A\n",
      "video_18 Yi4Ij2NM7U4\n",
      "video_19 37rzWOQsNIw\n",
      "video_2 98MoyGZKHXc\n",
      "video_20 LRw_obCPUt0\n",
      "video_21 cjibtmSLxQ4\n",
      "video_22 b626MiF1ew4\n",
      "video_23 XkqCExn6_Us\n",
      "video_24 GsAD1KT1xo8\n",
      "video_25 PJrm840pAUI\n",
      "video_26 91IHQYk1IQM\n",
      "video_27 RBCABdttQmI\n",
      "video_28 z_6gVvQb2d0\n",
      "video_29 fWutDQy1nnY\n",
      "video_3 J0nA4VgnoCo\n",
      "video_30 4wU_LUjG5Ic\n",
      "video_31 VuWGsYPqAX8\n",
      "video_32 JKpqYvAdIsw\n",
      "video_33 xmEERLqJ2kU\n",
      "video_34 byxOvuiIJV0\n",
      "video_35 _xMr-HKMfVA\n",
      "video_36 WxtbjNsCQ8A\n",
      "video_37 uGu_10sucQo\n",
      "video_38 EE-bNr36nyA\n",
      "video_39 Se3oxnaPsz0\n",
      "video_4 gzDbaEs1Rlg\n",
      "video_40 oDXZc0tZe04\n",
      "video_41 qqR6AEXwxoQ\n",
      "video_42 EYqVtI9YWJA\n",
      "video_43 eQu1rNs0an0\n",
      "video_44 JgHubY5Vw3Y\n",
      "video_45 iVt07TCkFM0\n",
      "video_46 E11zDS9XGzg\n",
      "video_47 NyBmCxDoHJU\n",
      "video_48 kLxoNp-UchI\n",
      "video_49 jcoYJXDG9sw\n",
      "video_5 XzYM3PfTM4w\n",
      "video_50 -esJrBWj2d8\n",
      "video_6 HT5vyqe0Xaw\n",
      "video_7 sTEELN-vY30\n",
      "video_8 vdmoEJ5YbrQ\n",
      "video_9 xwqBXPGE9pQ\n"
     ]
    }
   ],
   "source": [
    "pick_frames(args)"
   ]
  },
  {
   "cell_type": "code",
   "execution_count": 49,
   "id": "89855e07-b515-4c69-b118-7d1cc67aee43",
   "metadata": {
    "collapsed": true,
    "jupyter": {
     "outputs_hidden": true
    },
    "tags": []
   },
   "outputs": [
    {
     "name": "stdout",
     "output_type": "stream",
     "text": [
      "ffmpeg -y -r 30 -i generated_summary/tvsum_summs/-esJrBWj2d8/frames/%06d.jpg -c:v libx264 -r 30 -pix_fmt yuv420p generated_summary/tvsum_summs/-esJrBWj2d8.mp4\n",
      "ffmpeg -y -r 30 -i generated_summary/tvsum_summs/0tmA_C6XwfM/frames/%06d.jpg -c:v libx264 -r 30 -pix_fmt yuv420p generated_summary/tvsum_summs/0tmA_C6XwfM.mp4\n",
      "ffmpeg -y -r 30 -i generated_summary/tvsum_summs/37rzWOQsNIw/frames/%06d.jpg -c:v libx264 -r 30 -pix_fmt yuv420p generated_summary/tvsum_summs/37rzWOQsNIw.mp4\n",
      "ffmpeg -y -r 30 -i generated_summary/tvsum_summs/3eYKfiOEJNs/frames/%06d.jpg -c:v libx264 -r 30 -pix_fmt yuv420p generated_summary/tvsum_summs/3eYKfiOEJNs.mp4\n",
      "ffmpeg -y -r 30 -i generated_summary/tvsum_summs/4wU_LUjG5Ic/frames/%06d.jpg -c:v libx264 -r 30 -pix_fmt yuv420p generated_summary/tvsum_summs/4wU_LUjG5Ic.mp4\n",
      "ffmpeg -y -r 30 -i generated_summary/tvsum_summs/91IHQYk1IQM/frames/%06d.jpg -c:v libx264 -r 30 -pix_fmt yuv420p generated_summary/tvsum_summs/91IHQYk1IQM.mp4\n",
      "ffmpeg -y -r 30 -i generated_summary/tvsum_summs/98MoyGZKHXc/frames/%06d.jpg -c:v libx264 -r 30 -pix_fmt yuv420p generated_summary/tvsum_summs/98MoyGZKHXc.mp4\n",
      "ffmpeg -y -r 30 -i generated_summary/tvsum_summs/akI8YFjEmUw/frames/%06d.jpg -c:v libx264 -r 30 -pix_fmt yuv420p generated_summary/tvsum_summs/akI8YFjEmUw.mp4\n",
      "ffmpeg -y -r 30 -i generated_summary/tvsum_summs/AwmHb44_ouw/frames/%06d.jpg -c:v libx264 -r 30 -pix_fmt yuv420p generated_summary/tvsum_summs/AwmHb44_ouw.mp4\n",
      "ffmpeg -y -r 30 -i generated_summary/tvsum_summs/b626MiF1ew4/frames/%06d.jpg -c:v libx264 -r 30 -pix_fmt yuv420p generated_summary/tvsum_summs/b626MiF1ew4.mp4\n",
      "ffmpeg -y -r 30 -i generated_summary/tvsum_summs/Bhxk-O1Y7Ho/frames/%06d.jpg -c:v libx264 -r 30 -pix_fmt yuv420p generated_summary/tvsum_summs/Bhxk-O1Y7Ho.mp4\n",
      "ffmpeg -y -r 30 -i generated_summary/tvsum_summs/byxOvuiIJV0/frames/%06d.jpg -c:v libx264 -r 30 -pix_fmt yuv420p generated_summary/tvsum_summs/byxOvuiIJV0.mp4\n",
      "ffmpeg -y -r 30 -i generated_summary/tvsum_summs/cjibtmSLxQ4/frames/%06d.jpg -c:v libx264 -r 30 -pix_fmt yuv420p generated_summary/tvsum_summs/cjibtmSLxQ4.mp4\n",
      "ffmpeg -y -r 30 -i generated_summary/tvsum_summs/E11zDS9XGzg/frames/%06d.jpg -c:v libx264 -r 30 -pix_fmt yuv420p generated_summary/tvsum_summs/E11zDS9XGzg.mp4\n",
      "ffmpeg -y -r 30 -i generated_summary/tvsum_summs/EE-bNr36nyA/frames/%06d.jpg -c:v libx264 -r 30 -pix_fmt yuv420p generated_summary/tvsum_summs/EE-bNr36nyA.mp4\n",
      "ffmpeg -y -r 30 -i generated_summary/tvsum_summs/eQu1rNs0an0/frames/%06d.jpg -c:v libx264 -r 30 -pix_fmt yuv420p generated_summary/tvsum_summs/eQu1rNs0an0.mp4\n",
      "ffmpeg -y -r 30 -i generated_summary/tvsum_summs/EYqVtI9YWJA/frames/%06d.jpg -c:v libx264 -r 30 -pix_fmt yuv420p generated_summary/tvsum_summs/EYqVtI9YWJA.mp4\n",
      "ffmpeg -y -r 30 -i generated_summary/tvsum_summs/fWutDQy1nnY/frames/%06d.jpg -c:v libx264 -r 30 -pix_fmt yuv420p generated_summary/tvsum_summs/fWutDQy1nnY.mp4\n",
      "ffmpeg -y -r 30 -i generated_summary/tvsum_summs/GsAD1KT1xo8/frames/%06d.jpg -c:v libx264 -r 30 -pix_fmt yuv420p generated_summary/tvsum_summs/GsAD1KT1xo8.mp4\n",
      "ffmpeg -y -r 30 -i generated_summary/tvsum_summs/gzDbaEs1Rlg/frames/%06d.jpg -c:v libx264 -r 30 -pix_fmt yuv420p generated_summary/tvsum_summs/gzDbaEs1Rlg.mp4\n",
      "ffmpeg -y -r 30 -i generated_summary/tvsum_summs/Hl-__g2gn_A/frames/%06d.jpg -c:v libx264 -r 30 -pix_fmt yuv420p generated_summary/tvsum_summs/Hl-__g2gn_A.mp4\n",
      "ffmpeg -y -r 30 -i generated_summary/tvsum_summs/HT5vyqe0Xaw/frames/%06d.jpg -c:v libx264 -r 30 -pix_fmt yuv420p generated_summary/tvsum_summs/HT5vyqe0Xaw.mp4\n",
      "ffmpeg -y -r 30 -i generated_summary/tvsum_summs/i3wAGJaaktw/frames/%06d.jpg -c:v libx264 -r 30 -pix_fmt yuv420p generated_summary/tvsum_summs/i3wAGJaaktw.mp4\n",
      "ffmpeg -y -r 30 -i generated_summary/tvsum_summs/iVt07TCkFM0/frames/%06d.jpg -c:v libx264 -r 30 -pix_fmt yuv420p generated_summary/tvsum_summs/iVt07TCkFM0.mp4\n",
      "ffmpeg -y -r 30 -i generated_summary/tvsum_summs/J0nA4VgnoCo/frames/%06d.jpg -c:v libx264 -r 30 -pix_fmt yuv420p generated_summary/tvsum_summs/J0nA4VgnoCo.mp4\n",
      "ffmpeg -y -r 30 -i generated_summary/tvsum_summs/jcoYJXDG9sw/frames/%06d.jpg -c:v libx264 -r 30 -pix_fmt yuv420p generated_summary/tvsum_summs/jcoYJXDG9sw.mp4\n",
      "ffmpeg -y -r 30 -i generated_summary/tvsum_summs/JgHubY5Vw3Y/frames/%06d.jpg -c:v libx264 -r 30 -pix_fmt yuv420p generated_summary/tvsum_summs/JgHubY5Vw3Y.mp4\n",
      "ffmpeg -y -r 30 -i generated_summary/tvsum_summs/JKpqYvAdIsw/frames/%06d.jpg -c:v libx264 -r 30 -pix_fmt yuv420p generated_summary/tvsum_summs/JKpqYvAdIsw.mp4\n",
      "ffmpeg -y -r 30 -i generated_summary/tvsum_summs/kLxoNp-UchI/frames/%06d.jpg -c:v libx264 -r 30 -pix_fmt yuv420p generated_summary/tvsum_summs/kLxoNp-UchI.mp4\n",
      "ffmpeg -y -r 30 -i generated_summary/tvsum_summs/LRw_obCPUt0/frames/%06d.jpg -c:v libx264 -r 30 -pix_fmt yuv420p generated_summary/tvsum_summs/LRw_obCPUt0.mp4\n",
      "ffmpeg -y -r 30 -i generated_summary/tvsum_summs/NyBmCxDoHJU/frames/%06d.jpg -c:v libx264 -r 30 -pix_fmt yuv420p generated_summary/tvsum_summs/NyBmCxDoHJU.mp4\n",
      "ffmpeg -y -r 30 -i generated_summary/tvsum_summs/oDXZc0tZe04/frames/%06d.jpg -c:v libx264 -r 30 -pix_fmt yuv420p generated_summary/tvsum_summs/oDXZc0tZe04.mp4\n",
      "ffmpeg -y -r 30 -i generated_summary/tvsum_summs/PJrm840pAUI/frames/%06d.jpg -c:v libx264 -r 30 -pix_fmt yuv420p generated_summary/tvsum_summs/PJrm840pAUI.mp4\n",
      "ffmpeg -y -r 30 -i generated_summary/tvsum_summs/qqR6AEXwxoQ/frames/%06d.jpg -c:v libx264 -r 30 -pix_fmt yuv420p generated_summary/tvsum_summs/qqR6AEXwxoQ.mp4\n",
      "ffmpeg -y -r 30 -i generated_summary/tvsum_summs/RBCABdttQmI/frames/%06d.jpg -c:v libx264 -r 30 -pix_fmt yuv420p generated_summary/tvsum_summs/RBCABdttQmI.mp4\n",
      "ffmpeg -y -r 30 -i generated_summary/tvsum_summs/Se3oxnaPsz0/frames/%06d.jpg -c:v libx264 -r 30 -pix_fmt yuv420p generated_summary/tvsum_summs/Se3oxnaPsz0.mp4\n",
      "ffmpeg -y -r 30 -i generated_summary/tvsum_summs/sTEELN-vY30/frames/%06d.jpg -c:v libx264 -r 30 -pix_fmt yuv420p generated_summary/tvsum_summs/sTEELN-vY30.mp4\n"
     ]
    },
    {
     "ename": "KeyboardInterrupt",
     "evalue": "",
     "output_type": "error",
     "traceback": [
      "\u001b[1;31m---------------------------------------------------------------------------\u001b[0m",
      "\u001b[1;31mKeyboardInterrupt\u001b[0m                         Traceback (most recent call last)",
      "Input \u001b[1;32mIn [49]\u001b[0m, in \u001b[0;36m<cell line: 1>\u001b[1;34m()\u001b[0m\n\u001b[1;32m----> 1\u001b[0m \u001b[43mgenerate_video\u001b[49m\u001b[43m(\u001b[49m\u001b[43margs\u001b[49m\u001b[43m)\u001b[49m\n",
      "Input \u001b[1;32mIn [45]\u001b[0m, in \u001b[0;36mgenerate_video\u001b[1;34m(args)\u001b[0m\n\u001b[0;32m      9\u001b[0m command \u001b[38;5;241m=\u001b[39m ( cmd\n\u001b[0;32m     10\u001b[0m  )\n\u001b[0;32m     11\u001b[0m \u001b[38;5;66;03m# \"ffmpeg -y -r 15 -i  vasnet_results/%06d.jpg -c:v libx264 -r 30 -pix_fmt yuv420p vasnet_results/ui.mp4\"\u001b[39;00m\n\u001b[1;32m---> 12\u001b[0m \u001b[43mos\u001b[49m\u001b[38;5;241;43m.\u001b[39;49m\u001b[43msystem\u001b[49m\u001b[43m(\u001b[49m\u001b[43mcommand\u001b[49m\u001b[43m)\u001b[49m\n",
      "\u001b[1;31mKeyboardInterrupt\u001b[0m: "
     ]
    }
   ],
   "source": [
    "generate_video(args)"
   ]
  },
  {
   "cell_type": "markdown",
   "id": "d6cdbab2-645a-4053-969c-fb28d7492dd7",
   "metadata": {},
   "source": [
    "*On Custom features*"
   ]
  },
  {
   "cell_type": "code",
   "execution_count": 7,
   "id": "3f324a16-47ea-4dc1-8416-5ae7f9434cbf",
   "metadata": {},
   "outputs": [],
   "source": [
    "args={\n",
    "    'encode_summary_path':'../Model/vasnet/results/tvsum_results_normal.h5',\n",
    "    'video_folder':'../data/Public datasets/ydata-tvsum50-v1_1/video',\n",
    "    'video_info':'../data/Public datasets/ydata-tvsum50-v1_1/data/ydata-tvsum50-info.tsv',\n",
    "    'output_folder': 'generated_summary/tvsum_summs_normal'\n",
    "    \n",
    "}"
   ]
  },
  {
   "cell_type": "code",
   "execution_count": 10,
   "id": "3059f133-3965-4c1d-ae09-ebfc1e069cb7",
   "metadata": {},
   "outputs": [
    {
     "name": "stdout",
     "output_type": "stream",
     "text": [
      "video_1 AwmHb44_ouw\n",
      "video_10 akI8YFjEmUw\n"
     ]
    },
    {
     "ename": "KeyboardInterrupt",
     "evalue": "",
     "output_type": "error",
     "traceback": [
      "\u001b[1;31m---------------------------------------------------------------------------\u001b[0m",
      "\u001b[1;31mKeyboardInterrupt\u001b[0m                         Traceback (most recent call last)",
      "Input \u001b[1;32mIn [10]\u001b[0m, in \u001b[0;36m<cell line: 1>\u001b[1;34m()\u001b[0m\n\u001b[1;32m----> 1\u001b[0m \u001b[43mpick_frames\u001b[49m\u001b[43m(\u001b[49m\u001b[43margs\u001b[49m\u001b[43m)\u001b[49m\n",
      "Input \u001b[1;32mIn [5]\u001b[0m, in \u001b[0;36mpick_frames\u001b[1;34m(args)\u001b[0m\n\u001b[0;32m     22\u001b[0m c\u001b[38;5;241m=\u001b[39m\u001b[38;5;241m0\u001b[39m\n\u001b[0;32m     23\u001b[0m \u001b[38;5;28;01mwhile\u001b[39;00m times\u001b[38;5;241m<\u001b[39m\u001b[38;5;28mlen\u001b[39m(machine_summary):\n\u001b[1;32m---> 25\u001b[0m     res, image \u001b[38;5;241m=\u001b[39m \u001b[43mcamera\u001b[49m\u001b[38;5;241;43m.\u001b[39;49m\u001b[43mread\u001b[49m\u001b[43m(\u001b[49m\u001b[43m)\u001b[49m\n\u001b[0;32m     26\u001b[0m     \u001b[38;5;28;01mif\u001b[39;00m \u001b[38;5;129;01mnot\u001b[39;00m res:\n\u001b[0;32m     27\u001b[0m         \u001b[38;5;28mprint\u001b[39m(times)\n",
      "\u001b[1;31mKeyboardInterrupt\u001b[0m: "
     ]
    }
   ],
   "source": [
    "pick_frames(args)"
   ]
  },
  {
   "cell_type": "code",
   "execution_count": 58,
   "id": "51cb53c9-2713-4000-ab68-d4f0767b3bdf",
   "metadata": {},
   "outputs": [
    {
     "name": "stdout",
     "output_type": "stream",
     "text": [
      "generated_summary/tvsum_summs_normal/-esJrBWj2d8/\n",
      "generated_summary/tvsum_summs_normal/0tmA_C6XwfM/\n",
      "generated_summary/tvsum_summs_normal/37rzWOQsNIw/\n",
      "generated_summary/tvsum_summs_normal/3eYKfiOEJNs/\n"
     ]
    }
   ],
   "source": [
    "generate_video(args)"
   ]
  },
  {
   "cell_type": "markdown",
   "id": "d2a1a75d-1544-467e-8937-52bb7c41c67c",
   "metadata": {},
   "source": [
    "*Test Features*"
   ]
  },
  {
   "cell_type": "code",
   "execution_count": 29,
   "id": "9e0ce597-5ed4-475e-95ed-0de37ed4ce45",
   "metadata": {},
   "outputs": [],
   "source": [
    "args={\n",
    "    'encode_summary_path':'../Model/vasnet/results/test4_results_normal.h5',\n",
    "    'video_folder':'../data/Custom dataset/',\n",
    "    # 'video_info':'../data/Public datasets/ydata-tvsum50-v1_1/data/ydata-tvsum50-info.tsv',\n",
    "    'output_folder': 'generated_summary/test4_summs_normal'\n",
    "    \n",
    "}"
   ]
  },
  {
   "cell_type": "code",
   "execution_count": 55,
   "id": "27d9f07d-9c0f-4886-a1f7-ae952dbfee93",
   "metadata": {},
   "outputs": [
    {
     "name": "stdout",
     "output_type": "stream",
     "text": [
      "video_1 video_5\n"
     ]
    }
   ],
   "source": [
    "pick_frames(args)"
   ]
  },
  {
   "cell_type": "code",
   "execution_count": 56,
   "id": "e906f4f4-15d1-41b4-89d4-a7d6b3377ac4",
   "metadata": {},
   "outputs": [
    {
     "name": "stdout",
     "output_type": "stream",
     "text": [
      "generated_summary/test4_summs_normal/video_5/\n"
     ]
    }
   ],
   "source": [
    "generate_video(args)"
   ]
  },
  {
   "cell_type": "markdown",
   "id": "3fed68cc-1074-4c31-80ed-e6e6765ba5e7",
   "metadata": {},
   "source": [
    "---------------------------"
   ]
  }
 ],
 "metadata": {
  "kernelspec": {
   "display_name": "Python 3 (ipykernel)",
   "language": "python",
   "name": "python3"
  },
  "language_info": {
   "codemirror_mode": {
    "name": "ipython",
    "version": 3
   },
   "file_extension": ".py",
   "mimetype": "text/x-python",
   "name": "python",
   "nbconvert_exporter": "python",
   "pygments_lexer": "ipython3",
   "version": "3.9.12"
  }
 },
 "nbformat": 4,
 "nbformat_minor": 5
}
