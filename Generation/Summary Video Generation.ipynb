{
 "cells": [
  {
   "cell_type": "markdown",
   "id": "38eff490-acbf-401d-9ca3-4c2dfff747dd",
   "metadata": {},
   "source": [
    "## Summary Video Generation "
   ]
  },
  {
   "cell_type": "code",
   "execution_count": 1,
   "id": "876a8c0b-1865-4642-b17e-829539fb0365",
   "metadata": {},
   "outputs": [],
   "source": [
    "import os\n",
    "import pandas as pd\n",
    "import h5py\n",
    "import cv2\n",
    "import numpy as np\n",
    "from moviepy.video.io.VideoFileClip import VideoFileClip\n",
    "from moviepy.editor import concatenate_videoclips\n",
    "import os    \n",
    "# os.environ['KMP_DUPLICATE_LIB_OK'] = 'True'\n",
    "# os.environ[\"FFMPEG_BINARY\"] = \"/path/to/custom/ffmpeg\""
   ]
  },
  {
   "cell_type": "markdown",
   "id": "05a10746-f0b2-454a-ae93-e72e475612df",
   "metadata": {
    "jp-MarkdownHeadingCollapsed": true,
    "tags": []
   },
   "source": [
    "#### )) Util method"
   ]
  },
  {
   "cell_type": "code",
   "execution_count": 2,
   "id": "a757fcb5-e3c6-41eb-b939-adc7b52bea3a",
   "metadata": {},
   "outputs": [],
   "source": [
    "def video_map(key, info_df):\n",
    "    if info_df is None:\n",
    "        return key\n",
    "    name = info_df.loc[int(key.split('_')[1])-1]['video_id']\n",
    "    return name"
   ]
  },
  {
   "cell_type": "markdown",
   "id": "fc94bb3f-621b-452f-a500-9c9c45203902",
   "metadata": {
    "jp-MarkdownHeadingCollapsed": true,
    "tags": []
   },
   "source": [
    "#### )) Pick summary frames"
   ]
  },
  {
   "cell_type": "code",
   "execution_count": 3,
   "id": "e955a405-3e7e-4b8a-aee7-c2b65211dccf",
   "metadata": {},
   "outputs": [],
   "source": [
    "def pick_frames(args):\n",
    "\n",
    "    encoded_summ = args['encode_summary_path']\n",
    "    # s='DSN/models/summe/result4.h5'\n",
    "    with h5py.File(encoded_summ, 'r') as f:\n",
    "        for key in f.keys():       \n",
    "            if key == 'mean_fm':\n",
    "                continue\n",
    "               \n",
    "            if 'video_info' in args:\n",
    "                info_df = pd.read_csv(args['video_info'], sep='\\t')\n",
    "                video_name = video_map(key, info_df)\n",
    "            else:\n",
    "                video_name = f[key+'/video_name'][()].decode().split('.')[0]\n",
    "                \n",
    "            videofile=args['video_folder']+'/'+video_name+'.mp4'\n",
    "            summ_folder=args['output_folder']+'/'+video_name+'/frames/'\n",
    "            \n",
    "            print(key, video_name) \n",
    "            \n",
    "            if not os.path.exists(summ_folder):\n",
    "                os.makedirs(summ_folder)\n",
    "            machine_summary = f[key+'/machine_summary'][()]\n",
    "            camera = cv2.VideoCapture(videofile)\n",
    "            times = 0\n",
    "            c=0\n",
    "            while times<len(machine_summary):\n",
    "                \n",
    "                res, image = camera.read()\n",
    "                if not res:\n",
    "                    print(times)\n",
    "                    break\n",
    "                if machine_summary[times] == 1:\n",
    "                    cv2.imwrite(summ_folder + str(c).zfill(6) + '.jpg', image)\n",
    "                    c+=1\n",
    "                times += 1\n",
    "            \n",
    "            camera.release()\n"
   ]
  },
  {
   "cell_type": "markdown",
   "id": "f9708f47-773d-4e0b-afb6-35dc2bf38ee0",
   "metadata": {
    "jp-MarkdownHeadingCollapsed": true,
    "tags": []
   },
   "source": [
    "#### )) Stich-back videos"
   ]
  },
  {
   "cell_type": "code",
   "execution_count": 4,
   "id": "fb9cf631-e57d-403a-a68b-831b6315c4d5",
   "metadata": {},
   "outputs": [],
   "source": [
    "def generate_video(args):\n",
    "    sum_folders = os.listdir(args['output_folder'])\n",
    "    for file in sum_folders:\n",
    "        p=args['output_folder']+'/'+file+'/'\n",
    "        frms = p+\"frames\"\n",
    "        print(p)\n",
    "        cmd = \"ffmpeg -y -r 24 -i \" + frms+\"/%06d.jpg -c:v libx264 -r 24 -pix_fmt yuv420p \"+args['output_folder']+'/'+file+\".mp4\"\n",
    "        # print(cmd)\n",
    "        command = ( cmd\n",
    "         )\n",
    "        # \"ffmpeg -y -r 15 -i  vasnet_results/%06d.jpg -c:v libx264 -r 30 -pix_fmt yuv420p vasnet_results/ui.mp4\"\n",
    "        os.system(command)\n",
    "# execute the command using os.system\n",
    "\n"
   ]
  },
  {
   "cell_type": "markdown",
   "id": "b21cf379-7aac-453a-b465-dff136ed29ff",
   "metadata": {},
   "source": [
    "#### )) Clip-out video with Audio"
   ]
  },
  {
   "cell_type": "code",
   "execution_count": 5,
   "id": "997813c1-05d5-4c1a-a16a-cd03e334eeba",
   "metadata": {},
   "outputs": [],
   "source": [
    "def clipout_with_audio(args):\n",
    "    encoded_summ = args['encode_summary_path']\n",
    "    summ_folder = args['output_folder']\n",
    "    print(summ_folder)\n",
    "    if not os.path.exists(summ_folder):\n",
    "        os.makedirs(summ_folder)\n",
    "        \n",
    "    with h5py.File(encoded_summ, 'r') as f:\n",
    "        for key in f.keys():  \n",
    "            print(key)\n",
    "            path2video=args['video_folder']+f[key+'/video_name'][()].decode()\n",
    "            video = VideoFileClip(path2video)\n",
    "            fps = video.fps\n",
    "            machine_summary = f[key+'/machine_summary'][()]\n",
    "            start, end = 0,0\n",
    "            summ = list(machine_summary)\n",
    "            l = len(summ)\n",
    "            clips=[]\n",
    "            while end!=l-1:\n",
    "                if 1 not in summ[start:]:\n",
    "                    break\n",
    "                start = summ[start:].index(1)+start\n",
    "                \n",
    "                if 0 not in summ[start:]:\n",
    "                    end = len(summ)\n",
    "                else:\n",
    "                    end = summ[start:].index(0)+start\n",
    "                # clip=video.subclip(start/fps, (end-1)/fps)\n",
    "                clip = video.cutout(0,start/fps).cutout( (end-1)/fps, video.duration)\n",
    "                clip.fps = fps\n",
    "                clips.append(clip)\n",
    "                start=end\n",
    "                # print(start)\n",
    "            print(len(clips))\n",
    "            final_clip = concatenate_videoclips(clips)\n",
    "            final_clip.fps = fps\n",
    "            final_clip.write_videofile(summ_folder+'/'+f[key+'/video_name'][()].decode())    \n",
    "\n",
    "            "
   ]
  },
  {
   "cell_type": "markdown",
   "id": "0d4241b2-d8d6-417f-886f-f2ed265790d5",
   "metadata": {
    "jp-MarkdownHeadingCollapsed": true,
    "tags": []
   },
   "source": [
    "#### )) Genrate Summaries"
   ]
  },
  {
   "cell_type": "markdown",
   "id": "b23f5a2d-d0bd-4f1a-b64b-8bacd0f01316",
   "metadata": {},
   "source": [
    "*On Prebuilt features*"
   ]
  },
  {
   "cell_type": "code",
   "execution_count": 5,
   "id": "4bc25afd-8931-4faf-9b80-db234d38a837",
   "metadata": {},
   "outputs": [],
   "source": [
    "args={\n",
    "    'encode_summary_path':'../Model/vasnet/results/tvsum_results.h5',\n",
    "    'video_folder':'../data/Public datasets/ydata-tvsum50-v1_1/video',\n",
    "    'video_info':'../data/Public datasets/ydata-tvsum50-v1_1/data/ydata-tvsum50-info.tsv',\n",
    "    'output_folder': 'generated_summary/tvsum_summs'\n",
    "    \n",
    "}"
   ]
  },
  {
   "cell_type": "code",
   "execution_count": 48,
   "id": "5a32d170-01ba-4cc5-a21f-baaba3d1d4a3",
   "metadata": {
    "collapsed": true,
    "jupyter": {
     "outputs_hidden": true
    },
    "tags": []
   },
   "outputs": [
    {
     "name": "stdout",
     "output_type": "stream",
     "text": [
      "video_1 AwmHb44_ouw\n",
      "video_10 akI8YFjEmUw\n",
      "video_11 i3wAGJaaktw\n",
      "video_12 Bhxk-O1Y7Ho\n",
      "video_13 0tmA_C6XwfM\n",
      "video_14 3eYKfiOEJNs\n",
      "video_15 xxdtq8mxegs\n",
      "video_16 WG0MBPpPC6I\n",
      "video_17 Hl-__g2gn_A\n",
      "video_18 Yi4Ij2NM7U4\n",
      "video_19 37rzWOQsNIw\n",
      "video_2 98MoyGZKHXc\n",
      "video_20 LRw_obCPUt0\n",
      "video_21 cjibtmSLxQ4\n",
      "video_22 b626MiF1ew4\n",
      "video_23 XkqCExn6_Us\n",
      "video_24 GsAD1KT1xo8\n",
      "video_25 PJrm840pAUI\n",
      "video_26 91IHQYk1IQM\n",
      "video_27 RBCABdttQmI\n",
      "video_28 z_6gVvQb2d0\n",
      "video_29 fWutDQy1nnY\n",
      "video_3 J0nA4VgnoCo\n",
      "video_30 4wU_LUjG5Ic\n",
      "video_31 VuWGsYPqAX8\n",
      "video_32 JKpqYvAdIsw\n",
      "video_33 xmEERLqJ2kU\n",
      "video_34 byxOvuiIJV0\n",
      "video_35 _xMr-HKMfVA\n",
      "video_36 WxtbjNsCQ8A\n",
      "video_37 uGu_10sucQo\n",
      "video_38 EE-bNr36nyA\n",
      "video_39 Se3oxnaPsz0\n",
      "video_4 gzDbaEs1Rlg\n",
      "video_40 oDXZc0tZe04\n",
      "video_41 qqR6AEXwxoQ\n",
      "video_42 EYqVtI9YWJA\n",
      "video_43 eQu1rNs0an0\n",
      "video_44 JgHubY5Vw3Y\n",
      "video_45 iVt07TCkFM0\n",
      "video_46 E11zDS9XGzg\n",
      "video_47 NyBmCxDoHJU\n",
      "video_48 kLxoNp-UchI\n",
      "video_49 jcoYJXDG9sw\n",
      "video_5 XzYM3PfTM4w\n",
      "video_50 -esJrBWj2d8\n",
      "video_6 HT5vyqe0Xaw\n",
      "video_7 sTEELN-vY30\n",
      "video_8 vdmoEJ5YbrQ\n",
      "video_9 xwqBXPGE9pQ\n"
     ]
    }
   ],
   "source": [
    "pick_frames(args)"
   ]
  },
  {
   "cell_type": "code",
   "execution_count": 49,
   "id": "89855e07-b515-4c69-b118-7d1cc67aee43",
   "metadata": {
    "collapsed": true,
    "jupyter": {
     "outputs_hidden": true
    },
    "tags": []
   },
   "outputs": [
    {
     "name": "stdout",
     "output_type": "stream",
     "text": [
      "ffmpeg -y -r 30 -i generated_summary/tvsum_summs/-esJrBWj2d8/frames/%06d.jpg -c:v libx264 -r 30 -pix_fmt yuv420p generated_summary/tvsum_summs/-esJrBWj2d8.mp4\n",
      "ffmpeg -y -r 30 -i generated_summary/tvsum_summs/0tmA_C6XwfM/frames/%06d.jpg -c:v libx264 -r 30 -pix_fmt yuv420p generated_summary/tvsum_summs/0tmA_C6XwfM.mp4\n",
      "ffmpeg -y -r 30 -i generated_summary/tvsum_summs/37rzWOQsNIw/frames/%06d.jpg -c:v libx264 -r 30 -pix_fmt yuv420p generated_summary/tvsum_summs/37rzWOQsNIw.mp4\n",
      "ffmpeg -y -r 30 -i generated_summary/tvsum_summs/3eYKfiOEJNs/frames/%06d.jpg -c:v libx264 -r 30 -pix_fmt yuv420p generated_summary/tvsum_summs/3eYKfiOEJNs.mp4\n",
      "ffmpeg -y -r 30 -i generated_summary/tvsum_summs/4wU_LUjG5Ic/frames/%06d.jpg -c:v libx264 -r 30 -pix_fmt yuv420p generated_summary/tvsum_summs/4wU_LUjG5Ic.mp4\n",
      "ffmpeg -y -r 30 -i generated_summary/tvsum_summs/91IHQYk1IQM/frames/%06d.jpg -c:v libx264 -r 30 -pix_fmt yuv420p generated_summary/tvsum_summs/91IHQYk1IQM.mp4\n",
      "ffmpeg -y -r 30 -i generated_summary/tvsum_summs/98MoyGZKHXc/frames/%06d.jpg -c:v libx264 -r 30 -pix_fmt yuv420p generated_summary/tvsum_summs/98MoyGZKHXc.mp4\n",
      "ffmpeg -y -r 30 -i generated_summary/tvsum_summs/akI8YFjEmUw/frames/%06d.jpg -c:v libx264 -r 30 -pix_fmt yuv420p generated_summary/tvsum_summs/akI8YFjEmUw.mp4\n",
      "ffmpeg -y -r 30 -i generated_summary/tvsum_summs/AwmHb44_ouw/frames/%06d.jpg -c:v libx264 -r 30 -pix_fmt yuv420p generated_summary/tvsum_summs/AwmHb44_ouw.mp4\n",
      "ffmpeg -y -r 30 -i generated_summary/tvsum_summs/b626MiF1ew4/frames/%06d.jpg -c:v libx264 -r 30 -pix_fmt yuv420p generated_summary/tvsum_summs/b626MiF1ew4.mp4\n",
      "ffmpeg -y -r 30 -i generated_summary/tvsum_summs/Bhxk-O1Y7Ho/frames/%06d.jpg -c:v libx264 -r 30 -pix_fmt yuv420p generated_summary/tvsum_summs/Bhxk-O1Y7Ho.mp4\n",
      "ffmpeg -y -r 30 -i generated_summary/tvsum_summs/byxOvuiIJV0/frames/%06d.jpg -c:v libx264 -r 30 -pix_fmt yuv420p generated_summary/tvsum_summs/byxOvuiIJV0.mp4\n",
      "ffmpeg -y -r 30 -i generated_summary/tvsum_summs/cjibtmSLxQ4/frames/%06d.jpg -c:v libx264 -r 30 -pix_fmt yuv420p generated_summary/tvsum_summs/cjibtmSLxQ4.mp4\n",
      "ffmpeg -y -r 30 -i generated_summary/tvsum_summs/E11zDS9XGzg/frames/%06d.jpg -c:v libx264 -r 30 -pix_fmt yuv420p generated_summary/tvsum_summs/E11zDS9XGzg.mp4\n",
      "ffmpeg -y -r 30 -i generated_summary/tvsum_summs/EE-bNr36nyA/frames/%06d.jpg -c:v libx264 -r 30 -pix_fmt yuv420p generated_summary/tvsum_summs/EE-bNr36nyA.mp4\n",
      "ffmpeg -y -r 30 -i generated_summary/tvsum_summs/eQu1rNs0an0/frames/%06d.jpg -c:v libx264 -r 30 -pix_fmt yuv420p generated_summary/tvsum_summs/eQu1rNs0an0.mp4\n",
      "ffmpeg -y -r 30 -i generated_summary/tvsum_summs/EYqVtI9YWJA/frames/%06d.jpg -c:v libx264 -r 30 -pix_fmt yuv420p generated_summary/tvsum_summs/EYqVtI9YWJA.mp4\n",
      "ffmpeg -y -r 30 -i generated_summary/tvsum_summs/fWutDQy1nnY/frames/%06d.jpg -c:v libx264 -r 30 -pix_fmt yuv420p generated_summary/tvsum_summs/fWutDQy1nnY.mp4\n",
      "ffmpeg -y -r 30 -i generated_summary/tvsum_summs/GsAD1KT1xo8/frames/%06d.jpg -c:v libx264 -r 30 -pix_fmt yuv420p generated_summary/tvsum_summs/GsAD1KT1xo8.mp4\n",
      "ffmpeg -y -r 30 -i generated_summary/tvsum_summs/gzDbaEs1Rlg/frames/%06d.jpg -c:v libx264 -r 30 -pix_fmt yuv420p generated_summary/tvsum_summs/gzDbaEs1Rlg.mp4\n",
      "ffmpeg -y -r 30 -i generated_summary/tvsum_summs/Hl-__g2gn_A/frames/%06d.jpg -c:v libx264 -r 30 -pix_fmt yuv420p generated_summary/tvsum_summs/Hl-__g2gn_A.mp4\n",
      "ffmpeg -y -r 30 -i generated_summary/tvsum_summs/HT5vyqe0Xaw/frames/%06d.jpg -c:v libx264 -r 30 -pix_fmt yuv420p generated_summary/tvsum_summs/HT5vyqe0Xaw.mp4\n",
      "ffmpeg -y -r 30 -i generated_summary/tvsum_summs/i3wAGJaaktw/frames/%06d.jpg -c:v libx264 -r 30 -pix_fmt yuv420p generated_summary/tvsum_summs/i3wAGJaaktw.mp4\n",
      "ffmpeg -y -r 30 -i generated_summary/tvsum_summs/iVt07TCkFM0/frames/%06d.jpg -c:v libx264 -r 30 -pix_fmt yuv420p generated_summary/tvsum_summs/iVt07TCkFM0.mp4\n",
      "ffmpeg -y -r 30 -i generated_summary/tvsum_summs/J0nA4VgnoCo/frames/%06d.jpg -c:v libx264 -r 30 -pix_fmt yuv420p generated_summary/tvsum_summs/J0nA4VgnoCo.mp4\n",
      "ffmpeg -y -r 30 -i generated_summary/tvsum_summs/jcoYJXDG9sw/frames/%06d.jpg -c:v libx264 -r 30 -pix_fmt yuv420p generated_summary/tvsum_summs/jcoYJXDG9sw.mp4\n",
      "ffmpeg -y -r 30 -i generated_summary/tvsum_summs/JgHubY5Vw3Y/frames/%06d.jpg -c:v libx264 -r 30 -pix_fmt yuv420p generated_summary/tvsum_summs/JgHubY5Vw3Y.mp4\n",
      "ffmpeg -y -r 30 -i generated_summary/tvsum_summs/JKpqYvAdIsw/frames/%06d.jpg -c:v libx264 -r 30 -pix_fmt yuv420p generated_summary/tvsum_summs/JKpqYvAdIsw.mp4\n",
      "ffmpeg -y -r 30 -i generated_summary/tvsum_summs/kLxoNp-UchI/frames/%06d.jpg -c:v libx264 -r 30 -pix_fmt yuv420p generated_summary/tvsum_summs/kLxoNp-UchI.mp4\n",
      "ffmpeg -y -r 30 -i generated_summary/tvsum_summs/LRw_obCPUt0/frames/%06d.jpg -c:v libx264 -r 30 -pix_fmt yuv420p generated_summary/tvsum_summs/LRw_obCPUt0.mp4\n",
      "ffmpeg -y -r 30 -i generated_summary/tvsum_summs/NyBmCxDoHJU/frames/%06d.jpg -c:v libx264 -r 30 -pix_fmt yuv420p generated_summary/tvsum_summs/NyBmCxDoHJU.mp4\n",
      "ffmpeg -y -r 30 -i generated_summary/tvsum_summs/oDXZc0tZe04/frames/%06d.jpg -c:v libx264 -r 30 -pix_fmt yuv420p generated_summary/tvsum_summs/oDXZc0tZe04.mp4\n",
      "ffmpeg -y -r 30 -i generated_summary/tvsum_summs/PJrm840pAUI/frames/%06d.jpg -c:v libx264 -r 30 -pix_fmt yuv420p generated_summary/tvsum_summs/PJrm840pAUI.mp4\n",
      "ffmpeg -y -r 30 -i generated_summary/tvsum_summs/qqR6AEXwxoQ/frames/%06d.jpg -c:v libx264 -r 30 -pix_fmt yuv420p generated_summary/tvsum_summs/qqR6AEXwxoQ.mp4\n",
      "ffmpeg -y -r 30 -i generated_summary/tvsum_summs/RBCABdttQmI/frames/%06d.jpg -c:v libx264 -r 30 -pix_fmt yuv420p generated_summary/tvsum_summs/RBCABdttQmI.mp4\n",
      "ffmpeg -y -r 30 -i generated_summary/tvsum_summs/Se3oxnaPsz0/frames/%06d.jpg -c:v libx264 -r 30 -pix_fmt yuv420p generated_summary/tvsum_summs/Se3oxnaPsz0.mp4\n",
      "ffmpeg -y -r 30 -i generated_summary/tvsum_summs/sTEELN-vY30/frames/%06d.jpg -c:v libx264 -r 30 -pix_fmt yuv420p generated_summary/tvsum_summs/sTEELN-vY30.mp4\n"
     ]
    },
    {
     "ename": "KeyboardInterrupt",
     "evalue": "",
     "output_type": "error",
     "traceback": [
      "\u001b[1;31m---------------------------------------------------------------------------\u001b[0m",
      "\u001b[1;31mKeyboardInterrupt\u001b[0m                         Traceback (most recent call last)",
      "Input \u001b[1;32mIn [49]\u001b[0m, in \u001b[0;36m<cell line: 1>\u001b[1;34m()\u001b[0m\n\u001b[1;32m----> 1\u001b[0m \u001b[43mgenerate_video\u001b[49m\u001b[43m(\u001b[49m\u001b[43margs\u001b[49m\u001b[43m)\u001b[49m\n",
      "Input \u001b[1;32mIn [45]\u001b[0m, in \u001b[0;36mgenerate_video\u001b[1;34m(args)\u001b[0m\n\u001b[0;32m      9\u001b[0m command \u001b[38;5;241m=\u001b[39m ( cmd\n\u001b[0;32m     10\u001b[0m  )\n\u001b[0;32m     11\u001b[0m \u001b[38;5;66;03m# \"ffmpeg -y -r 15 -i  vasnet_results/%06d.jpg -c:v libx264 -r 30 -pix_fmt yuv420p vasnet_results/ui.mp4\"\u001b[39;00m\n\u001b[1;32m---> 12\u001b[0m \u001b[43mos\u001b[49m\u001b[38;5;241;43m.\u001b[39;49m\u001b[43msystem\u001b[49m\u001b[43m(\u001b[49m\u001b[43mcommand\u001b[49m\u001b[43m)\u001b[49m\n",
      "\u001b[1;31mKeyboardInterrupt\u001b[0m: "
     ]
    }
   ],
   "source": [
    "generate_video(args)"
   ]
  },
  {
   "cell_type": "markdown",
   "id": "d6cdbab2-645a-4053-969c-fb28d7492dd7",
   "metadata": {},
   "source": [
    "*On Custom features*"
   ]
  },
  {
   "cell_type": "code",
   "execution_count": 7,
   "id": "3f324a16-47ea-4dc1-8416-5ae7f9434cbf",
   "metadata": {},
   "outputs": [],
   "source": [
    "args={\n",
    "    'encode_summary_path':'../Model/vasnet/results/tvsum_results_normal.h5',\n",
    "    'video_folder':'../data/Public datasets/ydata-tvsum50-v1_1/video',\n",
    "    'video_info':'../data/Public datasets/ydata-tvsum50-v1_1/data/ydata-tvsum50-info.tsv',\n",
    "    'output_folder': 'generated_summary/tvsum_summs_normal'\n",
    "    \n",
    "}"
   ]
  },
  {
   "cell_type": "code",
   "execution_count": 10,
   "id": "3059f133-3965-4c1d-ae09-ebfc1e069cb7",
   "metadata": {},
   "outputs": [
    {
     "name": "stdout",
     "output_type": "stream",
     "text": [
      "video_1 AwmHb44_ouw\n",
      "video_10 akI8YFjEmUw\n"
     ]
    },
    {
     "ename": "KeyboardInterrupt",
     "evalue": "",
     "output_type": "error",
     "traceback": [
      "\u001b[1;31m---------------------------------------------------------------------------\u001b[0m",
      "\u001b[1;31mKeyboardInterrupt\u001b[0m                         Traceback (most recent call last)",
      "Input \u001b[1;32mIn [10]\u001b[0m, in \u001b[0;36m<cell line: 1>\u001b[1;34m()\u001b[0m\n\u001b[1;32m----> 1\u001b[0m \u001b[43mpick_frames\u001b[49m\u001b[43m(\u001b[49m\u001b[43margs\u001b[49m\u001b[43m)\u001b[49m\n",
      "Input \u001b[1;32mIn [5]\u001b[0m, in \u001b[0;36mpick_frames\u001b[1;34m(args)\u001b[0m\n\u001b[0;32m     22\u001b[0m c\u001b[38;5;241m=\u001b[39m\u001b[38;5;241m0\u001b[39m\n\u001b[0;32m     23\u001b[0m \u001b[38;5;28;01mwhile\u001b[39;00m times\u001b[38;5;241m<\u001b[39m\u001b[38;5;28mlen\u001b[39m(machine_summary):\n\u001b[1;32m---> 25\u001b[0m     res, image \u001b[38;5;241m=\u001b[39m \u001b[43mcamera\u001b[49m\u001b[38;5;241;43m.\u001b[39;49m\u001b[43mread\u001b[49m\u001b[43m(\u001b[49m\u001b[43m)\u001b[49m\n\u001b[0;32m     26\u001b[0m     \u001b[38;5;28;01mif\u001b[39;00m \u001b[38;5;129;01mnot\u001b[39;00m res:\n\u001b[0;32m     27\u001b[0m         \u001b[38;5;28mprint\u001b[39m(times)\n",
      "\u001b[1;31mKeyboardInterrupt\u001b[0m: "
     ]
    }
   ],
   "source": [
    "pick_frames(args)"
   ]
  },
  {
   "cell_type": "code",
   "execution_count": 58,
   "id": "51cb53c9-2713-4000-ab68-d4f0767b3bdf",
   "metadata": {},
   "outputs": [
    {
     "name": "stdout",
     "output_type": "stream",
     "text": [
      "generated_summary/tvsum_summs_normal/-esJrBWj2d8/\n",
      "generated_summary/tvsum_summs_normal/0tmA_C6XwfM/\n",
      "generated_summary/tvsum_summs_normal/37rzWOQsNIw/\n",
      "generated_summary/tvsum_summs_normal/3eYKfiOEJNs/\n"
     ]
    }
   ],
   "source": [
    "generate_video(args)"
   ]
  },
  {
   "cell_type": "markdown",
   "id": "d2a1a75d-1544-467e-8937-52bb7c41c67c",
   "metadata": {},
   "source": [
    "*Test Features*"
   ]
  },
  {
   "cell_type": "code",
   "execution_count": 46,
   "id": "9e0ce597-5ed4-475e-95ed-0de37ed4ce45",
   "metadata": {},
   "outputs": [],
   "source": [
    "# args={\n",
    "#     'encode_summary_path':'../Model/HMT/results/test1_results_normal.h5',\n",
    "#     'video_folder':'../data/Custom dataset/',\n",
    "#     # 'video_info':'../data/Public datasets/ydata-tvsum50-v1_1/data/ydata-tvsum50-info.tsv',\n",
    "#     'output_folder': 'generated_summary/test1_summs_normal'\n",
    "    \n",
    "# }\n",
    "\n",
    "args={\n",
    "    'encode_summary_path':'../Model/vasnet/results/customSetResults.h5',\n",
    "    'video_folder':'../data/Custom dataset/',\n",
    "    # 'video_info':'../data/Public datasets/ydata-tvsum50-v1_1/data/ydata-tvsum50-info.tsv',\n",
    "    'output_folder': 'generated_summary/custom_test'\n",
    "    \n",
    "}"
   ]
  },
  {
   "cell_type": "code",
   "execution_count": 52,
   "id": "9fa5c7e0-7277-4205-9a8e-3ab32307fcd8",
   "metadata": {
    "collapsed": true,
    "jupyter": {
     "outputs_hidden": true
    },
    "tags": []
   },
   "outputs": [
    {
     "name": "stdout",
     "output_type": "stream",
     "text": [
      "generated_summary/custom_test\n",
      "video_1\n",
      "Moviepy - Building video generated_summary/custom_test/0tmA_C6XwfM.mp4.\n",
      "MoviePy - Writing audio in 0tmA_C6XwfMTEMP_MPY_wvf_snd.mp3\n"
     ]
    },
    {
     "name": "stderr",
     "output_type": "stream",
     "text": [
      "                                                       \r"
     ]
    },
    {
     "name": "stdout",
     "output_type": "stream",
     "text": [
      "MoviePy - Done.\n",
      "fps3: 25.0\n",
      "Moviepy - Writing video generated_summary/custom_test/0tmA_C6XwfM.mp4\n",
      "\n",
      "fps2: 25.0\n",
      "Fps1: 25.0\n"
     ]
    },
    {
     "name": "stderr",
     "output_type": "stream",
     "text": [
      "                                                               \r"
     ]
    },
    {
     "name": "stdout",
     "output_type": "stream",
     "text": [
      "Moviepy - Done !\n",
      "Moviepy - video ready generated_summary/custom_test/0tmA_C6XwfM.mp4\n",
      "video_2\n",
      "Moviepy - Building video generated_summary/custom_test/3eYKfiOEJNs.mp4.\n",
      "MoviePy - Writing audio in 3eYKfiOEJNsTEMP_MPY_wvf_snd.mp3\n"
     ]
    },
    {
     "name": "stderr",
     "output_type": "stream",
     "text": [
      "                                                                    \r"
     ]
    },
    {
     "name": "stdout",
     "output_type": "stream",
     "text": [
      "MoviePy - Done.\n",
      "fps3: 25.0\n",
      "Moviepy - Writing video generated_summary/custom_test/3eYKfiOEJNs.mp4\n",
      "\n",
      "fps2: 25.0\n",
      "Fps1: 25.0\n"
     ]
    },
    {
     "name": "stderr",
     "output_type": "stream",
     "text": [
      "                                                               \r"
     ]
    },
    {
     "name": "stdout",
     "output_type": "stream",
     "text": [
      "Moviepy - Done !\n",
      "Moviepy - video ready generated_summary/custom_test/3eYKfiOEJNs.mp4\n",
      "video_3\n",
      "Moviepy - Building video generated_summary/custom_test/ehsaas.mp4.\n",
      "MoviePy - Writing audio in ehsaasTEMP_MPY_wvf_snd.mp3\n"
     ]
    },
    {
     "name": "stderr",
     "output_type": "stream",
     "text": [
      "                                                                       \r"
     ]
    },
    {
     "name": "stdout",
     "output_type": "stream",
     "text": [
      "MoviePy - Done.\n",
      "fps3: 29.97002997002997\n",
      "Moviepy - Writing video generated_summary/custom_test/ehsaas.mp4\n",
      "\n",
      "fps2: 29.97002997002997\n",
      "Fps1: 29.97002997002997\n"
     ]
    },
    {
     "name": "stderr",
     "output_type": "stream",
     "text": [
      "                                                                   \r"
     ]
    },
    {
     "name": "stdout",
     "output_type": "stream",
     "text": [
      "Moviepy - Done !\n",
      "Moviepy - video ready generated_summary/custom_test/ehsaas.mp4\n",
      "video_4\n",
      "Moviepy - Building video generated_summary/custom_test/test1.mp4.\n",
      "MoviePy - Writing audio in test1TEMP_MPY_wvf_snd.mp3\n"
     ]
    },
    {
     "name": "stderr",
     "output_type": "stream",
     "text": [
      "                                                                      \r"
     ]
    },
    {
     "name": "stdout",
     "output_type": "stream",
     "text": [
      "MoviePy - Done.\n",
      "fps3: 24.0\n",
      "Moviepy - Writing video generated_summary/custom_test/test1.mp4\n",
      "\n",
      "fps2: 24.0\n",
      "Fps1: 24.0\n"
     ]
    },
    {
     "name": "stderr",
     "output_type": "stream",
     "text": [
      "                                                                 \r"
     ]
    },
    {
     "name": "stdout",
     "output_type": "stream",
     "text": [
      "Moviepy - Done !\n",
      "Moviepy - video ready generated_summary/custom_test/test1.mp4\n",
      "video_5\n",
      "Moviepy - Building video generated_summary/custom_test/video_2.mp4.\n",
      "MoviePy - Writing audio in video_2TEMP_MPY_wvf_snd.mp3\n"
     ]
    },
    {
     "name": "stderr",
     "output_type": "stream",
     "text": [
      "                                                                    \r"
     ]
    },
    {
     "name": "stdout",
     "output_type": "stream",
     "text": [
      "MoviePy - Done.\n",
      "fps3: 24.0\n",
      "Moviepy - Writing video generated_summary/custom_test/video_2.mp4\n",
      "\n",
      "fps2: 24.0\n",
      "Fps1: 24.0\n"
     ]
    },
    {
     "name": "stderr",
     "output_type": "stream",
     "text": [
      "                                                              \r"
     ]
    },
    {
     "name": "stdout",
     "output_type": "stream",
     "text": [
      "Moviepy - Done !\n",
      "Moviepy - video ready generated_summary/custom_test/video_2.mp4\n"
     ]
    }
   ],
   "source": [
    "clipout_with_audio(args)"
   ]
  },
  {
   "cell_type": "code",
   "execution_count": 18,
   "id": "27d9f07d-9c0f-4886-a1f7-ae952dbfee93",
   "metadata": {},
   "outputs": [
    {
     "name": "stdout",
     "output_type": "stream",
     "text": [
      "video_1 0tmA_C6XwfM\n",
      "video_2 3eYKfiOEJNs\n",
      "video_3 ehsaas\n",
      "video_4 test1\n",
      "video_5 video_2\n"
     ]
    }
   ],
   "source": [
    "pick_frames(args)"
   ]
  },
  {
   "cell_type": "code",
   "execution_count": 21,
   "id": "e906f4f4-15d1-41b4-89d4-a7d6b3377ac4",
   "metadata": {},
   "outputs": [
    {
     "name": "stdout",
     "output_type": "stream",
     "text": [
      "generated_summary/custom_test/0tmA_C6XwfM/\n",
      "generated_summary/custom_test/3eYKfiOEJNs/\n",
      "generated_summary/custom_test/ehsaas/\n"
     ]
    },
    {
     "ename": "KeyboardInterrupt",
     "evalue": "",
     "output_type": "error",
     "traceback": [
      "\u001b[1;31m---------------------------------------------------------------------------\u001b[0m",
      "\u001b[1;31mKeyboardInterrupt\u001b[0m                         Traceback (most recent call last)",
      "Input \u001b[1;32mIn [21]\u001b[0m, in \u001b[0;36m<cell line: 1>\u001b[1;34m()\u001b[0m\n\u001b[1;32m----> 1\u001b[0m \u001b[43mgenerate_video\u001b[49m\u001b[43m(\u001b[49m\u001b[43margs\u001b[49m\u001b[43m)\u001b[49m\n",
      "Input \u001b[1;32mIn [20]\u001b[0m, in \u001b[0;36mgenerate_video\u001b[1;34m(args)\u001b[0m\n\u001b[0;32m      9\u001b[0m command \u001b[38;5;241m=\u001b[39m ( cmd\n\u001b[0;32m     10\u001b[0m  )\n\u001b[0;32m     11\u001b[0m \u001b[38;5;66;03m# \"ffmpeg -y -r 15 -i  vasnet_results/%06d.jpg -c:v libx264 -r 30 -pix_fmt yuv420p vasnet_results/ui.mp4\"\u001b[39;00m\n\u001b[1;32m---> 12\u001b[0m \u001b[43mos\u001b[49m\u001b[38;5;241;43m.\u001b[39;49m\u001b[43msystem\u001b[49m\u001b[43m(\u001b[49m\u001b[43mcommand\u001b[49m\u001b[43m)\u001b[49m\n",
      "\u001b[1;31mKeyboardInterrupt\u001b[0m: "
     ]
    }
   ],
   "source": [
    "generate_video(args)"
   ]
  },
  {
   "cell_type": "markdown",
   "id": "3fed68cc-1074-4c31-80ed-e6e6765ba5e7",
   "metadata": {},
   "source": [
    "---------------------------"
   ]
  },
  {
   "cell_type": "code",
   "execution_count": 53,
   "id": "1aa3f2d3-8ab6-4287-bd77-d35e993ae307",
   "metadata": {},
   "outputs": [
    {
     "data": {
      "text/plain": [
       "<moviepy.audio.io.AudioFileClip.AudioFileClip at 0x2191c3dacd0>"
      ]
     },
     "execution_count": 53,
     "metadata": {},
     "output_type": "execute_result"
    }
   ],
   "source": [
    "video = VideoFileClip('../data/Custom dataset/0tmA_C6XwfM.mp4')\n",
    "dur = video.duration\n",
    "clip=video.cutout(0,8.5).cutout(8.8,dur)\n",
    "clip.audio"
   ]
  },
  {
   "cell_type": "code",
   "execution_count": 33,
   "id": "ee043123-a195-4787-99ff-cedbc192e4a8",
   "metadata": {},
   "outputs": [
    {
     "data": {
      "text/plain": [
       "141.34"
      ]
     },
     "execution_count": 33,
     "metadata": {},
     "output_type": "execute_result"
    }
   ],
   "source": [
    "dur"
   ]
  },
  {
   "cell_type": "markdown",
   "id": "3fafaee0-ed6f-4d94-a33b-6e5782fac936",
   "metadata": {},
   "source": [
    "### Custom"
   ]
  },
  {
   "cell_type": "code",
   "execution_count": 19,
   "id": "2d1de7c6-0eb9-4a0e-a0c5-481ef8b3ac05",
   "metadata": {},
   "outputs": [],
   "source": [
    "args={\n",
    "    'encode_summary_path':'../../models/Trirar/TrirarSegOri/Custom_set.h5',\n",
    "    'video_folder':'../data/Custom dataset/',\n",
    "    # 'video_info':'../data/Public datasets/ydata-tvsum50-v1_1/data/ydata-tvsum50-info.tsv',\n",
    "    'output_folder': 'generated_summary/custom_test'\n",
    "    \n",
    "}"
   ]
  },
  {
   "cell_type": "code",
   "execution_count": 20,
   "id": "ca331d26-8b15-475f-bf22-7ad1254f5ccc",
   "metadata": {},
   "outputs": [
    {
     "name": "stdout",
     "output_type": "stream",
     "text": [
      "generated_summary/custom_test\n",
      "video_1\n"
     ]
    },
    {
     "name": "stderr",
     "output_type": "stream",
     "text": [
      "t:  11%|███████▌                                                           | 57/507 [30:34<00:02, 218.20it/s, now=None]"
     ]
    },
    {
     "name": "stdout",
     "output_type": "stream",
     "text": [
      "18\n",
      "Moviepy - Building video generated_summary/custom_test/0tmA_C6XwfM.mp4.\n",
      "MoviePy - Writing audio in 0tmA_C6XwfMTEMP_MPY_wvf_snd.mp3\n"
     ]
    },
    {
     "name": "stderr",
     "output_type": "stream",
     "text": [
      "\n",
      "chunk:   0%|                                                                         | 0/122 [00:00<?, ?it/s, now=None]\u001b[A\n",
      "t:  11%|███████▌                                                           | 57/507 [30:34<00:02, 218.20it/s, now=None]\u001b[A"
     ]
    },
    {
     "name": "stdout",
     "output_type": "stream",
     "text": [
      "MoviePy - Done.\n",
      "Moviepy - Writing video generated_summary/custom_test/0tmA_C6XwfM.mp4\n",
      "\n"
     ]
    },
    {
     "name": "stderr",
     "output_type": "stream",
     "text": [
      "\n",
      "t:   0%|                                                                             | 0/507 [00:00<?, ?it/s, now=None]\u001b[A\n",
      "t:   4%|██▌                                                                | 19/507 [00:00<00:02, 178.24it/s, now=None]\u001b[A\n",
      "t:  11%|███████▌                                                           | 57/507 [00:00<00:01, 268.17it/s, now=None]\u001b[A\n",
      "t:  17%|███████████▍                                                       | 87/507 [00:00<00:02, 159.17it/s, now=None]\u001b[A\n",
      "t:  23%|██████████████▉                                                   | 115/507 [00:00<00:02, 184.10it/s, now=None]\u001b[A\n",
      "t:  27%|█████████████████▉                                                | 138/507 [00:00<00:01, 190.78it/s, now=None]\u001b[A\n",
      "t:  33%|█████████████████████▌                                            | 166/507 [00:00<00:01, 214.54it/s, now=None]\u001b[A\n",
      "t:  38%|████████████████████████▉                                         | 192/507 [00:00<00:01, 194.61it/s, now=None]\u001b[A\n",
      "t:  43%|████████████████████████████                                      | 216/507 [00:01<00:01, 203.95it/s, now=None]\u001b[A\n",
      "t:  47%|███████████████████████████████▏                                  | 240/507 [00:01<00:01, 203.95it/s, now=None]\u001b[A\n",
      "t:  53%|███████████████████████████████████▎                              | 271/507 [00:01<00:01, 231.36it/s, now=None]\u001b[A\n",
      "t:  60%|███████████████████████████████████████▌                          | 304/507 [00:01<00:00, 248.11it/s, now=None]\u001b[A\n",
      "t:  65%|███████████████████████████████████████████▏                      | 332/507 [00:01<00:00, 235.34it/s, now=None]\u001b[A\n",
      "t:  70%|██████████████████████████████████████████████▍                   | 357/507 [00:01<00:00, 212.70it/s, now=None]\u001b[A\n",
      "t:  77%|███████████████████████████████████████████████████               | 392/507 [00:01<00:00, 245.15it/s, now=None]\u001b[A\n",
      "t:  83%|██████████████████████████████████████████████████████▋           | 420/507 [00:01<00:00, 253.98it/s, now=None]\u001b[A\n",
      "t:  90%|███████████████████████████████████████████████████████████▏      | 455/507 [00:02<00:00, 236.61it/s, now=None]\u001b[A\n",
      "t:  97%|███████████████████████████████████████████████████████████████▊  | 490/507 [00:02<00:00, 256.06it/s, now=None]\u001b[A\n",
      "t:  11%|███████▌                                                           | 57/507 [30:36<00:02, 218.20it/s, now=None]\u001b[A"
     ]
    },
    {
     "name": "stdout",
     "output_type": "stream",
     "text": [
      "Moviepy - Done !\n",
      "Moviepy - video ready generated_summary/custom_test/0tmA_C6XwfM.mp4\n",
      "video_2\n"
     ]
    },
    {
     "name": "stderr",
     "output_type": "stream",
     "text": [
      "t:  11%|███████▌                                                           | 57/507 [30:38<00:02, 218.20it/s, now=None]"
     ]
    },
    {
     "name": "stdout",
     "output_type": "stream",
     "text": [
      "18\n",
      "Moviepy - Building video generated_summary/custom_test/3eYKfiOEJNs.mp4.\n",
      "MoviePy - Writing audio in 3eYKfiOEJNsTEMP_MPY_wvf_snd.mp3\n"
     ]
    },
    {
     "name": "stderr",
     "output_type": "stream",
     "text": [
      "\n",
      "chunk:   0%|                                                                         | 0/518 [00:00<?, ?it/s, now=None]\u001b[A\n",
      "chunk:  36%|██████████████████████▏                                      | 188/518 [00:00<00:00, 1867.53it/s, now=None]\u001b[A\n",
      "t:  11%|███████▌                                                           | 57/507 [30:38<00:02, 218.20it/s, now=None]\u001b[A"
     ]
    },
    {
     "name": "stdout",
     "output_type": "stream",
     "text": [
      "MoviePy - Done.\n",
      "Moviepy - Writing video generated_summary/custom_test/3eYKfiOEJNs.mp4\n",
      "\n"
     ]
    },
    {
     "name": "stderr",
     "output_type": "stream",
     "text": [
      "\n",
      "t:   0%|                                                                             | 0/703 [00:00<?, ?it/s, now=None]\u001b[A\n",
      "t:   4%|██▍                                                                | 26/703 [00:00<00:02, 231.63it/s, now=None]\u001b[A\n",
      "t:   8%|█████▏                                                             | 55/703 [00:00<00:02, 241.69it/s, now=None]\u001b[A\n",
      "t:  14%|█████████▍                                                         | 99/703 [00:00<00:01, 320.78it/s, now=None]\u001b[A\n",
      "t:  20%|█████████████▏                                                    | 140/703 [00:00<00:02, 241.80it/s, now=None]\u001b[A\n",
      "t:  27%|██████████████████                                                | 193/703 [00:00<00:01, 300.33it/s, now=None]\u001b[A\n",
      "t:  34%|██████████████████████▏                                           | 236/703 [00:00<00:01, 286.00it/s, now=None]\u001b[A\n",
      "t:  40%|██████████████████████████▋                                       | 284/703 [00:00<00:01, 331.65it/s, now=None]\u001b[A\n",
      "t:  49%|████████████████████████████████▎                                 | 344/703 [00:01<00:00, 400.30it/s, now=None]\u001b[A\n",
      "t:  59%|██████████████████████████████████████▊                           | 414/703 [00:01<00:00, 443.64it/s, now=None]\u001b[A\n",
      "t:  67%|████████████████████████████████████████████                      | 469/703 [00:01<00:00, 412.60it/s, now=None]\u001b[A\n",
      "t:  74%|████████████████████████████████████████████████▌                 | 517/703 [00:01<00:00, 361.00it/s, now=None]\u001b[A\n",
      "t:  80%|████████████████████████████████████████████████████▌             | 560/703 [00:01<00:00, 308.12it/s, now=None]\u001b[A\n",
      "t:  88%|██████████████████████████████████████████████████████████        | 619/703 [00:01<00:00, 320.82it/s, now=None]\u001b[A\n",
      "t:  93%|█████████████████████████████████████████████████████████████▍    | 655/703 [00:01<00:00, 324.95it/s, now=None]\u001b[A\n",
      "t:  98%|████████████████████████████████████████████████████████████████▊ | 690/703 [00:02<00:00, 281.80it/s, now=None]\u001b[A\n",
      "t:  11%|███████▌                                                           | 57/507 [30:40<00:02, 218.20it/s, now=None]\u001b[A"
     ]
    },
    {
     "name": "stdout",
     "output_type": "stream",
     "text": [
      "Moviepy - Done !\n",
      "Moviepy - video ready generated_summary/custom_test/3eYKfiOEJNs.mp4\n",
      "video_3\n"
     ]
    },
    {
     "name": "stderr",
     "output_type": "stream",
     "text": [
      "t:  11%|███████▌                                                           | 57/507 [30:41<00:02, 218.20it/s, now=None]"
     ]
    },
    {
     "name": "stdout",
     "output_type": "stream",
     "text": [
      "1\n",
      "Moviepy - Building video generated_summary/custom_test/ehsaas.mp4.\n",
      "MoviePy - Writing audio in ehsaasTEMP_MPY_wvf_snd.mp3\n"
     ]
    },
    {
     "ename": "ValueError",
     "evalue": "Number of samples, -107334, must be non-negative.",
     "output_type": "error",
     "traceback": [
      "\u001b[1;31m---------------------------------------------------------------------------\u001b[0m",
      "\u001b[1;31mValueError\u001b[0m                                Traceback (most recent call last)",
      "Input \u001b[1;32mIn [20]\u001b[0m, in \u001b[0;36m<cell line: 1>\u001b[1;34m()\u001b[0m\n\u001b[1;32m----> 1\u001b[0m \u001b[43mclipout_with_audio\u001b[49m\u001b[43m(\u001b[49m\u001b[43margs\u001b[49m\u001b[43m)\u001b[49m\n",
      "Input \u001b[1;32mIn [14]\u001b[0m, in \u001b[0;36mclipout_with_audio\u001b[1;34m(args)\u001b[0m\n\u001b[0;32m     35\u001b[0m final_clip \u001b[38;5;241m=\u001b[39m concatenate_videoclips(clips)\n\u001b[0;32m     36\u001b[0m final_clip\u001b[38;5;241m.\u001b[39mfps \u001b[38;5;241m=\u001b[39m fps\n\u001b[1;32m---> 37\u001b[0m \u001b[43mfinal_clip\u001b[49m\u001b[38;5;241;43m.\u001b[39;49m\u001b[43mwrite_videofile\u001b[49m\u001b[43m(\u001b[49m\u001b[43msumm_folder\u001b[49m\u001b[38;5;241;43m+\u001b[39;49m\u001b[38;5;124;43m'\u001b[39;49m\u001b[38;5;124;43m/\u001b[39;49m\u001b[38;5;124;43m'\u001b[39;49m\u001b[38;5;241;43m+\u001b[39;49m\u001b[43mf\u001b[49m\u001b[43m[\u001b[49m\u001b[43mkey\u001b[49m\u001b[38;5;241;43m+\u001b[39;49m\u001b[38;5;124;43m'\u001b[39;49m\u001b[38;5;124;43m/video_name\u001b[39;49m\u001b[38;5;124;43m'\u001b[39;49m\u001b[43m]\u001b[49m\u001b[43m[\u001b[49m\u001b[43m(\u001b[49m\u001b[43m)\u001b[49m\u001b[43m]\u001b[49m\u001b[38;5;241;43m.\u001b[39;49m\u001b[43mdecode\u001b[49m\u001b[43m(\u001b[49m\u001b[43m)\u001b[49m\u001b[43m)\u001b[49m\n",
      "File \u001b[1;32m<decorator-gen-72>:2\u001b[0m, in \u001b[0;36mwrite_videofile\u001b[1;34m(self, filename, fps, codec, bitrate, audio, audio_fps, preset, audio_nbytes, audio_codec, audio_bitrate, audio_bufsize, temp_audiofile, rewrite_audio, remove_temp, write_logfile, verbose, threads, ffmpeg_params, logger)\u001b[0m\n",
      "File \u001b[1;32m~\\anaconda3\\lib\\site-packages\\moviepy\\decorators.py:54\u001b[0m, in \u001b[0;36mrequires_duration\u001b[1;34m(f, clip, *a, **k)\u001b[0m\n\u001b[0;32m     52\u001b[0m     \u001b[38;5;28;01mraise\u001b[39;00m \u001b[38;5;167;01mValueError\u001b[39;00m(\u001b[38;5;124m\"\u001b[39m\u001b[38;5;124mAttribute \u001b[39m\u001b[38;5;124m'\u001b[39m\u001b[38;5;124mduration\u001b[39m\u001b[38;5;124m'\u001b[39m\u001b[38;5;124m not set\u001b[39m\u001b[38;5;124m\"\u001b[39m)\n\u001b[0;32m     53\u001b[0m \u001b[38;5;28;01melse\u001b[39;00m:\n\u001b[1;32m---> 54\u001b[0m     \u001b[38;5;28;01mreturn\u001b[39;00m f(clip, \u001b[38;5;241m*\u001b[39ma, \u001b[38;5;241m*\u001b[39m\u001b[38;5;241m*\u001b[39mk)\n",
      "File \u001b[1;32m<decorator-gen-71>:2\u001b[0m, in \u001b[0;36mwrite_videofile\u001b[1;34m(self, filename, fps, codec, bitrate, audio, audio_fps, preset, audio_nbytes, audio_codec, audio_bitrate, audio_bufsize, temp_audiofile, rewrite_audio, remove_temp, write_logfile, verbose, threads, ffmpeg_params, logger)\u001b[0m\n",
      "File \u001b[1;32m~\\anaconda3\\lib\\site-packages\\moviepy\\decorators.py:135\u001b[0m, in \u001b[0;36muse_clip_fps_by_default\u001b[1;34m(f, clip, *a, **k)\u001b[0m\n\u001b[0;32m    130\u001b[0m new_a \u001b[38;5;241m=\u001b[39m [fun(arg) \u001b[38;5;28;01mif\u001b[39;00m (name\u001b[38;5;241m==\u001b[39m\u001b[38;5;124m'\u001b[39m\u001b[38;5;124mfps\u001b[39m\u001b[38;5;124m'\u001b[39m) \u001b[38;5;28;01melse\u001b[39;00m arg\n\u001b[0;32m    131\u001b[0m          \u001b[38;5;28;01mfor\u001b[39;00m (arg, name) \u001b[38;5;129;01min\u001b[39;00m \u001b[38;5;28mzip\u001b[39m(a, names)]\n\u001b[0;32m    132\u001b[0m new_kw \u001b[38;5;241m=\u001b[39m {k: fun(v) \u001b[38;5;28;01mif\u001b[39;00m k\u001b[38;5;241m==\u001b[39m\u001b[38;5;124m'\u001b[39m\u001b[38;5;124mfps\u001b[39m\u001b[38;5;124m'\u001b[39m \u001b[38;5;28;01melse\u001b[39;00m v\n\u001b[0;32m    133\u001b[0m          \u001b[38;5;28;01mfor\u001b[39;00m (k,v) \u001b[38;5;129;01min\u001b[39;00m k\u001b[38;5;241m.\u001b[39mitems()}\n\u001b[1;32m--> 135\u001b[0m \u001b[38;5;28;01mreturn\u001b[39;00m f(clip, \u001b[38;5;241m*\u001b[39mnew_a, \u001b[38;5;241m*\u001b[39m\u001b[38;5;241m*\u001b[39mnew_kw)\n",
      "File \u001b[1;32m<decorator-gen-70>:2\u001b[0m, in \u001b[0;36mwrite_videofile\u001b[1;34m(self, filename, fps, codec, bitrate, audio, audio_fps, preset, audio_nbytes, audio_codec, audio_bitrate, audio_bufsize, temp_audiofile, rewrite_audio, remove_temp, write_logfile, verbose, threads, ffmpeg_params, logger)\u001b[0m\n",
      "File \u001b[1;32m~\\anaconda3\\lib\\site-packages\\moviepy\\decorators.py:22\u001b[0m, in \u001b[0;36mconvert_masks_to_RGB\u001b[1;34m(f, clip, *a, **k)\u001b[0m\n\u001b[0;32m     20\u001b[0m \u001b[38;5;28;01mif\u001b[39;00m clip\u001b[38;5;241m.\u001b[39mismask:\n\u001b[0;32m     21\u001b[0m     clip \u001b[38;5;241m=\u001b[39m clip\u001b[38;5;241m.\u001b[39mto_RGB()\n\u001b[1;32m---> 22\u001b[0m \u001b[38;5;28;01mreturn\u001b[39;00m f(clip, \u001b[38;5;241m*\u001b[39ma, \u001b[38;5;241m*\u001b[39m\u001b[38;5;241m*\u001b[39mk)\n",
      "File \u001b[1;32m~\\anaconda3\\lib\\site-packages\\moviepy\\video\\VideoClip.py:293\u001b[0m, in \u001b[0;36mVideoClip.write_videofile\u001b[1;34m(self, filename, fps, codec, bitrate, audio, audio_fps, preset, audio_nbytes, audio_codec, audio_bitrate, audio_bufsize, temp_audiofile, rewrite_audio, remove_temp, write_logfile, verbose, threads, ffmpeg_params, logger)\u001b[0m\n\u001b[0;32m    291\u001b[0m logger(message\u001b[38;5;241m=\u001b[39m\u001b[38;5;124m\"\u001b[39m\u001b[38;5;124mMoviepy - Building video \u001b[39m\u001b[38;5;132;01m%s\u001b[39;00m\u001b[38;5;124m.\u001b[39m\u001b[38;5;124m\"\u001b[39m \u001b[38;5;241m%\u001b[39m filename)\n\u001b[0;32m    292\u001b[0m \u001b[38;5;28;01mif\u001b[39;00m make_audio:\n\u001b[1;32m--> 293\u001b[0m     \u001b[38;5;28;43mself\u001b[39;49m\u001b[38;5;241;43m.\u001b[39;49m\u001b[43maudio\u001b[49m\u001b[38;5;241;43m.\u001b[39;49m\u001b[43mwrite_audiofile\u001b[49m\u001b[43m(\u001b[49m\u001b[43maudiofile\u001b[49m\u001b[43m,\u001b[49m\u001b[43m \u001b[49m\u001b[43maudio_fps\u001b[49m\u001b[43m,\u001b[49m\n\u001b[0;32m    294\u001b[0m \u001b[43m                               \u001b[49m\u001b[43maudio_nbytes\u001b[49m\u001b[43m,\u001b[49m\u001b[43m \u001b[49m\u001b[43maudio_bufsize\u001b[49m\u001b[43m,\u001b[49m\n\u001b[0;32m    295\u001b[0m \u001b[43m                               \u001b[49m\u001b[43maudio_codec\u001b[49m\u001b[43m,\u001b[49m\u001b[43m \u001b[49m\u001b[43mbitrate\u001b[49m\u001b[38;5;241;43m=\u001b[39;49m\u001b[43maudio_bitrate\u001b[49m\u001b[43m,\u001b[49m\n\u001b[0;32m    296\u001b[0m \u001b[43m                               \u001b[49m\u001b[43mwrite_logfile\u001b[49m\u001b[38;5;241;43m=\u001b[39;49m\u001b[43mwrite_logfile\u001b[49m\u001b[43m,\u001b[49m\n\u001b[0;32m    297\u001b[0m \u001b[43m                               \u001b[49m\u001b[43mverbose\u001b[49m\u001b[38;5;241;43m=\u001b[39;49m\u001b[43mverbose\u001b[49m\u001b[43m,\u001b[49m\n\u001b[0;32m    298\u001b[0m \u001b[43m                               \u001b[49m\u001b[43mlogger\u001b[49m\u001b[38;5;241;43m=\u001b[39;49m\u001b[43mlogger\u001b[49m\u001b[43m)\u001b[49m\n\u001b[0;32m    300\u001b[0m ffmpeg_write_video(\u001b[38;5;28mself\u001b[39m, filename, fps, codec,\n\u001b[0;32m    301\u001b[0m                    bitrate\u001b[38;5;241m=\u001b[39mbitrate,\n\u001b[0;32m    302\u001b[0m                    preset\u001b[38;5;241m=\u001b[39mpreset,\n\u001b[1;32m   (...)\u001b[0m\n\u001b[0;32m    306\u001b[0m                    ffmpeg_params\u001b[38;5;241m=\u001b[39mffmpeg_params,\n\u001b[0;32m    307\u001b[0m                    logger\u001b[38;5;241m=\u001b[39mlogger)\n\u001b[0;32m    309\u001b[0m \u001b[38;5;28;01mif\u001b[39;00m remove_temp \u001b[38;5;129;01mand\u001b[39;00m make_audio:\n",
      "File \u001b[1;32m<decorator-gen-62>:2\u001b[0m, in \u001b[0;36mwrite_audiofile\u001b[1;34m(self, filename, fps, nbytes, buffersize, codec, bitrate, ffmpeg_params, write_logfile, verbose, logger)\u001b[0m\n",
      "File \u001b[1;32m~\\anaconda3\\lib\\site-packages\\moviepy\\decorators.py:54\u001b[0m, in \u001b[0;36mrequires_duration\u001b[1;34m(f, clip, *a, **k)\u001b[0m\n\u001b[0;32m     52\u001b[0m     \u001b[38;5;28;01mraise\u001b[39;00m \u001b[38;5;167;01mValueError\u001b[39;00m(\u001b[38;5;124m\"\u001b[39m\u001b[38;5;124mAttribute \u001b[39m\u001b[38;5;124m'\u001b[39m\u001b[38;5;124mduration\u001b[39m\u001b[38;5;124m'\u001b[39m\u001b[38;5;124m not set\u001b[39m\u001b[38;5;124m\"\u001b[39m)\n\u001b[0;32m     53\u001b[0m \u001b[38;5;28;01melse\u001b[39;00m:\n\u001b[1;32m---> 54\u001b[0m     \u001b[38;5;28;01mreturn\u001b[39;00m f(clip, \u001b[38;5;241m*\u001b[39ma, \u001b[38;5;241m*\u001b[39m\u001b[38;5;241m*\u001b[39mk)\n",
      "File \u001b[1;32m~\\anaconda3\\lib\\site-packages\\moviepy\\audio\\AudioClip.py:206\u001b[0m, in \u001b[0;36mAudioClip.write_audiofile\u001b[1;34m(self, filename, fps, nbytes, buffersize, codec, bitrate, ffmpeg_params, write_logfile, verbose, logger)\u001b[0m\n\u001b[0;32m    201\u001b[0m     \u001b[38;5;28;01mexcept\u001b[39;00m \u001b[38;5;167;01mKeyError\u001b[39;00m:\n\u001b[0;32m    202\u001b[0m         \u001b[38;5;28;01mraise\u001b[39;00m \u001b[38;5;167;01mValueError\u001b[39;00m(\u001b[38;5;124m\"\u001b[39m\u001b[38;5;124mMoviePy couldn\u001b[39m\u001b[38;5;124m'\u001b[39m\u001b[38;5;124mt find the codec associated \u001b[39m\u001b[38;5;124m\"\u001b[39m\n\u001b[0;32m    203\u001b[0m                          \u001b[38;5;124m\"\u001b[39m\u001b[38;5;124mwith the filename. Provide the \u001b[39m\u001b[38;5;124m'\u001b[39m\u001b[38;5;124mcodec\u001b[39m\u001b[38;5;124m'\u001b[39m\u001b[38;5;124m \u001b[39m\u001b[38;5;124m\"\u001b[39m\n\u001b[0;32m    204\u001b[0m                          \u001b[38;5;124m\"\u001b[39m\u001b[38;5;124mparameter in write_audiofile.\u001b[39m\u001b[38;5;124m\"\u001b[39m)\n\u001b[1;32m--> 206\u001b[0m \u001b[38;5;28;01mreturn\u001b[39;00m \u001b[43mffmpeg_audiowrite\u001b[49m\u001b[43m(\u001b[49m\u001b[38;5;28;43mself\u001b[39;49m\u001b[43m,\u001b[49m\u001b[43m \u001b[49m\u001b[43mfilename\u001b[49m\u001b[43m,\u001b[49m\u001b[43m \u001b[49m\u001b[43mfps\u001b[49m\u001b[43m,\u001b[49m\u001b[43m \u001b[49m\u001b[43mnbytes\u001b[49m\u001b[43m,\u001b[49m\u001b[43m \u001b[49m\u001b[43mbuffersize\u001b[49m\u001b[43m,\u001b[49m\n\u001b[0;32m    207\u001b[0m \u001b[43m                         \u001b[49m\u001b[43mcodec\u001b[49m\u001b[38;5;241;43m=\u001b[39;49m\u001b[43mcodec\u001b[49m\u001b[43m,\u001b[49m\u001b[43m \u001b[49m\u001b[43mbitrate\u001b[49m\u001b[38;5;241;43m=\u001b[39;49m\u001b[43mbitrate\u001b[49m\u001b[43m,\u001b[49m\n\u001b[0;32m    208\u001b[0m \u001b[43m                         \u001b[49m\u001b[43mwrite_logfile\u001b[49m\u001b[38;5;241;43m=\u001b[39;49m\u001b[43mwrite_logfile\u001b[49m\u001b[43m,\u001b[49m\u001b[43m \u001b[49m\u001b[43mverbose\u001b[49m\u001b[38;5;241;43m=\u001b[39;49m\u001b[43mverbose\u001b[49m\u001b[43m,\u001b[49m\n\u001b[0;32m    209\u001b[0m \u001b[43m                         \u001b[49m\u001b[43mffmpeg_params\u001b[49m\u001b[38;5;241;43m=\u001b[39;49m\u001b[43mffmpeg_params\u001b[49m\u001b[43m,\u001b[49m\n\u001b[0;32m    210\u001b[0m \u001b[43m                         \u001b[49m\u001b[43mlogger\u001b[49m\u001b[38;5;241;43m=\u001b[39;49m\u001b[43mlogger\u001b[49m\u001b[43m)\u001b[49m\n",
      "File \u001b[1;32m<decorator-gen-26>:2\u001b[0m, in \u001b[0;36mffmpeg_audiowrite\u001b[1;34m(clip, filename, fps, nbytes, buffersize, codec, bitrate, write_logfile, verbose, ffmpeg_params, logger)\u001b[0m\n",
      "File \u001b[1;32m~\\anaconda3\\lib\\site-packages\\moviepy\\decorators.py:54\u001b[0m, in \u001b[0;36mrequires_duration\u001b[1;34m(f, clip, *a, **k)\u001b[0m\n\u001b[0;32m     52\u001b[0m     \u001b[38;5;28;01mraise\u001b[39;00m \u001b[38;5;167;01mValueError\u001b[39;00m(\u001b[38;5;124m\"\u001b[39m\u001b[38;5;124mAttribute \u001b[39m\u001b[38;5;124m'\u001b[39m\u001b[38;5;124mduration\u001b[39m\u001b[38;5;124m'\u001b[39m\u001b[38;5;124m not set\u001b[39m\u001b[38;5;124m\"\u001b[39m)\n\u001b[0;32m     53\u001b[0m \u001b[38;5;28;01melse\u001b[39;00m:\n\u001b[1;32m---> 54\u001b[0m     \u001b[38;5;28;01mreturn\u001b[39;00m f(clip, \u001b[38;5;241m*\u001b[39ma, \u001b[38;5;241m*\u001b[39m\u001b[38;5;241m*\u001b[39mk)\n",
      "File \u001b[1;32m~\\anaconda3\\lib\\site-packages\\moviepy\\audio\\io\\ffmpeg_audiowriter.py:166\u001b[0m, in \u001b[0;36mffmpeg_audiowrite\u001b[1;34m(clip, filename, fps, nbytes, buffersize, codec, bitrate, write_logfile, verbose, ffmpeg_params, logger)\u001b[0m\n\u001b[0;32m    160\u001b[0m logger(message\u001b[38;5;241m=\u001b[39m\u001b[38;5;124m\"\u001b[39m\u001b[38;5;124mMoviePy - Writing audio in \u001b[39m\u001b[38;5;132;01m%s\u001b[39;00m\u001b[38;5;124m\"\u001b[39m \u001b[38;5;241m%\u001b[39m filename)\n\u001b[0;32m    161\u001b[0m writer \u001b[38;5;241m=\u001b[39m FFMPEG_AudioWriter(filename, fps, nbytes, clip\u001b[38;5;241m.\u001b[39mnchannels,\n\u001b[0;32m    162\u001b[0m                             codec\u001b[38;5;241m=\u001b[39mcodec, bitrate\u001b[38;5;241m=\u001b[39mbitrate,\n\u001b[0;32m    163\u001b[0m                             logfile\u001b[38;5;241m=\u001b[39mlogfile,\n\u001b[0;32m    164\u001b[0m                             ffmpeg_params\u001b[38;5;241m=\u001b[39mffmpeg_params)\n\u001b[1;32m--> 166\u001b[0m \u001b[38;5;28;01mfor\u001b[39;00m chunk \u001b[38;5;129;01min\u001b[39;00m clip\u001b[38;5;241m.\u001b[39miter_chunks(chunksize\u001b[38;5;241m=\u001b[39mbuffersize,\n\u001b[0;32m    167\u001b[0m                               quantize\u001b[38;5;241m=\u001b[39m\u001b[38;5;28;01mTrue\u001b[39;00m,\n\u001b[0;32m    168\u001b[0m                               nbytes\u001b[38;5;241m=\u001b[39mnbytes, fps\u001b[38;5;241m=\u001b[39mfps,\n\u001b[0;32m    169\u001b[0m                               logger\u001b[38;5;241m=\u001b[39mlogger):\n\u001b[0;32m    170\u001b[0m     writer\u001b[38;5;241m.\u001b[39mwrite_frames(chunk)\n\u001b[0;32m    172\u001b[0m writer\u001b[38;5;241m.\u001b[39mclose()\n",
      "File \u001b[1;32m~\\anaconda3\\lib\\site-packages\\moviepy\\audio\\AudioClip.py:79\u001b[0m, in \u001b[0;36mAudioClip.iter_chunks\u001b[1;34m(self, chunksize, chunk_duration, fps, quantize, nbytes, logger)\u001b[0m\n\u001b[0;32m     75\u001b[0m totalsize \u001b[38;5;241m=\u001b[39m \u001b[38;5;28mint\u001b[39m(fps\u001b[38;5;241m*\u001b[39m\u001b[38;5;28mself\u001b[39m\u001b[38;5;241m.\u001b[39mduration)\n\u001b[0;32m     77\u001b[0m nchunks \u001b[38;5;241m=\u001b[39m totalsize \u001b[38;5;241m/\u001b[39m\u001b[38;5;241m/\u001b[39m chunksize \u001b[38;5;241m+\u001b[39m \u001b[38;5;241m1\u001b[39m\n\u001b[1;32m---> 79\u001b[0m pospos \u001b[38;5;241m=\u001b[39m \u001b[43mnp\u001b[49m\u001b[38;5;241;43m.\u001b[39;49m\u001b[43mlinspace\u001b[49m\u001b[43m(\u001b[49m\u001b[38;5;241;43m0\u001b[39;49m\u001b[43m,\u001b[49m\u001b[43m \u001b[49m\u001b[43mtotalsize\u001b[49m\u001b[43m,\u001b[49m\u001b[43m \u001b[49m\u001b[43mnchunks\u001b[49m\u001b[43m \u001b[49m\u001b[38;5;241;43m+\u001b[39;49m\u001b[43m \u001b[49m\u001b[38;5;241;43m1\u001b[39;49m\u001b[43m,\u001b[49m\u001b[43m \u001b[49m\u001b[43mendpoint\u001b[49m\u001b[38;5;241;43m=\u001b[39;49m\u001b[38;5;28;43;01mTrue\u001b[39;49;00m\u001b[43m,\u001b[49m\u001b[43m \u001b[49m\u001b[43mdtype\u001b[49m\u001b[38;5;241;43m=\u001b[39;49m\u001b[38;5;28;43mint\u001b[39;49m\u001b[43m)\u001b[49m\n\u001b[0;32m     81\u001b[0m \u001b[38;5;28;01mfor\u001b[39;00m i \u001b[38;5;129;01min\u001b[39;00m logger\u001b[38;5;241m.\u001b[39miter_bar(chunk\u001b[38;5;241m=\u001b[39m\u001b[38;5;28mlist\u001b[39m(\u001b[38;5;28mrange\u001b[39m(nchunks))):\n\u001b[0;32m     82\u001b[0m     size \u001b[38;5;241m=\u001b[39m pospos[i\u001b[38;5;241m+\u001b[39m\u001b[38;5;241m1\u001b[39m] \u001b[38;5;241m-\u001b[39m pospos[i]\n",
      "File \u001b[1;32m<__array_function__ internals>:5\u001b[0m, in \u001b[0;36mlinspace\u001b[1;34m(*args, **kwargs)\u001b[0m\n",
      "File \u001b[1;32m~\\anaconda3\\lib\\site-packages\\numpy\\core\\function_base.py:122\u001b[0m, in \u001b[0;36mlinspace\u001b[1;34m(start, stop, num, endpoint, retstep, dtype, axis)\u001b[0m\n\u001b[0;32m    120\u001b[0m num \u001b[38;5;241m=\u001b[39m operator\u001b[38;5;241m.\u001b[39mindex(num)\n\u001b[0;32m    121\u001b[0m \u001b[38;5;28;01mif\u001b[39;00m num \u001b[38;5;241m<\u001b[39m \u001b[38;5;241m0\u001b[39m:\n\u001b[1;32m--> 122\u001b[0m     \u001b[38;5;28;01mraise\u001b[39;00m \u001b[38;5;167;01mValueError\u001b[39;00m(\u001b[38;5;124m\"\u001b[39m\u001b[38;5;124mNumber of samples, \u001b[39m\u001b[38;5;132;01m%s\u001b[39;00m\u001b[38;5;124m, must be non-negative.\u001b[39m\u001b[38;5;124m\"\u001b[39m \u001b[38;5;241m%\u001b[39m num)\n\u001b[0;32m    123\u001b[0m div \u001b[38;5;241m=\u001b[39m (num \u001b[38;5;241m-\u001b[39m \u001b[38;5;241m1\u001b[39m) \u001b[38;5;28;01mif\u001b[39;00m endpoint \u001b[38;5;28;01melse\u001b[39;00m num\n\u001b[0;32m    125\u001b[0m \u001b[38;5;66;03m# Convert float/complex array scalars to float, gh-3504\u001b[39;00m\n\u001b[0;32m    126\u001b[0m \u001b[38;5;66;03m# and make sure one can use variables that have an __array_interface__, gh-6634\u001b[39;00m\n",
      "\u001b[1;31mValueError\u001b[0m: Number of samples, -107334, must be non-negative."
     ]
    }
   ],
   "source": [
    "clipout_with_audio(args)"
   ]
  },
  {
   "cell_type": "code",
   "execution_count": 6,
   "id": "2e76d887-f385-4cab-8d96-4ad396a283b2",
   "metadata": {},
   "outputs": [
    {
     "name": "stdout",
     "output_type": "stream",
     "text": [
      "Found existing installation: moviepy 1.0.3\n",
      "Uninstalling moviepy-1.0.3:\n",
      "  Successfully uninstalled moviepy-1.0.3\n",
      "Found existing installation: decorator 4.4.2\n",
      "Uninstalling decorator-4.4.2:\n",
      "  Successfully uninstalled decorator-4.4.2\n"
     ]
    },
    {
     "name": "stderr",
     "output_type": "stream",
     "text": [
      "WARNING: Ignoring invalid distribution -rotobuf (c:\\users\\msc 2\\anaconda3\\lib\\site-packages)\n",
      "WARNING: Ignoring invalid distribution -rotobuf (c:\\users\\msc 2\\anaconda3\\lib\\site-packages)\n",
      "WARNING: Ignoring invalid distribution -rotobuf (c:\\users\\msc 2\\anaconda3\\lib\\site-packages)\n"
     ]
    }
   ],
   "source": [
    "!pip uninstall -y moviepy decorator \n"
   ]
  },
  {
   "cell_type": "code",
   "execution_count": null,
   "id": "4ffdf4c8-53b9-4108-948d-0838e3ae9605",
   "metadata": {},
   "outputs": [],
   "source": [
    "!pip install moviepy"
   ]
  },
  {
   "cell_type": "code",
   "execution_count": null,
   "id": "a5ea9d3d-cff4-4c33-9c0e-f322c690b4af",
   "metadata": {},
   "outputs": [],
   "source": []
  }
 ],
 "metadata": {
  "kernelspec": {
   "display_name": "Python 3 (ipykernel)",
   "language": "python",
   "name": "python3"
  },
  "language_info": {
   "codemirror_mode": {
    "name": "ipython",
    "version": 3
   },
   "file_extension": ".py",
   "mimetype": "text/x-python",
   "name": "python",
   "nbconvert_exporter": "python",
   "pygments_lexer": "ipython3",
   "version": "3.9.12"
  }
 },
 "nbformat": 4,
 "nbformat_minor": 5
}
