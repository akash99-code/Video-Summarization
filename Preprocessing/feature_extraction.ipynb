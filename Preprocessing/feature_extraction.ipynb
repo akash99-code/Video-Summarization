{
 "cells": [
  {
   "cell_type": "markdown",
   "id": "62efed64-9c9e-4aea-bdd3-ee0ce51a0dfd",
   "metadata": {
    "tags": []
   },
   "source": [
    "## Feature Extraction"
   ]
  },
  {
   "cell_type": "markdown",
   "id": "ae22b9d9-432f-4ce9-ab1a-363d5d77bb60",
   "metadata": {},
   "source": [
    "**Packages**"
   ]
  },
  {
   "cell_type": "code",
   "execution_count": 1,
   "id": "7fa16b01-cf5d-4004-8390-7deda06173ae",
   "metadata": {
    "tags": []
   },
   "outputs": [],
   "source": [
    "import os\n",
    "import pandas as pd\n",
    "import numpy as np\n",
    "\n",
    "import torch\n",
    "import torchvision.models as tmodels\n",
    "from torch.autograd import Variable\n",
    "from torchvision import transforms\n",
    "\n",
    "import cv2\n",
    "from PIL import Image\n",
    "import h5py\n",
    "from tqdm import tqdm\n",
    "from time import time"
   ]
  },
  {
   "cell_type": "markdown",
   "id": "dac7f7bc-dbd6-4708-b9f9-032a6edcb440",
   "metadata": {},
   "source": [
    "**Variables**"
   ]
  },
  {
   "cell_type": "code",
   "execution_count": 2,
   "id": "d2a287ef-4279-466d-8dca-f9316a783d56",
   "metadata": {
    "tags": []
   },
   "outputs": [],
   "source": [
    "EXTRACT_FREQUENCY = 15\n",
    "BATCH_SIZE = 16\n",
    "\n",
    "args = {'use_cpu':True}"
   ]
  },
  {
   "cell_type": "markdown",
   "id": "948adf19-38ff-4d7c-9f9d-af81c2aa603a",
   "metadata": {
    "tags": []
   },
   "source": [
    "##### )) Paths"
   ]
  },
  {
   "cell_type": "code",
   "execution_count": 3,
   "id": "6c0fbc53-1fad-482a-9d9b-28b790cf6b87",
   "metadata": {},
   "outputs": [],
   "source": [
    "\n",
    "datasets_path='../data'\n",
    "public_dataset_path=datasets_path+'/Public datasets'\n",
    "tvsum_data = public_dataset_path+'/ydata-tvsum50-v1_1'\n",
    "summe_data = public_dataset_path+'/SUMMe'\n",
    "custom_data = datasets_path+'/Custom data'\n",
    "\n",
    "\n",
    "features_path = 'extracted_features'\n",
    "normalFt_path = features_path+'/normal'\n",
    "hashbasedFt_path = features_path+'/hashbased'"
   ]
  },
  {
   "cell_type": "markdown",
   "id": "0b759493-a70b-461b-bba3-7f734cb83437",
   "metadata": {
    "tags": []
   },
   "source": [
    "##### )) GoogLeNet Model"
   ]
  },
  {
   "cell_type": "code",
   "execution_count": 4,
   "id": "f17d2d72-8964-41f1-b15c-10495a8cc3b5",
   "metadata": {},
   "outputs": [
    {
     "name": "stderr",
     "output_type": "stream",
     "text": [
      "C:\\Users\\Msc 2\\anaconda3\\lib\\site-packages\\torchvision\\models\\_utils.py:208: UserWarning: The parameter 'pretrained' is deprecated since 0.13 and will be removed in 0.15, please use 'weights' instead.\n",
      "  warnings.warn(\n",
      "C:\\Users\\Msc 2\\anaconda3\\lib\\site-packages\\torchvision\\models\\_utils.py:223: UserWarning: Arguments other than a weight enum or `None` for 'weights' are deprecated since 0.13 and will be removed in 0.15. The current behavior is equivalent to passing `weights=GoogLeNet_Weights.IMAGENET1K_V1`. You can also use `weights=GoogLeNet_Weights.DEFAULT` to get the most up-to-date weights.\n",
      "  warnings.warn(msg)\n"
     ]
    }
   ],
   "source": [
    "googlenet = tmodels.googlenet(pretrained=True)\n",
    "googlenet = torch.nn.Sequential(*list(googlenet.children())[:-2])\n",
    "# googlenet.eval()"
   ]
  },
  {
   "cell_type": "code",
   "execution_count": 5,
   "id": "1fd275c9-e68f-4fe9-839c-6ed757f5e2b8",
   "metadata": {
    "tags": []
   },
   "outputs": [],
   "source": [
    "device = 'cuda' if torch.cuda.is_available() and not use_cpu else 'cpu'\n",
    "googlenet = googlenet.to(device)"
   ]
  },
  {
   "cell_type": "markdown",
   "id": "c88ccc9b-e6a9-4044-ad90-53e9596460fb",
   "metadata": {
    "tags": []
   },
   "source": [
    "##### )) Frame preprocessing"
   ]
  },
  {
   "cell_type": "code",
   "execution_count": 5,
   "id": "65ebc6c7-4bdc-4d45-9f2c-25a2c97f4deb",
   "metadata": {},
   "outputs": [],
   "source": [
    "  \n",
    "def preprocess(frame):\n",
    "    tr = transforms.Compose([\n",
    "        transforms.Resize(224),\n",
    "        # transforms.CenterCrop(224),\n",
    "        transforms.ToTensor(),\n",
    "        transforms.Normalize(mean=[0.485, 0.456, 0.406], std=[0.229, 0.224, 0.225])\n",
    "    ])\n",
    "    \n",
    "    im = cv2.cvtColor(frame, cv2.COLOR_BGR2RGB) # BGR to RGB\n",
    "    im = Image.fromarray(im) # cv2 to PIL\n",
    "    im = tr(im)\n",
    "    fr = np.array(im)\n",
    "    \n",
    "    return fr\n"
   ]
  },
  {
   "cell_type": "markdown",
   "id": "07485476-6699-4c1c-8122-6315593c579b",
   "metadata": {
    "tags": []
   },
   "source": [
    "### Extraction Modules"
   ]
  },
  {
   "cell_type": "markdown",
   "id": "60fd3bb0-f2e6-45c3-b537-2544a8991711",
   "metadata": {
    "jp-MarkdownHeadingCollapsed": true,
    "tags": []
   },
   "source": [
    "##### )) Hashed based features"
   ]
  },
  {
   "cell_type": "code",
   "execution_count": 7,
   "id": "bdfd4712-fb8b-4536-940c-0c6213be87cc",
   "metadata": {},
   "outputs": [],
   "source": [
    "def dhash(img):\n",
    "    img=cv2.resize(img,(9,8),interpolation=cv2.INTER_CUBIC)\n",
    "    # gray=cv2.cvtColor(img,cv2.COLOR_BGR2GRAY)\n",
    "    gray=cv2.cvtColor(img,cv2.COLOR_RGB2GRAY)\n",
    "\n",
    "    dhash_str = ''\n",
    "    for i in range(8):\n",
    "        for j in range(8):\n",
    "            if gray[i, j] > gray[i, j + 1]:\n",
    "                dhash_str = dhash_str + '1'\n",
    "            else:\n",
    "                dhash_str = dhash_str + '0'\n",
    "    result = ''\n",
    "    for i in range(0, len(dhash_str), 4):\n",
    "        result += ''.join('%x' % int(dhash_str[i: i + 4], 2))\n",
    "    # print(result)\n",
    "    return result\n",
    "\n",
    "def hamming(s1, s2):\n",
    "    assert len(s1) == len(s2)\n",
    "    return sum([ch1 != ch2 for ch1, ch2 in zip(s1, s2)])"
   ]
  },
  {
   "cell_type": "code",
   "execution_count": 8,
   "id": "aeb7dde1-c977-44e5-9de3-4a3bba5f1a12",
   "metadata": {},
   "outputs": [],
   "source": [
    "def hash_gen_features(path, threshold):\n",
    "    cap = cv2.VideoCapture(path)\n",
    "    frames=[]\n",
    "    video_features = []\n",
    "    frame_count = cap.get(cv2.CAP_PROP_FRAME_COUNT)\n",
    "    fps = cap.get(cv2.CAP_PROP_FPS)\n",
    "    count = 0\n",
    "    skip_count = 0\n",
    "    \n",
    "    nframes = frame_count//EXTRACT_FREQUENCY * EXTRACT_FREQUENCY\n",
    "    \n",
    "    with torch.no_grad():\n",
    "        base = None\n",
    "        hash1 = None\n",
    "        while cap.isOpened():\n",
    "            # Capture frame-by-frame\n",
    "            ret, fr = cap.read()\n",
    "            if ret is False:\n",
    "                break\n",
    "            count += 1\n",
    "            \n",
    "            frame = preprocess(fr)\n",
    "\n",
    "            if count % EXTRACT_FREQUENCY == 0:\n",
    "                hash2=dhash(fr)\n",
    "                if hash1 is not None:\n",
    "                    dist = hamming(hash1,hash2)\n",
    "                if base is None or dist > threshold:\n",
    "                    base = fr\n",
    "                    hash1 = hash2\n",
    "                    frames.append(frame)\n",
    "                else:\n",
    "                    skip_count += 1\n",
    "                    frames.append(frame)\n",
    "                    \n",
    "                if (len(frames) == BATCH_SIZE) or (count == nframes and len(frames) > 0):\n",
    "                    batch = np.array(frames)\n",
    "                    if args['use_cpu']:\n",
    "                        variable = Variable(torch.from_numpy(batch).float())\n",
    "                        feature = googlenet(variable).detach().numpy()\n",
    "                    else:\n",
    "                        variable = Variable(torch.from_numpy(batch).float()).cuda()\n",
    "                        feature = googlenet(variable).cpu().detach().numpy()\n",
    "                        \n",
    "                    video_features.extend(feature)\n",
    "                    frames.clear()\n",
    "                    \n",
    "\n",
    "    cap.release()\n",
    "    video_features = np.squeeze(np.array(video_features))\n",
    "    return video_features, frame_count, fps"
   ]
  },
  {
   "cell_type": "markdown",
   "id": "8d57c5f9-469a-40fc-87a7-d6280badbfca",
   "metadata": {
    "tags": []
   },
   "source": [
    "##### )) Normal features"
   ]
  },
  {
   "cell_type": "code",
   "execution_count": 6,
   "id": "69c78097-3883-4b4d-82c7-ebb6dae9363c",
   "metadata": {},
   "outputs": [],
   "source": [
    "def gen_features(path):\n",
    "    cap = cv2.VideoCapture(path)\n",
    "    count = 0\n",
    "    frames = []\n",
    "    video_features = []\n",
    "    frame_count = cap.get(cv2.CAP_PROP_FRAME_COUNT)\n",
    "    fps = cap.get(cv2.CAP_PROP_FPS)\n",
    "    nframes = frame_count//EXTRACT_FREQUENCY * EXTRACT_FREQUENCY\n",
    "    \n",
    "    with torch.no_grad():\n",
    "        \n",
    "        while cap.isOpened():\n",
    "            ret, fr = cap.read()\n",
    "            if ret is False:\n",
    "                break\n",
    "\n",
    "            fr = preprocess(fr)\n",
    "            \n",
    "            count += 1\n",
    "            if count % EXTRACT_FREQUENCY == 0:\n",
    "                # frames.append(np.rollaxis(fr, 2))\n",
    "                frames.append(fr)\n",
    "                \n",
    "                \n",
    "            if (len(frames) == BATCH_SIZE) or (count == nframes and len(frames) > 0):\n",
    "                batch = np.array(frames)\n",
    "                # print(batch.shape)\n",
    "                if args['use_cpu']:\n",
    "                    variable = Variable(torch.from_numpy(batch).float())\n",
    "                    feature = googlenet(variable).detach().numpy()\n",
    "                else:\n",
    "                    variable = Variable(torch.from_numpy(batch).float()).cuda()\n",
    "                    feature = googlenet(variable).cpu().detach().numpy()\n",
    "                video_features.extend(feature)\n",
    "                frames.clear()\n",
    "    \n",
    "            \n",
    "    cap.release()\n",
    "\n",
    "    video_features = np.squeeze(np.array(video_features))\n",
    "    return video_features, frame_count, fps"
   ]
  },
  {
   "cell_type": "markdown",
   "id": "05431f38-86ae-4c03-8707-c049afd9280f",
   "metadata": {
    "tags": []
   },
   "source": [
    "##### )) Feature extraction and storage"
   ]
  },
  {
   "cell_type": "code",
   "execution_count": 7,
   "id": "966caa46-627b-4ab7-9ca2-bc9d6a48493e",
   "metadata": {},
   "outputs": [],
   "source": [
    "def extract_features(videos_path, h5output_path, method=None, names=None):\n",
    "    h5_file = h5output_path\n",
    "    # st = time()\n",
    "\n",
    "    with h5py.File(h5_file, 'w') as f:\n",
    "        files = os.listdir(videos_path)\n",
    "        cnt = 0\n",
    "        \n",
    "        pbar = tqdm(total = len(files), position=0, leave=True)\n",
    "        for file in files:\n",
    "            cnt += 1\n",
    "            path = videos_path + \"/\" + file\n",
    "            \n",
    "            if method == 'hashbased':\n",
    "                video_features, fcnt, fps = hash_gen_features(path,4.0)\n",
    "            else:\n",
    "                video_features, fcnt, fps = gen_features(path)\n",
    "\n",
    "            video_length = fcnt/fps\n",
    "            \n",
    "            if names:\n",
    "                video_ = 'video_'+str(names.index(file.split(\".\")[0])+1)\n",
    "            else:\n",
    "                video_ = 'video_'+str(cnt)\n",
    "\n",
    "            print(cnt,'.', video_, \"no. of frames=\", fcnt, \"Output dimension=\", video_features.shape)\n",
    "\n",
    "            f.create_dataset(video_ + '/n_frames', data=int(fcnt))\n",
    "            f.create_dataset(video_ + '/fps', data=int(fps))\n",
    "            f.create_dataset(video_ + '/features', data=video_features)\n",
    "            picks = np.arange(0, video_features.shape[0]) * EXTRACT_FREQUENCY\n",
    "            f.create_dataset(video_ + '/picks', data=picks)\n",
    "            f.create_dataset(video_+'/duration', data=video_length)\n",
    "            f.create_dataset(video_+'/video_name', data=str(file))\n",
    "            pbar.update(1)\n"
   ]
  },
  {
   "cell_type": "markdown",
   "id": "140196e6-439b-4c4a-8e02-b44be397518e",
   "metadata": {
    "tags": []
   },
   "source": [
    "### TVSum feature extraction"
   ]
  },
  {
   "cell_type": "markdown",
   "id": "d2f4b679-3be4-4b91-83ec-095094a74188",
   "metadata": {
    "tags": []
   },
   "source": [
    "##### )) TVSumm info"
   ]
  },
  {
   "cell_type": "code",
   "execution_count": 8,
   "id": "533353de-f7d3-487f-8561-791d53505f41",
   "metadata": {
    "collapsed": true,
    "jupyter": {
     "outputs_hidden": true
    },
    "tags": []
   },
   "outputs": [
    {
     "data": {
      "text/html": [
       "<div>\n",
       "<style scoped>\n",
       "    .dataframe tbody tr th:only-of-type {\n",
       "        vertical-align: middle;\n",
       "    }\n",
       "\n",
       "    .dataframe tbody tr th {\n",
       "        vertical-align: top;\n",
       "    }\n",
       "\n",
       "    .dataframe thead th {\n",
       "        text-align: right;\n",
       "    }\n",
       "</style>\n",
       "<table border=\"1\" class=\"dataframe\">\n",
       "  <thead>\n",
       "    <tr style=\"text-align: right;\">\n",
       "      <th></th>\n",
       "      <th>category</th>\n",
       "      <th>video_id</th>\n",
       "      <th>title</th>\n",
       "      <th>url</th>\n",
       "      <th>length</th>\n",
       "    </tr>\n",
       "  </thead>\n",
       "  <tbody>\n",
       "    <tr>\n",
       "      <th>0</th>\n",
       "      <td>VT</td>\n",
       "      <td>AwmHb44_ouw</td>\n",
       "      <td>#1306 How to change tires for off road vehicle...</td>\n",
       "      <td>https://www.youtube.com/watch?v=AwmHb44_ouw</td>\n",
       "      <td>5:54</td>\n",
       "    </tr>\n",
       "    <tr>\n",
       "      <th>1</th>\n",
       "      <td>VT</td>\n",
       "      <td>98MoyGZKHXc</td>\n",
       "      <td>How to use a tyre repair kit - Which? guide</td>\n",
       "      <td>https://www.youtube.com/watch?v=98MoyGZKHXc</td>\n",
       "      <td>3:07</td>\n",
       "    </tr>\n",
       "    <tr>\n",
       "      <th>2</th>\n",
       "      <td>VT</td>\n",
       "      <td>J0nA4VgnoCo</td>\n",
       "      <td>#0001: FLAT TIRE</td>\n",
       "      <td>https://www.youtube.com/watch?v=J0nA4VgnoCo</td>\n",
       "      <td>9:44</td>\n",
       "    </tr>\n",
       "    <tr>\n",
       "      <th>3</th>\n",
       "      <td>VT</td>\n",
       "      <td>gzDbaEs1Rlg</td>\n",
       "      <td>ŠKODA Tips How to Repair Your Tyre</td>\n",
       "      <td>https://www.youtube.com/watch?v=gzDbaEs1Rlg</td>\n",
       "      <td>4:48</td>\n",
       "    </tr>\n",
       "    <tr>\n",
       "      <th>4</th>\n",
       "      <td>VT</td>\n",
       "      <td>XzYM3PfTM4w</td>\n",
       "      <td>When to Replace Your Tires GMC</td>\n",
       "      <td>https://www.youtube.com/watch?v=XzYM3PfTM4w</td>\n",
       "      <td>1:51</td>\n",
       "    </tr>\n",
       "    <tr>\n",
       "      <th>5</th>\n",
       "      <td>VU</td>\n",
       "      <td>HT5vyqe0Xaw</td>\n",
       "      <td>The stuck truck of Mark, The rut that filled a...</td>\n",
       "      <td>https://www.youtube.com/watch?v=HT5vyqe0Xaw</td>\n",
       "      <td>5:22</td>\n",
       "    </tr>\n",
       "    <tr>\n",
       "      <th>6</th>\n",
       "      <td>VU</td>\n",
       "      <td>sTEELN-vY30</td>\n",
       "      <td>BBC - Train crash 2013</td>\n",
       "      <td>https://www.youtube.com/watch?v=sTEELN-vY30</td>\n",
       "      <td>2:29</td>\n",
       "    </tr>\n",
       "    <tr>\n",
       "      <th>7</th>\n",
       "      <td>VU</td>\n",
       "      <td>vdmoEJ5YbrQ</td>\n",
       "      <td>#453 girl gets van stuck in the back fourty [D...</td>\n",
       "      <td>https://www.youtube.com/watch?v=vdmoEJ5YbrQ</td>\n",
       "      <td>5:29</td>\n",
       "    </tr>\n",
       "    <tr>\n",
       "      <th>8</th>\n",
       "      <td>VU</td>\n",
       "      <td>xwqBXPGE9pQ</td>\n",
       "      <td>Smart Electric Vehicle Balances on Two Wheels</td>\n",
       "      <td>https://www.youtube.com/watch?v=xwqBXPGE9pQ</td>\n",
       "      <td>3:53</td>\n",
       "    </tr>\n",
       "    <tr>\n",
       "      <th>9</th>\n",
       "      <td>VU</td>\n",
       "      <td>akI8YFjEmUw</td>\n",
       "      <td>Electric cars making earth more green</td>\n",
       "      <td>https://www.youtube.com/watch?v=akI8YFjEmUw</td>\n",
       "      <td>2:13</td>\n",
       "    </tr>\n",
       "    <tr>\n",
       "      <th>10</th>\n",
       "      <td>GA</td>\n",
       "      <td>i3wAGJaaktw</td>\n",
       "      <td>Pet Joy Spa Grooming Services | Brentwood, CA ...</td>\n",
       "      <td>https://www.youtube.com/watch?v=i3wAGJaaktw</td>\n",
       "      <td>2:36</td>\n",
       "    </tr>\n",
       "    <tr>\n",
       "      <th>11</th>\n",
       "      <td>GA</td>\n",
       "      <td>Bhxk-O1Y7Ho</td>\n",
       "      <td>Vlog #509 I'M A PUPPY DOG GROOMER! September 1...</td>\n",
       "      <td>https://www.youtube.com/watch?v=Bhxk-O1Y7Ho</td>\n",
       "      <td>7:30</td>\n",
       "    </tr>\n",
       "    <tr>\n",
       "      <th>12</th>\n",
       "      <td>GA</td>\n",
       "      <td>0tmA_C6XwfM</td>\n",
       "      <td>Nail clipper Gloria Pets professional grooming</td>\n",
       "      <td>https://www.youtube.com/watch?v=0tmA_C6XwfM</td>\n",
       "      <td>2:21</td>\n",
       "    </tr>\n",
       "    <tr>\n",
       "      <th>13</th>\n",
       "      <td>GA</td>\n",
       "      <td>3eYKfiOEJNs</td>\n",
       "      <td>Dog Grooming in Buenos Aires</td>\n",
       "      <td>https://www.youtube.com/watch?v=3eYKfiOEJNs</td>\n",
       "      <td>3:14</td>\n",
       "    </tr>\n",
       "    <tr>\n",
       "      <th>14</th>\n",
       "      <td>GA</td>\n",
       "      <td>xxdtq8mxegs</td>\n",
       "      <td>How to Clean Your Dog's Ears - Vetoquinol USA</td>\n",
       "      <td>https://www.youtube.com/watch?v=xxdtq8mxegs</td>\n",
       "      <td>2:24</td>\n",
       "    </tr>\n",
       "    <tr>\n",
       "      <th>15</th>\n",
       "      <td>MS</td>\n",
       "      <td>WG0MBPpPC6I</td>\n",
       "      <td>Mexican Fried Chicken Sandwich Recipe</td>\n",
       "      <td>https://www.youtube.com/watch?v=WG0MBPpPC6I</td>\n",
       "      <td>6:37</td>\n",
       "    </tr>\n",
       "    <tr>\n",
       "      <th>16</th>\n",
       "      <td>MS</td>\n",
       "      <td>Hl-__g2gn_A</td>\n",
       "      <td>Reuben Sandwich with Corned Beef &amp; Sauerkraut</td>\n",
       "      <td>https://www.youtube.com/watch?v=Hl-__g2gn_A</td>\n",
       "      <td>4:03</td>\n",
       "    </tr>\n",
       "    <tr>\n",
       "      <th>17</th>\n",
       "      <td>MS</td>\n",
       "      <td>Yi4Ij2NM7U4</td>\n",
       "      <td>Poor Man's Meals: Spicy Sausage Sandwich</td>\n",
       "      <td>https://www.youtube.com/watch?v=Yi4Ij2NM7U4</td>\n",
       "      <td>6:45</td>\n",
       "    </tr>\n",
       "    <tr>\n",
       "      <th>18</th>\n",
       "      <td>MS</td>\n",
       "      <td>37rzWOQsNIw</td>\n",
       "      <td>Saigon Sandwich - Vietnamese Sandwiches in San...</td>\n",
       "      <td>https://www.youtube.com/watch?v=37rzWOQsNIw</td>\n",
       "      <td>3:11</td>\n",
       "    </tr>\n",
       "    <tr>\n",
       "      <th>19</th>\n",
       "      <td>MS</td>\n",
       "      <td>LRw_obCPUt0</td>\n",
       "      <td>GoogaMooga Sneak Peek Joseph Leonard's Fried C...</td>\n",
       "      <td>https://www.youtube.com/watch?v=LRw_obCPUt0</td>\n",
       "      <td>4:20</td>\n",
       "    </tr>\n",
       "    <tr>\n",
       "      <th>20</th>\n",
       "      <td>PK</td>\n",
       "      <td>cjibtmSLxQ4</td>\n",
       "      <td>David Belle | Fondateur du parkour | Reportage...</td>\n",
       "      <td>https://www.youtube.com/watch?v=cjibtmSLxQ4</td>\n",
       "      <td>10:47</td>\n",
       "    </tr>\n",
       "    <tr>\n",
       "      <th>21</th>\n",
       "      <td>PK</td>\n",
       "      <td>b626MiF1ew4</td>\n",
       "      <td>Charlotte Parkour | Charlotte Video Project</td>\n",
       "      <td>https://www.youtube.com/watch?v=b626MiF1ew4</td>\n",
       "      <td>3:55</td>\n",
       "    </tr>\n",
       "    <tr>\n",
       "      <th>22</th>\n",
       "      <td>PK</td>\n",
       "      <td>XkqCExn6_Us</td>\n",
       "      <td>Singapore Parkour Free Running | JC Boy Late f...</td>\n",
       "      <td>https://www.youtube.com/watch?v=XkqCExn6_Us</td>\n",
       "      <td>3:08</td>\n",
       "    </tr>\n",
       "    <tr>\n",
       "      <th>23</th>\n",
       "      <td>PK</td>\n",
       "      <td>GsAD1KT1xo8</td>\n",
       "      <td>Parkour Camp Leipzig</td>\n",
       "      <td>https://www.youtube.com/watch?v=GsAD1KT1xo8</td>\n",
       "      <td>2:25</td>\n",
       "    </tr>\n",
       "    <tr>\n",
       "      <th>24</th>\n",
       "      <td>PK</td>\n",
       "      <td>PJrm840pAUI</td>\n",
       "      <td>Vivencias: Jam Parkour Viña del Mar 2012</td>\n",
       "      <td>https://www.youtube.com/watch?v=PJrm840pAUI</td>\n",
       "      <td>4:34</td>\n",
       "    </tr>\n",
       "    <tr>\n",
       "      <th>25</th>\n",
       "      <td>PR</td>\n",
       "      <td>91IHQYk1IQM</td>\n",
       "      <td>Chinese New Year Parade 2012 New York City Chi...</td>\n",
       "      <td>https://www.youtube.com/watch?v=91IHQYk1IQM</td>\n",
       "      <td>1:50</td>\n",
       "    </tr>\n",
       "    <tr>\n",
       "      <th>26</th>\n",
       "      <td>PR</td>\n",
       "      <td>RBCABdttQmI</td>\n",
       "      <td>2013 Alumnae Parade &amp; Laurel Chain Ceremony</td>\n",
       "      <td>https://www.youtube.com/watch?v=RBCABdttQmI</td>\n",
       "      <td>6:04</td>\n",
       "    </tr>\n",
       "    <tr>\n",
       "      <th>27</th>\n",
       "      <td>PR</td>\n",
       "      <td>z_6gVvQb2d0</td>\n",
       "      <td>LA Kings Stanley Cup South Bay Parade 2014</td>\n",
       "      <td>https://www.youtube.com/watch?v=z_6gVvQb2d0</td>\n",
       "      <td>4:36</td>\n",
       "    </tr>\n",
       "    <tr>\n",
       "      <th>28</th>\n",
       "      <td>PR</td>\n",
       "      <td>fWutDQy1nnY</td>\n",
       "      <td>Chinatown Parade</td>\n",
       "      <td>https://www.youtube.com/watch?v=fWutDQy1nnY</td>\n",
       "      <td>9:45</td>\n",
       "    </tr>\n",
       "    <tr>\n",
       "      <th>29</th>\n",
       "      <td>PR</td>\n",
       "      <td>4wU_LUjG5Ic</td>\n",
       "      <td>Southend-on-Sea and Kortrijk Bike Friendly Cit...</td>\n",
       "      <td>https://www.youtube.com/watch?v=4wU_LUjG5Ic</td>\n",
       "      <td>2:47</td>\n",
       "    </tr>\n",
       "    <tr>\n",
       "      <th>30</th>\n",
       "      <td>FM</td>\n",
       "      <td>VuWGsYPqAX8</td>\n",
       "      <td>Flash mob protest for Syria | Sydney, Australi...</td>\n",
       "      <td>https://www.youtube.com/watch?v=VuWGsYPqAX8</td>\n",
       "      <td>3:36</td>\n",
       "    </tr>\n",
       "    <tr>\n",
       "      <th>31</th>\n",
       "      <td>FM</td>\n",
       "      <td>JKpqYvAdIsw</td>\n",
       "      <td>ICC World Twenty20 Bangladesh 2014 Flash Mob -...</td>\n",
       "      <td>https://www.youtube.com/watch?v=JKpqYvAdIsw</td>\n",
       "      <td>2:32</td>\n",
       "    </tr>\n",
       "    <tr>\n",
       "      <th>32</th>\n",
       "      <td>FM</td>\n",
       "      <td>xmEERLqJ2kU</td>\n",
       "      <td>Bluffton Teachers Flash Mob Dance (A Staff tha...</td>\n",
       "      <td>https://www.youtube.com/watch?v=xmEERLqJ2kU</td>\n",
       "      <td>7:26</td>\n",
       "    </tr>\n",
       "    <tr>\n",
       "      <th>33</th>\n",
       "      <td>FM</td>\n",
       "      <td>byxOvuiIJV0</td>\n",
       "      <td>ICC World Twenty 20 Bangladesh 2014, Flash Mob...</td>\n",
       "      <td>https://www.youtube.com/watch?v=byxOvuiIJV0</td>\n",
       "      <td>2:34</td>\n",
       "    </tr>\n",
       "    <tr>\n",
       "      <th>34</th>\n",
       "      <td>FM</td>\n",
       "      <td>_xMr-HKMfVA</td>\n",
       "      <td>CASACL - Flashmob in Copenhagen underground - ...</td>\n",
       "      <td>https://www.youtube.com/watch?v=_xMr-HKMfVA</td>\n",
       "      <td>2:29</td>\n",
       "    </tr>\n",
       "    <tr>\n",
       "      <th>35</th>\n",
       "      <td>BK</td>\n",
       "      <td>WxtbjNsCQ8A</td>\n",
       "      <td>Beekeeping101.mov</td>\n",
       "      <td>https://www.youtube.com/watch?v=WxtbjNsCQ8A</td>\n",
       "      <td>4:25</td>\n",
       "    </tr>\n",
       "    <tr>\n",
       "      <th>36</th>\n",
       "      <td>BK</td>\n",
       "      <td>uGu_10sucQo</td>\n",
       "      <td>A Year of Beekeeping</td>\n",
       "      <td>https://www.youtube.com/watch?v=uGu_10sucQo</td>\n",
       "      <td>2:47</td>\n",
       "    </tr>\n",
       "    <tr>\n",
       "      <th>37</th>\n",
       "      <td>BK</td>\n",
       "      <td>EE-bNr36nyA</td>\n",
       "      <td>Paper Wasp Removal | From the Ground Up</td>\n",
       "      <td>https://www.youtube.com/watch?v=EE-bNr36nyA</td>\n",
       "      <td>1:38</td>\n",
       "    </tr>\n",
       "    <tr>\n",
       "      <th>38</th>\n",
       "      <td>BK</td>\n",
       "      <td>Se3oxnaPsz0</td>\n",
       "      <td>9/15/11 Killer Bees Kill 1000-lb Hog in Bisbee AZ</td>\n",
       "      <td>https://www.youtube.com/watch?v=Se3oxnaPsz0</td>\n",
       "      <td>2:18</td>\n",
       "    </tr>\n",
       "    <tr>\n",
       "      <th>39</th>\n",
       "      <td>BK</td>\n",
       "      <td>oDXZc0tZe04</td>\n",
       "      <td>Apis Mellifera in a Vertical Log Hive</td>\n",
       "      <td>https://www.youtube.com/watch?v=oDXZc0tZe04</td>\n",
       "      <td>6:20</td>\n",
       "    </tr>\n",
       "    <tr>\n",
       "      <th>40</th>\n",
       "      <td>BT</td>\n",
       "      <td>qqR6AEXwxoQ</td>\n",
       "      <td>Motocross Tips &amp; Tricks : How to Whip a Motocr...</td>\n",
       "      <td>https://www.youtube.com/watch?v=qqR6AEXwxoQ</td>\n",
       "      <td>4:29</td>\n",
       "    </tr>\n",
       "    <tr>\n",
       "      <th>41</th>\n",
       "      <td>BT</td>\n",
       "      <td>EYqVtI9YWJA</td>\n",
       "      <td>Smage Bros. Motorcycle Stunt Show</td>\n",
       "      <td>https://www.youtube.com/watch?v=EYqVtI9YWJA</td>\n",
       "      <td>3:18</td>\n",
       "    </tr>\n",
       "    <tr>\n",
       "      <th>42</th>\n",
       "      <td>BT</td>\n",
       "      <td>eQu1rNs0an0</td>\n",
       "      <td>How to stop your Fixie</td>\n",
       "      <td>https://www.youtube.com/watch?v=eQu1rNs0an0</td>\n",
       "      <td>2:44</td>\n",
       "    </tr>\n",
       "    <tr>\n",
       "      <th>43</th>\n",
       "      <td>BT</td>\n",
       "      <td>JgHubY5Vw3Y</td>\n",
       "      <td>How to lock your bike. The RIGHT way!</td>\n",
       "      <td>https://www.youtube.com/watch?v=JgHubY5Vw3Y</td>\n",
       "      <td>2:23</td>\n",
       "    </tr>\n",
       "    <tr>\n",
       "      <th>44</th>\n",
       "      <td>BT</td>\n",
       "      <td>iVt07TCkFM0</td>\n",
       "      <td>Pure Fix TV: How to Wheelie</td>\n",
       "      <td>https://www.youtube.com/watch?v=iVt07TCkFM0</td>\n",
       "      <td>1:44</td>\n",
       "    </tr>\n",
       "    <tr>\n",
       "      <th>45</th>\n",
       "      <td>DS</td>\n",
       "      <td>E11zDS9XGzg</td>\n",
       "      <td>German Shepherd Dog Show (KCI) | DoHangout</td>\n",
       "      <td>https://www.youtube.com/watch?v=E11zDS9XGzg</td>\n",
       "      <td>8:30</td>\n",
       "    </tr>\n",
       "    <tr>\n",
       "      <th>46</th>\n",
       "      <td>DS</td>\n",
       "      <td>NyBmCxDoHJU</td>\n",
       "      <td>The Dog Show HD 720p</td>\n",
       "      <td>https://www.youtube.com/watch?v=NyBmCxDoHJU</td>\n",
       "      <td>3:09</td>\n",
       "    </tr>\n",
       "    <tr>\n",
       "      <th>47</th>\n",
       "      <td>DS</td>\n",
       "      <td>kLxoNp-UchI</td>\n",
       "      <td>Oliver's Show - Dog's tale</td>\n",
       "      <td>https://www.youtube.com/watch?v=kLxoNp-UchI</td>\n",
       "      <td>2:10</td>\n",
       "    </tr>\n",
       "    <tr>\n",
       "      <th>48</th>\n",
       "      <td>DS</td>\n",
       "      <td>jcoYJXDG9sw</td>\n",
       "      <td>TODAY- Obie the obese dog works toward weight ...</td>\n",
       "      <td>https://www.youtube.com/watch?v=jcoYJXDG9sw</td>\n",
       "      <td>3:19</td>\n",
       "    </tr>\n",
       "    <tr>\n",
       "      <th>49</th>\n",
       "      <td>DS</td>\n",
       "      <td>-esJrBWj2d8</td>\n",
       "      <td>Will A Cat Eat Dog Food?</td>\n",
       "      <td>https://www.youtube.com/watch?v=-esJrBWj2d8</td>\n",
       "      <td>3:50</td>\n",
       "    </tr>\n",
       "  </tbody>\n",
       "</table>\n",
       "</div>"
      ],
      "text/plain": [
       "   category     video_id                                              title  \\\n",
       "0        VT  AwmHb44_ouw  #1306 How to change tires for off road vehicle...   \n",
       "1        VT  98MoyGZKHXc        How to use a tyre repair kit - Which? guide   \n",
       "2        VT  J0nA4VgnoCo                                   #0001: FLAT TIRE   \n",
       "3        VT  gzDbaEs1Rlg                 ŠKODA Tips How to Repair Your Tyre   \n",
       "4        VT  XzYM3PfTM4w                     When to Replace Your Tires GMC   \n",
       "5        VU  HT5vyqe0Xaw  The stuck truck of Mark, The rut that filled a...   \n",
       "6        VU  sTEELN-vY30                             BBC - Train crash 2013   \n",
       "7        VU  vdmoEJ5YbrQ  #453 girl gets van stuck in the back fourty [D...   \n",
       "8        VU  xwqBXPGE9pQ      Smart Electric Vehicle Balances on Two Wheels   \n",
       "9        VU  akI8YFjEmUw              Electric cars making earth more green   \n",
       "10       GA  i3wAGJaaktw  Pet Joy Spa Grooming Services | Brentwood, CA ...   \n",
       "11       GA  Bhxk-O1Y7Ho  Vlog #509 I'M A PUPPY DOG GROOMER! September 1...   \n",
       "12       GA  0tmA_C6XwfM     Nail clipper Gloria Pets professional grooming   \n",
       "13       GA  3eYKfiOEJNs                       Dog Grooming in Buenos Aires   \n",
       "14       GA  xxdtq8mxegs      How to Clean Your Dog's Ears - Vetoquinol USA   \n",
       "15       MS  WG0MBPpPC6I              Mexican Fried Chicken Sandwich Recipe   \n",
       "16       MS  Hl-__g2gn_A      Reuben Sandwich with Corned Beef & Sauerkraut   \n",
       "17       MS  Yi4Ij2NM7U4           Poor Man's Meals: Spicy Sausage Sandwich   \n",
       "18       MS  37rzWOQsNIw  Saigon Sandwich - Vietnamese Sandwiches in San...   \n",
       "19       MS  LRw_obCPUt0  GoogaMooga Sneak Peek Joseph Leonard's Fried C...   \n",
       "20       PK  cjibtmSLxQ4  David Belle | Fondateur du parkour | Reportage...   \n",
       "21       PK  b626MiF1ew4        Charlotte Parkour | Charlotte Video Project   \n",
       "22       PK  XkqCExn6_Us  Singapore Parkour Free Running | JC Boy Late f...   \n",
       "23       PK  GsAD1KT1xo8                               Parkour Camp Leipzig   \n",
       "24       PK  PJrm840pAUI           Vivencias: Jam Parkour Viña del Mar 2012   \n",
       "25       PR  91IHQYk1IQM  Chinese New Year Parade 2012 New York City Chi...   \n",
       "26       PR  RBCABdttQmI        2013 Alumnae Parade & Laurel Chain Ceremony   \n",
       "27       PR  z_6gVvQb2d0         LA Kings Stanley Cup South Bay Parade 2014   \n",
       "28       PR  fWutDQy1nnY                                   Chinatown Parade   \n",
       "29       PR  4wU_LUjG5Ic  Southend-on-Sea and Kortrijk Bike Friendly Cit...   \n",
       "30       FM  VuWGsYPqAX8  Flash mob protest for Syria | Sydney, Australi...   \n",
       "31       FM  JKpqYvAdIsw  ICC World Twenty20 Bangladesh 2014 Flash Mob -...   \n",
       "32       FM  xmEERLqJ2kU  Bluffton Teachers Flash Mob Dance (A Staff tha...   \n",
       "33       FM  byxOvuiIJV0  ICC World Twenty 20 Bangladesh 2014, Flash Mob...   \n",
       "34       FM  _xMr-HKMfVA  CASACL - Flashmob in Copenhagen underground - ...   \n",
       "35       BK  WxtbjNsCQ8A                                  Beekeeping101.mov   \n",
       "36       BK  uGu_10sucQo                               A Year of Beekeeping   \n",
       "37       BK  EE-bNr36nyA            Paper Wasp Removal | From the Ground Up   \n",
       "38       BK  Se3oxnaPsz0  9/15/11 Killer Bees Kill 1000-lb Hog in Bisbee AZ   \n",
       "39       BK  oDXZc0tZe04              Apis Mellifera in a Vertical Log Hive   \n",
       "40       BT  qqR6AEXwxoQ  Motocross Tips & Tricks : How to Whip a Motocr...   \n",
       "41       BT  EYqVtI9YWJA                  Smage Bros. Motorcycle Stunt Show   \n",
       "42       BT  eQu1rNs0an0                             How to stop your Fixie   \n",
       "43       BT  JgHubY5Vw3Y              How to lock your bike. The RIGHT way!   \n",
       "44       BT  iVt07TCkFM0                        Pure Fix TV: How to Wheelie   \n",
       "45       DS  E11zDS9XGzg         German Shepherd Dog Show (KCI) | DoHangout   \n",
       "46       DS  NyBmCxDoHJU                               The Dog Show HD 720p   \n",
       "47       DS  kLxoNp-UchI                         Oliver's Show - Dog's tale   \n",
       "48       DS  jcoYJXDG9sw  TODAY- Obie the obese dog works toward weight ...   \n",
       "49       DS  -esJrBWj2d8                           Will A Cat Eat Dog Food?   \n",
       "\n",
       "                                            url length  \n",
       "0   https://www.youtube.com/watch?v=AwmHb44_ouw   5:54  \n",
       "1   https://www.youtube.com/watch?v=98MoyGZKHXc   3:07  \n",
       "2   https://www.youtube.com/watch?v=J0nA4VgnoCo   9:44  \n",
       "3   https://www.youtube.com/watch?v=gzDbaEs1Rlg   4:48  \n",
       "4   https://www.youtube.com/watch?v=XzYM3PfTM4w   1:51  \n",
       "5   https://www.youtube.com/watch?v=HT5vyqe0Xaw   5:22  \n",
       "6   https://www.youtube.com/watch?v=sTEELN-vY30   2:29  \n",
       "7   https://www.youtube.com/watch?v=vdmoEJ5YbrQ   5:29  \n",
       "8   https://www.youtube.com/watch?v=xwqBXPGE9pQ   3:53  \n",
       "9   https://www.youtube.com/watch?v=akI8YFjEmUw   2:13  \n",
       "10  https://www.youtube.com/watch?v=i3wAGJaaktw   2:36  \n",
       "11  https://www.youtube.com/watch?v=Bhxk-O1Y7Ho   7:30  \n",
       "12  https://www.youtube.com/watch?v=0tmA_C6XwfM   2:21  \n",
       "13  https://www.youtube.com/watch?v=3eYKfiOEJNs   3:14  \n",
       "14  https://www.youtube.com/watch?v=xxdtq8mxegs   2:24  \n",
       "15  https://www.youtube.com/watch?v=WG0MBPpPC6I   6:37  \n",
       "16  https://www.youtube.com/watch?v=Hl-__g2gn_A   4:03  \n",
       "17  https://www.youtube.com/watch?v=Yi4Ij2NM7U4   6:45  \n",
       "18  https://www.youtube.com/watch?v=37rzWOQsNIw   3:11  \n",
       "19  https://www.youtube.com/watch?v=LRw_obCPUt0   4:20  \n",
       "20  https://www.youtube.com/watch?v=cjibtmSLxQ4  10:47  \n",
       "21  https://www.youtube.com/watch?v=b626MiF1ew4   3:55  \n",
       "22  https://www.youtube.com/watch?v=XkqCExn6_Us   3:08  \n",
       "23  https://www.youtube.com/watch?v=GsAD1KT1xo8   2:25  \n",
       "24  https://www.youtube.com/watch?v=PJrm840pAUI   4:34  \n",
       "25  https://www.youtube.com/watch?v=91IHQYk1IQM   1:50  \n",
       "26  https://www.youtube.com/watch?v=RBCABdttQmI   6:04  \n",
       "27  https://www.youtube.com/watch?v=z_6gVvQb2d0   4:36  \n",
       "28  https://www.youtube.com/watch?v=fWutDQy1nnY   9:45  \n",
       "29  https://www.youtube.com/watch?v=4wU_LUjG5Ic   2:47  \n",
       "30  https://www.youtube.com/watch?v=VuWGsYPqAX8   3:36  \n",
       "31  https://www.youtube.com/watch?v=JKpqYvAdIsw   2:32  \n",
       "32  https://www.youtube.com/watch?v=xmEERLqJ2kU   7:26  \n",
       "33  https://www.youtube.com/watch?v=byxOvuiIJV0   2:34  \n",
       "34  https://www.youtube.com/watch?v=_xMr-HKMfVA   2:29  \n",
       "35  https://www.youtube.com/watch?v=WxtbjNsCQ8A   4:25  \n",
       "36  https://www.youtube.com/watch?v=uGu_10sucQo   2:47  \n",
       "37  https://www.youtube.com/watch?v=EE-bNr36nyA   1:38  \n",
       "38  https://www.youtube.com/watch?v=Se3oxnaPsz0   2:18  \n",
       "39  https://www.youtube.com/watch?v=oDXZc0tZe04   6:20  \n",
       "40  https://www.youtube.com/watch?v=qqR6AEXwxoQ   4:29  \n",
       "41  https://www.youtube.com/watch?v=EYqVtI9YWJA   3:18  \n",
       "42  https://www.youtube.com/watch?v=eQu1rNs0an0   2:44  \n",
       "43  https://www.youtube.com/watch?v=JgHubY5Vw3Y   2:23  \n",
       "44  https://www.youtube.com/watch?v=iVt07TCkFM0   1:44  \n",
       "45  https://www.youtube.com/watch?v=E11zDS9XGzg   8:30  \n",
       "46  https://www.youtube.com/watch?v=NyBmCxDoHJU   3:09  \n",
       "47  https://www.youtube.com/watch?v=kLxoNp-UchI   2:10  \n",
       "48  https://www.youtube.com/watch?v=jcoYJXDG9sw   3:19  \n",
       "49  https://www.youtube.com/watch?v=-esJrBWj2d8   3:50  "
      ]
     },
     "execution_count": 8,
     "metadata": {},
     "output_type": "execute_result"
    }
   ],
   "source": [
    "# tvsum_info=pd.read_csv(tvsum_data+'/data/ydata-tvsum50-info.tsv',sep='\\t')\n",
    "# tvsum_info"
   ]
  },
  {
   "cell_type": "markdown",
   "id": "3761d004-7208-4ad1-98c2-87e15c4d9eda",
   "metadata": {
    "tags": []
   },
   "source": [
    "##### )) Videos"
   ]
  },
  {
   "cell_type": "raw",
   "id": "186300e2-4880-4587-a6df-bf51eb327db6",
   "metadata": {},
   "source": [
    "os.listdir(tvsum_data+'/video')"
   ]
  },
  {
   "cell_type": "markdown",
   "id": "1b942965-d4f9-4988-82b6-b60a6750b657",
   "metadata": {
    "tags": []
   },
   "source": [
    "##### )) Extraction"
   ]
  },
  {
   "cell_type": "code",
   "execution_count": 14,
   "id": "18e96c2c-3450-4296-94a8-d1e6c1f51864",
   "metadata": {
    "collapsed": true,
    "jupyter": {
     "outputs_hidden": true
    },
    "tags": []
   },
   "outputs": [
    {
     "name": "stderr",
     "output_type": "stream",
     "text": [
      "  2%|▏         | 1/50 [00:58<47:32, 58.21s/it]"
     ]
    },
    {
     "name": "stdout",
     "output_type": "stream",
     "text": [
      "1 . video_50 no. of frames= 6912.0 Output dimension= (460, 1024)\n"
     ]
    },
    {
     "name": "stderr",
     "output_type": "stream",
     "text": [
      "  4%|▍         | 2/50 [01:28<33:16, 41.59s/it]"
     ]
    },
    {
     "name": "stdout",
     "output_type": "stream",
     "text": [
      "2 . video_13 no. of frames= 3532.0 Output dimension= (235, 1024)\n"
     ]
    },
    {
     "name": "stderr",
     "output_type": "stream",
     "text": [
      "  6%|▌         | 3/50 [02:16<35:08, 44.86s/it]"
     ]
    },
    {
     "name": "stdout",
     "output_type": "stream",
     "text": [
      "3 . video_19 no. of frames= 5742.0 Output dimension= (382, 1024)\n"
     ]
    },
    {
     "name": "stderr",
     "output_type": "stream",
     "text": [
      "  8%|▊         | 4/50 [02:44<29:09, 38.03s/it]"
     ]
    },
    {
     "name": "stdout",
     "output_type": "stream",
     "text": [
      "4 . video_14 no. of frames= 4853.0 Output dimension= (323, 1024)\n"
     ]
    },
    {
     "name": "stderr",
     "output_type": "stream",
     "text": [
      " 10%|█         | 5/50 [03:19<27:50, 37.11s/it]"
     ]
    },
    {
     "name": "stdout",
     "output_type": "stream",
     "text": [
      "5 . video_30 no. of frames= 4005.0 Output dimension= (267, 1024)\n"
     ]
    },
    {
     "name": "stderr",
     "output_type": "stream",
     "text": [
      " 12%|█▏        | 6/50 [03:50<25:27, 34.72s/it]"
     ]
    },
    {
     "name": "stdout",
     "output_type": "stream",
     "text": [
      "6 . video_26 no. of frames= 3312.0 Output dimension= (220, 1024)\n"
     ]
    },
    {
     "name": "stderr",
     "output_type": "stream",
     "text": [
      " 14%|█▍        | 7/50 [04:32<26:37, 37.14s/it]"
     ]
    },
    {
     "name": "stdout",
     "output_type": "stream",
     "text": [
      "7 . video_2 no. of frames= 4688.0 Output dimension= (312, 1024)\n"
     ]
    },
    {
     "name": "stderr",
     "output_type": "stream",
     "text": [
      " 16%|█▌        | 8/50 [05:06<25:28, 36.39s/it]"
     ]
    },
    {
     "name": "stdout",
     "output_type": "stream",
     "text": [
      "8 . video_10 no. of frames= 3995.0 Output dimension= (266, 1024)\n"
     ]
    },
    {
     "name": "stderr",
     "output_type": "stream",
     "text": [
      " 18%|█▊        | 9/50 [06:13<31:23, 45.94s/it]"
     ]
    },
    {
     "name": "stdout",
     "output_type": "stream",
     "text": [
      "9 . video_1 no. of frames= 10597.0 Output dimension= (706, 1024)\n"
     ]
    },
    {
     "name": "stderr",
     "output_type": "stream",
     "text": [
      " 20%|██        | 10/50 [07:01<31:03, 46.58s/it]"
     ]
    },
    {
     "name": "stdout",
     "output_type": "stream",
     "text": [
      "10 . video_22 no. of frames= 5661.0 Output dimension= (377, 1024)\n"
     ]
    },
    {
     "name": "stderr",
     "output_type": "stream",
     "text": [
      " 22%|██▏       | 11/50 [08:56<43:45, 67.31s/it]"
     ]
    },
    {
     "name": "stdout",
     "output_type": "stream",
     "text": [
      "11 . video_12 no. of frames= 13511.0 Output dimension= (900, 1024)\n"
     ]
    },
    {
     "name": "stderr",
     "output_type": "stream",
     "text": [
      " 24%|██▍       | 12/50 [09:27<35:43, 56.41s/it]"
     ]
    },
    {
     "name": "stdout",
     "output_type": "stream",
     "text": [
      "12 . video_34 no. of frames= 3705.0 Output dimension= (247, 1024)\n"
     ]
    },
    {
     "name": "stderr",
     "output_type": "stream",
     "text": [
      " 26%|██▌       | 13/50 [11:17<44:50, 72.73s/it]"
     ]
    },
    {
     "name": "stdout",
     "output_type": "stream",
     "text": [
      "13 . video_21 no. of frames= 19406.0 Output dimension= (1293, 1024)\n"
     ]
    },
    {
     "name": "stderr",
     "output_type": "stream",
     "text": [
      " 28%|██▊       | 14/50 [13:36<55:30, 92.51s/it]"
     ]
    },
    {
     "name": "stdout",
     "output_type": "stream",
     "text": [
      "14 . video_46 no. of frames= 15307.0 Output dimension= (1020, 1024)\n"
     ]
    },
    {
     "name": "stderr",
     "output_type": "stream",
     "text": [
      " 30%|███       | 15/50 [14:00<42:02, 72.07s/it]"
     ]
    },
    {
     "name": "stdout",
     "output_type": "stream",
     "text": [
      "15 . video_38 no. of frames= 2941.0 Output dimension= (196, 1024)\n"
     ]
    },
    {
     "name": "stderr",
     "output_type": "stream",
     "text": [
      " 32%|███▏      | 16/50 [14:43<35:50, 63.24s/it]"
     ]
    },
    {
     "name": "stdout",
     "output_type": "stream",
     "text": [
      "16 . video_43 no. of frames= 4931.0 Output dimension= (328, 1024)\n"
     ]
    },
    {
     "name": "stderr",
     "output_type": "stream",
     "text": [
      " 34%|███▍      | 17/50 [15:20<30:28, 55.40s/it]"
     ]
    },
    {
     "name": "stdout",
     "output_type": "stream",
     "text": [
      "17 . video_42 no. of frames= 5939.0 Output dimension= (395, 1024)\n"
     ]
    },
    {
     "name": "stderr",
     "output_type": "stream",
     "text": [
      " 36%|███▌      | 18/50 [16:58<36:16, 68.02s/it]"
     ]
    },
    {
     "name": "stdout",
     "output_type": "stream",
     "text": [
      "18 . video_29 no. of frames= 17527.0 Output dimension= (1168, 1024)\n"
     ]
    },
    {
     "name": "stderr",
     "output_type": "stream",
     "text": [
      " 38%|███▊      | 19/50 [17:34<30:14, 58.53s/it]"
     ]
    },
    {
     "name": "stdout",
     "output_type": "stream",
     "text": [
      "19 . video_24 no. of frames= 4356.0 Output dimension= (290, 1024)\n"
     ]
    },
    {
     "name": "stderr",
     "output_type": "stream",
     "text": [
      " 40%|████      | 20/50 [18:37<29:55, 59.86s/it]"
     ]
    },
    {
     "name": "stdout",
     "output_type": "stream",
     "text": [
      "20 . video_4 no. of frames= 7210.0 Output dimension= (480, 1024)\n"
     ]
    },
    {
     "name": "stderr",
     "output_type": "stream",
     "text": [
      " 42%|████▏     | 21/50 [19:26<27:23, 56.69s/it]"
     ]
    },
    {
     "name": "stdout",
     "output_type": "stream",
     "text": [
      "21 . video_17 no. of frames= 5846.0 Output dimension= (389, 1024)\n"
     ]
    },
    {
     "name": "stderr",
     "output_type": "stream",
     "text": [
      " 44%|████▍     | 22/50 [20:48<29:57, 64.20s/it]"
     ]
    },
    {
     "name": "stdout",
     "output_type": "stream",
     "text": [
      "22 . video_6 no. of frames= 9671.0 Output dimension= (644, 1024)\n"
     ]
    },
    {
     "name": "stderr",
     "output_type": "stream",
     "text": [
      " 46%|████▌     | 23/50 [21:28<25:35, 56.86s/it]"
     ]
    },
    {
     "name": "stdout",
     "output_type": "stream",
     "text": [
      "23 . video_11 no. of frames= 4700.0 Output dimension= (313, 1024)\n"
     ]
    },
    {
     "name": "stderr",
     "output_type": "stream",
     "text": [
      " 48%|████▊     | 24/50 [21:49<19:57, 46.07s/it]"
     ]
    },
    {
     "name": "stdout",
     "output_type": "stream",
     "text": [
      "24 . video_45 no. of frames= 2500.0 Output dimension= (166, 1024)\n"
     ]
    },
    {
     "name": "stderr",
     "output_type": "stream",
     "text": [
      " 50%|█████     | 25/50 [23:48<28:22, 68.10s/it]"
     ]
    },
    {
     "name": "stdout",
     "output_type": "stream",
     "text": [
      "25 . video_3 no. of frames= 14019.0 Output dimension= (934, 1024)\n"
     ]
    },
    {
     "name": "stderr",
     "output_type": "stream",
     "text": [
      " 52%|█████▏    | 26/50 [24:38<25:05, 62.75s/it]"
     ]
    },
    {
     "name": "stdout",
     "output_type": "stream",
     "text": [
      "26 . video_49 no. of frames= 5971.0 Output dimension= (398, 1024)\n"
     ]
    },
    {
     "name": "stderr",
     "output_type": "stream",
     "text": [
      " 54%|█████▍    | 27/50 [25:16<21:05, 55.03s/it]"
     ]
    },
    {
     "name": "stdout",
     "output_type": "stream",
     "text": [
      "27 . video_44 no. of frames= 4304.0 Output dimension= (286, 1024)\n"
     ]
    },
    {
     "name": "stderr",
     "output_type": "stream",
     "text": [
      " 56%|█████▌    | 28/50 [25:38<16:35, 45.26s/it]"
     ]
    },
    {
     "name": "stdout",
     "output_type": "stream",
     "text": [
      "28 . video_32 no. of frames= 3802.0 Output dimension= (253, 1024)\n"
     ]
    },
    {
     "name": "stderr",
     "output_type": "stream",
     "text": [
      " 58%|█████▊    | 29/50 [26:14<14:50, 42.42s/it]"
     ]
    },
    {
     "name": "stdout",
     "output_type": "stream",
     "text": [
      "29 . video_48 no. of frames= 3896.0 Output dimension= (259, 1024)\n"
     ]
    },
    {
     "name": "stderr",
     "output_type": "stream",
     "text": [
      " 60%|██████    | 30/50 [27:10<15:33, 46.68s/it]"
     ]
    },
    {
     "name": "stdout",
     "output_type": "stream",
     "text": [
      "30 . video_20 no. of frames= 6241.0 Output dimension= (416, 1024)\n"
     ]
    },
    {
     "name": "stderr",
     "output_type": "stream",
     "text": [
      " 62%|██████▏   | 31/50 [27:51<14:12, 44.84s/it]"
     ]
    },
    {
     "name": "stdout",
     "output_type": "stream",
     "text": [
      "31 . video_47 no. of frames= 4740.0 Output dimension= (316, 1024)\n"
     ]
    },
    {
     "name": "stderr",
     "output_type": "stream",
     "text": [
      " 64%|██████▍   | 32/50 [29:27<18:05, 60.32s/it]"
     ]
    },
    {
     "name": "stdout",
     "output_type": "stream",
     "text": [
      "32 . video_40 no. of frames= 11414.0 Output dimension= (760, 1024)\n"
     ]
    },
    {
     "name": "stderr",
     "output_type": "stream",
     "text": [
      " 66%|██████▌   | 33/50 [30:23<16:39, 58.79s/it]"
     ]
    },
    {
     "name": "stdout",
     "output_type": "stream",
     "text": [
      "33 . video_25 no. of frames= 6580.0 Output dimension= (438, 1024)\n"
     ]
    },
    {
     "name": "stderr",
     "output_type": "stream",
     "text": [
      " 68%|██████▊   | 34/50 [31:34<16:39, 62.44s/it]"
     ]
    },
    {
     "name": "stdout",
     "output_type": "stream",
     "text": [
      "34 . video_41 no. of frames= 8073.0 Output dimension= (538, 1024)\n"
     ]
    },
    {
     "name": "stderr",
     "output_type": "stream",
     "text": [
      " 70%|███████   | 35/50 [33:08<17:58, 71.92s/it]"
     ]
    },
    {
     "name": "stdout",
     "output_type": "stream",
     "text": [
      "35 . video_27 no. of frames= 10917.0 Output dimension= (727, 1024)\n"
     ]
    },
    {
     "name": "stderr",
     "output_type": "stream",
     "text": [
      " 72%|███████▏  | 36/50 [33:30<13:19, 57.11s/it]"
     ]
    },
    {
     "name": "stdout",
     "output_type": "stream",
     "text": [
      "36 . video_39 no. of frames= 4166.0 Output dimension= (277, 1024)\n"
     ]
    },
    {
     "name": "stderr",
     "output_type": "stream",
     "text": [
      " 74%|███████▍  | 37/50 [34:08<11:08, 51.42s/it]"
     ]
    },
    {
     "name": "stdout",
     "output_type": "stream",
     "text": [
      "37 . video_7 no. of frames= 4468.0 Output dimension= (297, 1024)\n"
     ]
    },
    {
     "name": "stderr",
     "output_type": "stream",
     "text": [
      " 76%|███████▌  | 38/50 [34:43<09:17, 46.46s/it]"
     ]
    },
    {
     "name": "stdout",
     "output_type": "stream",
     "text": [
      "38 . video_37 no. of frames= 4009.0 Output dimension= (267, 1024)\n"
     ]
    },
    {
     "name": "stderr",
     "output_type": "stream",
     "text": [
      " 78%|███████▊  | 39/50 [35:43<09:13, 50.36s/it]"
     ]
    },
    {
     "name": "stdout",
     "output_type": "stream",
     "text": [
      "39 . video_8 no. of frames= 9870.0 Output dimension= (658, 1024)\n"
     ]
    },
    {
     "name": "stderr",
     "output_type": "stream",
     "text": [
      " 80%|████████  | 40/50 [36:32<08:21, 50.13s/it]"
     ]
    },
    {
     "name": "stdout",
     "output_type": "stream",
     "text": [
      "40 . video_31 no. of frames= 5412.0 Output dimension= (360, 1024)\n"
     ]
    },
    {
     "name": "stderr",
     "output_type": "stream",
     "text": [
      " 82%|████████▏ | 41/50 [37:58<09:08, 60.96s/it]"
     ]
    },
    {
     "name": "stdout",
     "output_type": "stream",
     "text": [
      "41 . video_16 no. of frames= 9535.0 Output dimension= (635, 1024)\n"
     ]
    },
    {
     "name": "stderr",
     "output_type": "stream",
     "text": [
      " 84%|████████▍ | 42/50 [39:07<08:26, 63.29s/it]"
     ]
    },
    {
     "name": "stdout",
     "output_type": "stream",
     "text": [
      "42 . video_36 no. of frames= 7959.0 Output dimension= (530, 1024)\n"
     ]
    },
    {
     "name": "stderr",
     "output_type": "stream",
     "text": [
      " 86%|████████▌ | 43/50 [39:57<06:54, 59.17s/it]"
     ]
    },
    {
     "name": "stdout",
     "output_type": "stream",
     "text": [
      "43 . video_23 no. of frames= 5631.0 Output dimension= (375, 1024)\n"
     ]
    },
    {
     "name": "stderr",
     "output_type": "stream",
     "text": [
      " 88%|████████▊ | 44/50 [41:53<07:38, 76.38s/it]"
     ]
    },
    {
     "name": "stdout",
     "output_type": "stream",
     "text": [
      "44 . video_33 no. of frames= 13365.0 Output dimension= (891, 1024)\n"
     ]
    },
    {
     "name": "stderr",
     "output_type": "stream",
     "text": [
      " 90%|█████████ | 45/50 [42:55<05:59, 71.99s/it]"
     ]
    },
    {
     "name": "stdout",
     "output_type": "stream",
     "text": [
      "45 . video_9 no. of frames= 7010.0 Output dimension= (467, 1024)\n"
     ]
    },
    {
     "name": "stderr",
     "output_type": "stream",
     "text": [
      " 92%|█████████▏| 46/50 [43:19<03:50, 57.63s/it]"
     ]
    },
    {
     "name": "stdout",
     "output_type": "stream",
     "text": [
      "46 . video_15 no. of frames= 4324.0 Output dimension= (288, 1024)\n"
     ]
    },
    {
     "name": "stderr",
     "output_type": "stream",
     "text": [
      " 94%|█████████▍| 47/50 [43:48<02:26, 48.88s/it]"
     ]
    },
    {
     "name": "stdout",
     "output_type": "stream",
     "text": [
      "47 . video_5 no. of frames= 3327.0 Output dimension= (221, 1024)\n"
     ]
    },
    {
     "name": "stderr",
     "output_type": "stream",
     "text": [
      " 96%|█████████▌| 48/50 [45:11<01:58, 59.20s/it]"
     ]
    },
    {
     "name": "stdout",
     "output_type": "stream",
     "text": [
      "48 . video_18 no. of frames= 9731.0 Output dimension= (648, 1024)\n"
     ]
    },
    {
     "name": "stderr",
     "output_type": "stream",
     "text": [
      " 98%|█████████▊| 49/50 [46:21<01:02, 62.34s/it]"
     ]
    },
    {
     "name": "stdout",
     "output_type": "stream",
     "text": [
      "49 . video_28 no. of frames= 8281.0 Output dimension= (552, 1024)\n"
     ]
    },
    {
     "name": "stderr",
     "output_type": "stream",
     "text": [
      "100%|██████████| 50/50 [46:59<00:00, 56.39s/it]"
     ]
    },
    {
     "name": "stdout",
     "output_type": "stream",
     "text": [
      "50 . video_35 no. of frames= 4463.0 Output dimension= (297, 1024)\n"
     ]
    },
    {
     "name": "stderr",
     "output_type": "stream",
     "text": [
      "\n"
     ]
    }
   ],
   "source": [
    "# vnames = tvsum_info['video_id'].tolist()\n",
    "# extract_features(videos_path=tvsum_data+'/video', h5output_path=normalFt_path+'/TVSum.h5', names=vnames)"
   ]
  },
  {
   "cell_type": "markdown",
   "id": "094caeb7-1d01-4d55-bb91-9f8e53ffb4fb",
   "metadata": {},
   "source": [
    "###### TEST 2\n"
   ]
  },
  {
   "cell_type": "code",
   "execution_count": 10,
   "id": "cf25fb96-d316-4e9b-b1f4-cb9fc5f2c9ba",
   "metadata": {},
   "outputs": [
    {
     "ename": "FileNotFoundError",
     "evalue": "[WinError 3] The system cannot find the path specified: 'data/Custom dataset'",
     "output_type": "error",
     "traceback": [
      "\u001b[1;31m---------------------------------------------------------------------------\u001b[0m",
      "\u001b[1;31mFileNotFoundError\u001b[0m                         Traceback (most recent call last)",
      "Input \u001b[1;32mIn [10]\u001b[0m, in \u001b[0;36m<cell line: 2>\u001b[1;34m()\u001b[0m\n\u001b[0;32m      1\u001b[0m \u001b[38;5;66;03m# vnames = tvsum_info['video_id'].tolist()\u001b[39;00m\n\u001b[1;32m----> 2\u001b[0m \u001b[43mextract_features\u001b[49m\u001b[43m(\u001b[49m\u001b[43mvideos_path\u001b[49m\u001b[38;5;241;43m=\u001b[39;49m\u001b[38;5;124;43m'\u001b[39;49m\u001b[38;5;124;43mdata/Custom dataset\u001b[39;49m\u001b[38;5;124;43m'\u001b[39;49m\u001b[43m,\u001b[49m\u001b[43m \u001b[49m\u001b[43mh5output_path\u001b[49m\u001b[38;5;241;43m=\u001b[39;49m\u001b[43mnormalFt_path\u001b[49m\u001b[38;5;241;43m+\u001b[39;49m\u001b[38;5;124;43m'\u001b[39;49m\u001b[38;5;124;43m/sportsmeet_test.h5\u001b[39;49m\u001b[38;5;124;43m'\u001b[39;49m\u001b[43m)\u001b[49m\n",
      "Input \u001b[1;32mIn [7]\u001b[0m, in \u001b[0;36mextract_features\u001b[1;34m(videos_path, h5output_path, method, names)\u001b[0m\n\u001b[0;32m      3\u001b[0m \u001b[38;5;66;03m# st = time()\u001b[39;00m\n\u001b[0;32m      5\u001b[0m \u001b[38;5;28;01mwith\u001b[39;00m h5py\u001b[38;5;241m.\u001b[39mFile(h5_file, \u001b[38;5;124m'\u001b[39m\u001b[38;5;124mw\u001b[39m\u001b[38;5;124m'\u001b[39m) \u001b[38;5;28;01mas\u001b[39;00m f:\n\u001b[1;32m----> 6\u001b[0m     files \u001b[38;5;241m=\u001b[39m \u001b[43mos\u001b[49m\u001b[38;5;241;43m.\u001b[39;49m\u001b[43mlistdir\u001b[49m\u001b[43m(\u001b[49m\u001b[43mvideos_path\u001b[49m\u001b[43m)\u001b[49m\n\u001b[0;32m      7\u001b[0m     cnt \u001b[38;5;241m=\u001b[39m \u001b[38;5;241m0\u001b[39m\n\u001b[0;32m      9\u001b[0m     pbar \u001b[38;5;241m=\u001b[39m tqdm(total \u001b[38;5;241m=\u001b[39m \u001b[38;5;28mlen\u001b[39m(files), position\u001b[38;5;241m=\u001b[39m\u001b[38;5;241m0\u001b[39m, leave\u001b[38;5;241m=\u001b[39m\u001b[38;5;28;01mTrue\u001b[39;00m)\n",
      "\u001b[1;31mFileNotFoundError\u001b[0m: [WinError 3] The system cannot find the path specified: 'data/Custom dataset'"
     ]
    }
   ],
   "source": [
    "# # vnames = tvsum_info['video_id'].tolist()\n",
    "# extract_features(videos_path='data/Custom dataset', h5output_path=normalFt_path+'/sportsmeet_test.h5')"
   ]
  },
  {
   "cell_type": "code",
   "execution_count": null,
   "id": "50b87c3a-767a-4f11-b885-2a63051ce662",
   "metadata": {
    "tags": []
   },
   "outputs": [],
   "source": [
    "# extract_features(videos_path=tvsum_data+'/video', h5output_path=hashbasedFt_path+'/TVSum.h5',method='hashbased', names=vnames)"
   ]
  },
  {
   "cell_type": "markdown",
   "id": "014234c3-be85-41aa-9ab5-b3002789b142",
   "metadata": {},
   "source": [
    "---------------------------"
   ]
  },
  {
   "cell_type": "markdown",
   "id": "8218691a-6b96-4eb6-a3cd-0dcc42cc628e",
   "metadata": {
    "tags": []
   },
   "source": [
    "##### *H5File metadata*"
   ]
  },
  {
   "cell_type": "raw",
   "id": "fddaf3d9-6eda-40b6-82a7-3148cc2b0a0e",
   "metadata": {},
   "source": [
    "/key\n",
    "    -/features                 2D-array with shape (n_steps, feature-dimension)\n",
    "    /gtscore                  1D-array with shape (n_steps), stores ground truth improtance score\n",
    "    /user_summary             2D-array with shape (num_users, n_frames), each row is a binary vector\n",
    "    /change_points            2D-array with shape (num_segments, 2), each row stores indices of a segment\n",
    "    /n_frame_per_seg          1D-array with shape (num_segments), indicates number of frames in each segment\n",
    "    -/n_frames                 number of frames in original video\n",
    "    -/picks                    posotions of subsampled frames in original video\n",
    "    /n_steps                  number of subsampled frames\n",
    "    /gtsummary                1D-array with shape (n_steps), ground truth summary provided by user\n",
    "    /video_name (optional)    original video name, only available for SumMe dataset"
   ]
  }
 ],
 "metadata": {
  "kernelspec": {
   "display_name": "Python 3 (ipykernel)",
   "language": "python",
   "name": "python3"
  },
  "language_info": {
   "codemirror_mode": {
    "name": "ipython",
    "version": 3
   },
   "file_extension": ".py",
   "mimetype": "text/x-python",
   "name": "python",
   "nbconvert_exporter": "python",
   "pygments_lexer": "ipython3",
   "version": "3.9.12"
  }
 },
 "nbformat": 4,
 "nbformat_minor": 5
}
