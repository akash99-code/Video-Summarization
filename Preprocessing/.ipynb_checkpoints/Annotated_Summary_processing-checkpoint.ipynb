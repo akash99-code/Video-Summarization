{
 "cells": [
  {
   "cell_type": "markdown",
   "id": "075f1a79-7099-4fc0-9a10-c730596635d7",
   "metadata": {},
   "source": [
    "## Annotated Summary processing"
   ]
  },
  {
   "cell_type": "code",
   "execution_count": 103,
   "id": "a93c7d97-59dd-4b64-8935-bbe505b14df8",
   "metadata": {
    "tags": []
   },
   "outputs": [],
   "source": [
    "import h5py\n",
    "import os\n",
    "import numpy as np\n",
    "import pandas as pd\n",
    "import math\n",
    "from ortools.algorithms import pywrapknapsack_solver\n",
    "import torch\n",
    "import scipy.io\n",
    "import torch.nn as nn"
   ]
  },
  {
   "cell_type": "code",
   "execution_count": 104,
   "id": "d924a530-e4f4-4b50-8771-41892d67cfac",
   "metadata": {
    "tags": []
   },
   "outputs": [],
   "source": [
    "datasets_path='../data'\n",
    "public_dataset_path=datasets_path+'/Public datasets'\n",
    "tvsum_data = public_dataset_path+'/ydata-tvsum50-v1_1'\n",
    "summe_data = public_dataset_path+'/SUMMe'"
   ]
  },
  {
   "cell_type": "code",
   "execution_count": 105,
   "id": "6f3c1581-d085-4040-8201-8af2f15fce50",
   "metadata": {
    "tags": []
   },
   "outputs": [],
   "source": [
    "EXTRACT_FREQUENCY = 15"
   ]
  },
  {
   "cell_type": "code",
   "execution_count": 106,
   "id": "b6c84701-841b-4897-99c6-cf1639244255",
   "metadata": {
    "tags": []
   },
   "outputs": [],
   "source": [
    "def videoname_map(name, info_df):\n",
    "    if info_df is None:\n",
    "        return name\n",
    "    key = info_df[info_df['video_id'] == name].index[0]\n",
    "    key='video_'+str(key)\n",
    "    return key"
   ]
  },
  {
   "cell_type": "markdown",
   "id": "0f216b1e-14fa-4593-83e9-a20fa1f72ca3",
   "metadata": {},
   "source": [
    "#### )) Knapsnack algorithm"
   ]
  },
  {
   "cell_type": "code",
   "execution_count": 108,
   "id": "752e02f2-e7a3-4e44-94c0-adb0eabe2a95",
   "metadata": {
    "tags": []
   },
   "outputs": [],
   "source": [
    "def knapsack_ortools(values, weights, items, capacity ):\n",
    "    scale = 1000\n",
    "    values = np.array(values)\n",
    "    weights = np.array(weights)\n",
    "    values = (values * scale).astype(np.int32)\n",
    "    weights = (weights).astype(np.int32)\n",
    "    capacity = capacity\n",
    "    osolver = pywrapknapsack_solver.KnapsackSolver(pywrapknapsack_solver.KnapsackSolver.KNAPSACK_DYNAMIC_PROGRAMMING_SOLVER,'test')\n",
    "    osolver.Init(values.tolist(), [weights.tolist()], [capacity])\n",
    "    computed_value = osolver.Solve()\n",
    "    packed_items = [x for x in range(0, len(weights))\n",
    "                    if osolver.BestSolutionContains(x)]\n",
    "\n",
    "    return packed_items"
   ]
  },
  {
   "cell_type": "code",
   "execution_count": 109,
   "id": "d1456d61-07ca-4134-b4ba-7f3df1753875",
   "metadata": {
    "tags": []
   },
   "outputs": [],
   "source": [
    "def knapsack_dp(values,weights,n_items,capacity,return_all=False):\n",
    "    # check_inputs(values,weights,n_items,capacity)\n",
    "    \n",
    "    assert(isinstance(values,list))\n",
    "    assert(isinstance(weights,list))\n",
    "    assert(isinstance(n_items,int))\n",
    "    assert(isinstance(capacity,int))\n",
    "    # check value type\n",
    "    assert(all(isinstance(val,int) or isinstance(val,float) for val in values))\n",
    "    assert(all(isinstance(val,int) for val in weights))\n",
    "    # check validity of value\n",
    "    assert(all(val >= 0 for val in weights))\n",
    "    assert(n_items > 0)\n",
    "    assert(capacity > 0)\n",
    "\n",
    "    table = np.zeros((n_items+1,capacity+1),dtype=np.float32)\n",
    "    keep = np.zeros((n_items+1,capacity+1),dtype=np.float32)\n",
    "\n",
    "    for i in range(1,n_items+1):\n",
    "        for w in range(0,capacity+1):\n",
    "            wi = weights[i-1] # weight of current item\n",
    "            vi = values[i-1] # value of current item\n",
    "            if (wi <= w) and (vi + table[i-1,w-wi] > table[i-1,w]):\n",
    "                table[i,w] = vi + table[i-1,w-wi]\n",
    "                keep[i,w] = 1\n",
    "            else:\n",
    "                table[i,w] = table[i-1,w]\n",
    "\n",
    "    picks = []\n",
    "    K = capacity\n",
    "\n",
    "    for i in range(n_items,0,-1):\n",
    "        if keep[i,K] == 1:\n",
    "            picks.append(i)\n",
    "            K -= weights[i-1]\n",
    "\n",
    "    picks.sort()\n",
    "    picks = [x-1 for x in picks] # change to 0-index\n",
    "\n",
    "    if return_all:\n",
    "        max_val = table[n_items,capacity]\n",
    "        return picks,max_val\n",
    "    return picks"
   ]
  },
  {
   "cell_type": "markdown",
   "id": "6ef5e9e7-bf04-433d-9ce3-389843db7bef",
   "metadata": {},
   "source": [
    "#### )) GT Summary Generator"
   ]
  },
  {
   "cell_type": "code",
   "execution_count": 110,
   "id": "bbe7ee84-74ac-4d8a-88cd-df265110d4ce",
   "metadata": {},
   "outputs": [],
   "source": [
    "softmax = nn.Softmax(dim=-1)\n",
    "\n",
    "def generate_gt_sum(cps, nfps, n_frames, gt_score, proportion=0.15, method='knapsack'):\n",
    "    n_segs = cps.shape[0]\n",
    "    seg_score = []\n",
    "    for seg_idx in range(n_segs):\n",
    "        start, end = int(cps[seg_idx,0]), int(cps[seg_idx,1]+1)\n",
    "        # print(start,end)\n",
    "        scores = gt_score[start:end]\n",
    "        seg_score.append(float(scores.mean()))\n",
    "    \n",
    "    \n",
    "    limits = int(math.floor(n_frames * proportion))\n",
    "\n",
    "    if method == 'knapsack':\n",
    "        picks = knapsack_ortools(seg_score, nfps, n_segs, limits)\n",
    "        \n",
    "    shot_probs = softmax(torch.Tensor(seg_score))\n",
    "    \n",
    "    gt_probs = np.zeros(n_frames, dtype=np.float32)\n",
    "    gt_summary= np.zeros((1), dtype=np.float32)\n",
    "    \n",
    "    \n",
    "    for seg_idx in range(n_segs):\n",
    "        \n",
    "        first, last = cps[seg_idx]\n",
    "        gt_probs[first:last + 1] = shot_probs[seg_idx]\n",
    "        \n",
    "        nf = nfps[seg_idx]\n",
    "        if seg_idx in picks:\n",
    "            tmp = np.ones((nf), dtype=np.float32)\n",
    "        else:\n",
    "            tmp = np.zeros((nf), dtype=np.float32)\n",
    "        gt_summary = np.concatenate((gt_summary, tmp))\n",
    "    \n",
    "    gt_summary = np.delete(gt_summary, 0)\n",
    "    return gt_probs, gt_summary\n",
    "    \n",
    "    "
   ]
  },
  {
   "cell_type": "markdown",
   "id": "83aad890-f032-4442-8172-c568620b852e",
   "metadata": {
    "tags": []
   },
   "source": [
    "#### )) User Summary Generator"
   ]
  },
  {
   "cell_type": "code",
   "execution_count": 111,
   "id": "8658193f-7518-4ebc-8735-6a05b08a63e9",
   "metadata": {},
   "outputs": [],
   "source": [
    "def make_user_summary(frame_scores, cps, n_frames, nfps, proportion=0.15, method='knapsack'):\n",
    "    \"\"\"Generate keyshot-based video summary i.e. a binary vector.\n",
    "    Args:\n",
    "    ---------------------------------------------\n",
    "    - frame_scores: importance scores by users.\n",
    "    - cps: change points, 2D matrix, each row contains a segment.\n",
    "    - n_frames: original number of frames.\n",
    "    - nfps: number of frames per segment.\n",
    "    - proportion: length of video summary (compared to original video length).\n",
    "    - method: defines how shots are selected, ['knapsack', 'rank'].\n",
    "    \"\"\"\n",
    "    n_segs = cps.shape[0]\n",
    "\n",
    "    seg_score = []\n",
    "    for seg_idx in range(n_segs):\n",
    "        start, end = int(cps[seg_idx,0]), int(cps[seg_idx,1]+1)\n",
    "        # print(start,end)\n",
    "        scores = frame_scores[start:end]\n",
    "        seg_score.append(float(scores.mean()))\n",
    "\n",
    "    limits = int(math.floor(n_frames * proportion))\n",
    "\n",
    "    if method == 'knapsack':\n",
    "        # picks = knapsack_dp(seg_score, nfps, n_segs, limits)\n",
    "        picks = knapsack_ortools(seg_score, nfps, n_segs, limits)\n",
    "    elif method == 'rank':\n",
    "        order = np.argsort(seg_score)[::-1].tolist()\n",
    "        picks = []\n",
    "        total_len = 0\n",
    "        for i in order:\n",
    "            if total_len + nfps[i] < limits:\n",
    "                picks.append(i)\n",
    "                total_len += nfps[i]\n",
    "    else:\n",
    "        raise KeyError(\"Unknown method {}\".format(method))\n",
    "\n",
    "    summary = np.zeros(n_frames, dtype=np.float32)\n",
    "    for seg_idx in picks:\n",
    "        first, last = cps[seg_idx]\n",
    "        summary[first:last + 1] = 1\n",
    "\n",
    "    return summary"
   ]
  },
  {
   "cell_type": "markdown",
   "id": "9dc28a06-f828-4abc-8ba9-14b5954ee620",
   "metadata": {
    "tags": []
   },
   "source": [
    "#### )) TVSum User Summaries"
   ]
  },
  {
   "cell_type": "code",
   "execution_count": 112,
   "id": "669d2a5b-27ae-4bdf-9001-abe34768398c",
   "metadata": {},
   "outputs": [],
   "source": [
    "args={\n",
    "    'annotation':tvsum_data+'/matlab/ydata-tvsum50.mat',\n",
    "    'dataset_h5':'extracted_features/normal/TVSum.h5',\n",
    "    'video_info':tvsum_data+'/data/ydata-tvsum50-info.tsv',\n",
    "}"
   ]
  },
  {
   "cell_type": "code",
   "execution_count": 21,
   "id": "a69057fb-a49f-47b5-9859-6f1b25a4a918",
   "metadata": {},
   "outputs": [],
   "source": [
    "def get_tvsum(args):\n",
    "    info_df = pd.read_csv(args['video_info'], sep='\\t')\n",
    "    with h5py.File(args['annotation'], 'r') as mat, h5py.File(args['dataset_h5'], 'r+') as d:\n",
    "        for i in range(0,50):\n",
    "            uscore_idx = mat['tvsum50/user_anno'][i, 0]\n",
    "            user_scores = mat[uscore_idx]\n",
    "\n",
    "            gtscore_idx = mat['tvsum50/gt_score'][i, 0]\n",
    "            gt_score = np.squeeze(mat[gtscore_idx])\n",
    "            # gt_score = gt_score[::EXTRACT_FREQUENCY]\n",
    "\n",
    "            name_idx = mat['tvsum50/video'][i, 0]\n",
    "            video_title = \"\".join(chr(i[0]) for i in mat[name_idx][()])\n",
    "            video_name = 'video_'+str(i+1)\n",
    "\n",
    "#             if d[video_name+'/picks'][()].shape[0]<gt_score.shape[0]:\n",
    "#                 gt_score=gt_score[:d[video_name+'/picks'][()].shape[0]]\n",
    "#             if d[video_name+'/picks'][()].shape[0]>gt_score.shape[0]:\n",
    "#                 np.pad(gt_score,(0,d[video_name+'/picks'][()].shape[0]-gt_score.shape[0]),'constant')\n",
    "\n",
    "            print(i,video_name, video_title, user_scores.shape, d[video_name+'/picks'][()].shape)\n",
    "            \n",
    "            user_summary = []\n",
    "            cps = d[video_name + '/change_points'][()]\n",
    "            nfps = d[video_name + '/n_frame_per_seg'][()].tolist()\n",
    "            n_frames = d[video_name + '/n_frames'][()]\n",
    "            \n",
    "            gt_probs, gt_summary = generate_gt_sum(cps, nfps, n_frames, gt_score)\n",
    "            \n",
    "            \n",
    "            for us in user_scores:\n",
    "                one_sum = make_user_summary(us, cps, n_frames, nfps)\n",
    "                user_summary.append(one_sum)\n",
    "                \n",
    "            \n",
    "            d.create_dataset(video_name + '/gt_score', data=gt_score)\n",
    "            d.create_dataset(video_name + '/gt_probs', data=gt_probs)\n",
    "            d.create_dataset(video_name + '/gt_summary', data=gt_summary)\n",
    "            d.create_dataset(video_name + '/user_summary', data=user_summary)\n",
    "\n",
    "        \n",
    "    return\n"
   ]
  },
  {
   "cell_type": "code",
   "execution_count": 22,
   "id": "d7992b5a-6fef-4719-8746-2569aee912c0",
   "metadata": {
    "collapsed": true,
    "jupyter": {
     "outputs_hidden": true
    },
    "tags": []
   },
   "outputs": [
    {
     "name": "stdout",
     "output_type": "stream",
     "text": [
      "0 video_1 AwmHb44_ouw (20, 10597) (706,)\n",
      "1 video_2 98MoyGZKHXc (20, 4688) (312,)\n",
      "2 video_3 J0nA4VgnoCo (20, 14019) (934,)\n",
      "3 video_4 gzDbaEs1Rlg (20, 7210) (480,)\n",
      "4 video_5 XzYM3PfTM4w (20, 3327) (221,)\n",
      "5 video_6 HT5vyqe0Xaw (20, 9671) (644,)\n",
      "6 video_7 sTEELN-vY30 (20, 4468) (297,)\n",
      "7 video_8 vdmoEJ5YbrQ (20, 9870) (658,)\n",
      "8 video_9 xwqBXPGE9pQ (20, 7010) (467,)\n",
      "9 video_10 akI8YFjEmUw (20, 3995) (266,)\n",
      "10 video_11 i3wAGJaaktw (20, 4700) (313,)\n",
      "11 video_12 Bhxk-O1Y7Ho (20, 13511) (900,)\n",
      "12 video_13 0tmA_C6XwfM (20, 3532) (235,)\n",
      "13 video_14 3eYKfiOEJNs (20, 4853) (323,)\n",
      "14 video_15 xxdtq8mxegs (20, 4324) (288,)\n",
      "15 video_16 WG0MBPpPC6I (20, 9534) (635,)\n",
      "16 video_17 Hl-__g2gn_A (20, 5846) (389,)\n",
      "17 video_18 Yi4Ij2NM7U4 (20, 9731) (648,)\n",
      "18 video_19 37rzWOQsNIw (20, 5742) (382,)\n",
      "19 video_20 LRw_obCPUt0 (20, 6241) (416,)\n",
      "20 video_21 cjibtmSLxQ4 (20, 19406) (1293,)\n",
      "21 video_22 b626MiF1ew4 (20, 5661) (377,)\n",
      "22 video_23 XkqCExn6_Us (20, 5631) (375,)\n",
      "23 video_24 GsAD1KT1xo8 (20, 4356) (290,)\n",
      "24 video_25 PJrm840pAUI (20, 6580) (438,)\n",
      "25 video_26 91IHQYk1IQM (20, 3312) (220,)\n",
      "26 video_27 RBCABdttQmI (20, 10917) (727,)\n",
      "27 video_28 z_6gVvQb2d0 (20, 8281) (552,)\n",
      "28 video_29 fWutDQy1nnY (20, 17527) (1168,)\n",
      "29 video_30 4wU_LUjG5Ic (20, 4005) (267,)\n",
      "30 video_31 VuWGsYPqAX8 (20, 5412) (360,)\n",
      "31 video_32 JKpqYvAdIsw (20, 3802) (253,)\n",
      "32 video_33 xmEERLqJ2kU (20, 13365) (891,)\n",
      "33 video_34 byxOvuiIJV0 (20, 3705) (247,)\n",
      "34 video_35 _xMr-HKMfVA (20, 4463) (297,)\n",
      "35 video_36 WxtbjNsCQ8A (20, 7959) (530,)\n",
      "36 video_37 uGu_10sucQo (20, 4009) (267,)\n",
      "37 video_38 EE-bNr36nyA (20, 2941) (196,)\n",
      "38 video_39 Se3oxnaPsz0 (20, 4165) (277,)\n",
      "39 video_40 oDXZc0tZe04 (20, 11414) (760,)\n",
      "40 video_41 qqR6AEXwxoQ (20, 8073) (538,)\n",
      "41 video_42 EYqVtI9YWJA (20, 5939) (395,)\n",
      "42 video_43 eQu1rNs0an0 (20, 4931) (328,)\n",
      "43 video_44 JgHubY5Vw3Y (20, 4304) (286,)\n",
      "44 video_45 iVt07TCkFM0 (20, 2500) (166,)\n",
      "45 video_46 E11zDS9XGzg (20, 15307) (1020,)\n",
      "46 video_47 NyBmCxDoHJU (20, 4740) (316,)\n",
      "47 video_48 kLxoNp-UchI (20, 3896) (259,)\n",
      "48 video_49 jcoYJXDG9sw (20, 5971) (398,)\n",
      "49 video_50 -esJrBWj2d8 (20, 6912) (460,)\n"
     ]
    }
   ],
   "source": [
    "get_tvsum(args)"
   ]
  },
  {
   "cell_type": "markdown",
   "id": "d8393203-bc11-4971-9d56-d37ceae2c71b",
   "metadata": {},
   "source": [
    "#### )) SUMMe User Summaries"
   ]
  },
  {
   "cell_type": "code",
   "execution_count": 120,
   "id": "c15004c6-a6a9-4cbc-84d9-6addd47cb6af",
   "metadata": {},
   "outputs": [],
   "source": [
    "def get_summe(args):\n",
    "    info_df = pd.read_csv(args['video_info'], sep='\\t')['video_id'].tolist()\n",
    "    count=0\n",
    "    SummeAnotfiles = os.listdir(args['annotation'])\n",
    "    \n",
    "    with h5py.File(args['dataset_h5'], 'a') as SM:\n",
    "        for file in SummeAnotfiles:\n",
    "            data = scipy.io.loadmat(args['annotation']+file)\n",
    "            gt_score = data['gt_score']\n",
    "            user_scores = data['user_score'].T\n",
    "            video_id = file.split('.')[0]\n",
    "            video_title = video_id+'.mp4'\n",
    "            video_name = 'video_'+str(info_df.index(video_id)+1)\n",
    "            count+=1\n",
    "            print(count,video_name, video_title, user_scores.shape, SM[video_name+'/picks'][()].shape)\n",
    "            \n",
    "            user_summary = []\n",
    "            cps = SM[video_name + '/change_points'][()]\n",
    "            nfps = SM[video_name + '/n_frame_per_seg'][()].tolist()\n",
    "            n_frames = SM[video_name + '/n_frames'][()]\n",
    "            \n",
    "            gt_probs, gt_summary = generate_gt_sum(cps, nfps, n_frames, gt_score)\n",
    "            \n",
    "            \n",
    "            for us in user_scores:\n",
    "                one_sum = make_user_summary(us, cps, n_frames, nfps)\n",
    "                user_summary.append(one_sum)\n",
    "                \n",
    "            print(gt_score.shape, gt_summary.shape, np.array(user_summary).shape)\n",
    "            SM.create_dataset(video_name + '/gt_score', data=gt_score)\n",
    "            SM.create_dataset(video_name + '/gt_probs', data=gt_probs)\n",
    "            SM.create_dataset(video_name + '/gt_summary', data=gt_summary)\n",
    "            SM.create_dataset(video_name + '/user_summary', data=user_summary)\n",
    "\n",
    "    return\n",
    "\n"
   ]
  },
  {
   "cell_type": "code",
   "execution_count": 114,
   "id": "d32a0e97-3185-414f-a182-eeeb7f8c4a41",
   "metadata": {},
   "outputs": [],
   "source": [
    "args={\n",
    "    'annotation':summe_data+'/GT/',\n",
    "    'dataset_h5':'extracted_features/normal/SUMMe.h5',\n",
    "    'video_info':summe_data+'/summe_info.tsv',\n",
    "}"
   ]
  },
  {
   "cell_type": "code",
   "execution_count": 121,
   "id": "e37b6624-f1e2-4d2a-8ec1-7712ee96a051",
   "metadata": {
    "collapsed": true,
    "jupyter": {
     "outputs_hidden": true
    },
    "tags": []
   },
   "outputs": [
    {
     "name": "stdout",
     "output_type": "stream",
     "text": [
      "1 video_1 Air_Force_One.mp4 (15, 4494) (299,)\n",
      "(4494, 1) (4494,) (15, 4494)\n",
      "2 video_2 Base jumping.mp4 (18, 4729) (315,)\n",
      "(4729, 1) (4729,) (18, 4729)\n",
      "3 video_3 Bearpark_climbing.mp4 (15, 3341) (222,)\n",
      "(3341, 1) (3341,) (15, 3341)\n",
      "4 video_4 Bike Polo.mp4 (15, 3064) (204,)\n",
      "(3064, 1) (3064,) (15, 3064)\n",
      "5 video_5 Bus_in_Rock_Tunnel.mp4 (15, 5131) (342,)\n",
      "(5131, 1) (5133,) (15, 5133)\n",
      "6 video_6 car_over_camera.mp4 (15, 4382) (292,)\n",
      "(4382, 1) (4382,) (15, 4382)\n",
      "7 video_7 Car_railcrossing.mp4 (16, 5075) (338,)\n",
      "(5075, 1) (5075,) (16, 5075)\n",
      "8 video_8 Cockpit_Landing.mp4 (15, 9046) (603,)\n",
      "(9046, 1) (9046,) (15, 9046)\n",
      "9 video_9 Cooking.mp4 (17, 1286) (85,)\n",
      "(1286, 1) (1287,) (17, 1287)\n",
      "10 video_10 Eiffel Tower.mp4 (15, 4971) (331,)\n",
      "(4971, 1) (4971,) (15, 4971)\n",
      "11 video_11 Excavators river crossing.mp4 (15, 9721) (648,)\n",
      "(9721, 1) (9721,) (15, 9721)\n",
      "12 video_12 Fire Domino.mp4 (15, 1612) (107,)\n",
      "(1612, 1) (1612,) (15, 1612)\n",
      "13 video_13 Jumps.mp4 (15, 950) (63,)\n",
      "(950, 1) (950,) (15, 950)\n",
      "14 video_14 Kids_playing_in_leaves.mp4 (15, 3187) (212,)\n",
      "(3187, 1) (3187,) (15, 3187)\n",
      "15 video_15 Notre_Dame.mp4 (15, 4608) (307,)\n",
      "(4608, 1) (4608,) (15, 4608)\n",
      "16 video_16 Paintball.mp4 (17, 6096) (406,)\n",
      "(6096, 1) (6096,) (17, 6096)\n",
      "17 video_17 paluma_jump.mp4 (15, 2574) (171,)\n",
      "(2574, 1) (2574,) (15, 2574)\n",
      "18 video_18 playing_ball.mp4 (16, 3120) (207,)\n",
      "(3120, 1) (3119,) (16, 3119)\n",
      "19 video_19 Playing_on_water_slide.mp4 (15, 3065) (204,)\n",
      "(3065, 1) (3065,) (15, 3065)\n",
      "20 video_20 Saving dolphines.mp4 (15, 6683) (445,)\n",
      "(6683, 1) (6683,) (15, 6683)\n",
      "21 video_21 Scuba.mp4 (17, 2221) (148,)\n",
      "(2221, 1) (2221,) (17, 2221)\n",
      "22 video_22 St Maarten Landing.mp4 (17, 1751) (116,)\n",
      "(1751, 1) (1751,) (17, 1751)\n",
      "23 video_23 Statue of Liberty.mp4 (17, 3863) (257,)\n",
      "(3863, 1) (3863,) (17, 3863)\n",
      "24 video_24 Uncut_Evening_Flight.mp4 (15, 9672) (644,)\n",
      "(9672, 1) (9672,) (15, 9672)\n",
      "25 video_25 Valparaiso_Downhill.mp4 (15, 5178) (345,)\n",
      "(5178, 1) (5178,) (15, 5178)\n"
     ]
    }
   ],
   "source": [
    "get_summe(args)"
   ]
  },
  {
   "cell_type": "code",
   "execution_count": null,
   "id": "af7bd833-0c23-4833-b1c7-7fd8e03edc2a",
   "metadata": {},
   "outputs": [],
   "source": []
  }
 ],
 "metadata": {
  "kernelspec": {
   "display_name": "Python 3 (ipykernel)",
   "language": "python",
   "name": "python3"
  },
  "language_info": {
   "codemirror_mode": {
    "name": "ipython",
    "version": 3
   },
   "file_extension": ".py",
   "mimetype": "text/x-python",
   "name": "python",
   "nbconvert_exporter": "python",
   "pygments_lexer": "ipython3",
   "version": "3.9.12"
  }
 },
 "nbformat": 4,
 "nbformat_minor": 5
}
