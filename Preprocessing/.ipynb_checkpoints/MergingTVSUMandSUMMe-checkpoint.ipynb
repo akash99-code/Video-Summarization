{
 "cells": [
  {
   "cell_type": "code",
   "execution_count": 29,
   "id": "964620d3-c90e-4ddb-b0dc-8e6399a63517",
   "metadata": {},
   "outputs": [],
   "source": [
    "import h5py\n",
    "import json"
   ]
  },
  {
   "cell_type": "code",
   "execution_count": 3,
   "id": "f26b982f-8d42-4db1-be05-117df2369c41",
   "metadata": {},
   "outputs": [],
   "source": [
    "listofh5s = ['SUMMe - Copy.h5', 'TVSum - Copy.h5']"
   ]
  },
  {
   "cell_type": "code",
   "execution_count": 15,
   "id": "3d709908-97aa-4774-b8f9-a97349dff8dd",
   "metadata": {},
   "outputs": [],
   "source": [
    "name2index={}"
   ]
  },
  {
   "cell_type": "code",
   "execution_count": 26,
   "id": "3eb02d0a-225d-4412-aa53-5259e2cfaa52",
   "metadata": {
    "tags": []
   },
   "outputs": [
    {
     "name": "stdout",
     "output_type": "stream",
     "text": [
      "SUMMe - Copy.h5\n",
      "TVSum - Copy.h5\n"
     ]
    }
   ],
   "source": [
    "with h5py.File('extracted_features/normal/merged.h5', 'a') as d:\n",
    "    c=1\n",
    "    for file in listofh5s:\n",
    "        print(file)\n",
    "        with h5py.File('extracted_features/normal/'+file, 'r') as f:\n",
    "            for key in f.keys():\n",
    "                vid_name = f[key]['video_name'][()].decode()\n",
    "                new_name = 'video_'+str(c)\n",
    "                c+=1\n",
    "                name2index[vid_name.split('.')[0]] = new_name\n",
    "                for k in f[key].keys():\n",
    "                    d.create_dataset(new_name+'/'+k, data=f[key][k])"
   ]
  },
  {
   "cell_type": "code",
   "execution_count": 27,
   "id": "11cf40db-130c-448f-a64f-3c0abdcdb91d",
   "metadata": {},
   "outputs": [
    {
     "data": {
      "text/plain": [
       "{'Air_Force_One': 'video_1',\n",
       " 'Eiffel Tower': 'video_2',\n",
       " 'Excavators river crossing': 'video_3',\n",
       " 'Fire Domino': 'video_4',\n",
       " 'Jumps': 'video_5',\n",
       " 'Kids_playing_in_leaves': 'video_6',\n",
       " 'Notre_Dame': 'video_7',\n",
       " 'Paintball': 'video_8',\n",
       " 'paluma_jump': 'video_9',\n",
       " 'playing_ball': 'video_10',\n",
       " 'Playing_on_water_slide': 'video_11',\n",
       " 'Base jumping': 'video_12',\n",
       " 'Saving dolphines': 'video_13',\n",
       " 'Scuba': 'video_14',\n",
       " 'St Maarten Landing': 'video_15',\n",
       " 'Statue of Liberty': 'video_16',\n",
       " 'Uncut_Evening_Flight': 'video_17',\n",
       " 'Valparaiso_Downhill': 'video_18',\n",
       " 'Bearpark_climbing': 'video_19',\n",
       " 'Bike Polo': 'video_20',\n",
       " 'Bus_in_Rock_Tunnel': 'video_21',\n",
       " 'car_over_camera': 'video_22',\n",
       " 'Car_railcrossing': 'video_23',\n",
       " 'Cockpit_Landing': 'video_24',\n",
       " 'Cooking': 'video_25',\n",
       " 'AwmHb44_ouw': 'video_26',\n",
       " 'akI8YFjEmUw': 'video_27',\n",
       " 'i3wAGJaaktw': 'video_28',\n",
       " 'Bhxk-O1Y7Ho': 'video_29',\n",
       " '0tmA_C6XwfM': 'video_30',\n",
       " '3eYKfiOEJNs': 'video_31',\n",
       " 'xxdtq8mxegs': 'video_32',\n",
       " 'WG0MBPpPC6I': 'video_33',\n",
       " 'Hl-__g2gn_A': 'video_34',\n",
       " 'Yi4Ij2NM7U4': 'video_35',\n",
       " '37rzWOQsNIw': 'video_36',\n",
       " '98MoyGZKHXc': 'video_37',\n",
       " 'LRw_obCPUt0': 'video_38',\n",
       " 'cjibtmSLxQ4': 'video_39',\n",
       " 'b626MiF1ew4': 'video_40',\n",
       " 'XkqCExn6_Us': 'video_41',\n",
       " 'GsAD1KT1xo8': 'video_42',\n",
       " 'PJrm840pAUI': 'video_43',\n",
       " '91IHQYk1IQM': 'video_44',\n",
       " 'RBCABdttQmI': 'video_45',\n",
       " 'z_6gVvQb2d0': 'video_46',\n",
       " 'fWutDQy1nnY': 'video_47',\n",
       " 'J0nA4VgnoCo': 'video_48',\n",
       " '4wU_LUjG5Ic': 'video_49',\n",
       " 'VuWGsYPqAX8': 'video_50',\n",
       " 'JKpqYvAdIsw': 'video_51',\n",
       " 'xmEERLqJ2kU': 'video_52',\n",
       " 'byxOvuiIJV0': 'video_53',\n",
       " '_xMr-HKMfVA': 'video_54',\n",
       " 'WxtbjNsCQ8A': 'video_55',\n",
       " 'uGu_10sucQo': 'video_56',\n",
       " 'EE-bNr36nyA': 'video_57',\n",
       " 'Se3oxnaPsz0': 'video_58',\n",
       " 'gzDbaEs1Rlg': 'video_59',\n",
       " 'oDXZc0tZe04': 'video_60',\n",
       " 'qqR6AEXwxoQ': 'video_61',\n",
       " 'EYqVtI9YWJA': 'video_62',\n",
       " 'eQu1rNs0an0': 'video_63',\n",
       " 'JgHubY5Vw3Y': 'video_64',\n",
       " 'iVt07TCkFM0': 'video_65',\n",
       " 'E11zDS9XGzg': 'video_66',\n",
       " 'NyBmCxDoHJU': 'video_67',\n",
       " 'kLxoNp-UchI': 'video_68',\n",
       " 'jcoYJXDG9sw': 'video_69',\n",
       " 'XzYM3PfTM4w': 'video_70',\n",
       " '-esJrBWj2d8': 'video_71',\n",
       " 'HT5vyqe0Xaw': 'video_72',\n",
       " 'sTEELN-vY30': 'video_73',\n",
       " 'vdmoEJ5YbrQ': 'video_74',\n",
       " 'xwqBXPGE9pQ': 'video_75'}"
      ]
     },
     "execution_count": 27,
     "metadata": {},
     "output_type": "execute_result"
    }
   ],
   "source": [
    "name2index"
   ]
  },
  {
   "cell_type": "code",
   "execution_count": 30,
   "id": "50119e37-94ed-4c56-b3d1-84e5b89baa26",
   "metadata": {},
   "outputs": [],
   "source": [
    "with open(\"vidname2index.json\", \"w\") as outfile:\n",
    "    json.dump(name2index, outfile)"
   ]
  },
  {
   "cell_type": "code",
   "execution_count": null,
   "id": "71202183-95d2-4ddf-9147-713f1225aed5",
   "metadata": {},
   "outputs": [],
   "source": []
  }
 ],
 "metadata": {
  "kernelspec": {
   "display_name": "Python 3 (ipykernel)",
   "language": "python",
   "name": "python3"
  },
  "language_info": {
   "codemirror_mode": {
    "name": "ipython",
    "version": 3
   },
   "file_extension": ".py",
   "mimetype": "text/x-python",
   "name": "python",
   "nbconvert_exporter": "python",
   "pygments_lexer": "ipython3",
   "version": "3.9.12"
  }
 },
 "nbformat": 4,
 "nbformat_minor": 5
}
