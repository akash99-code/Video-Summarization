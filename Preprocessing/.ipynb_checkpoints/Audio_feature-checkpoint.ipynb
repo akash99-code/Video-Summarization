{
 "cells": [
  {
   "cell_type": "markdown",
   "id": "cf1f00f4-d01a-455d-94f3-082844350790",
   "metadata": {},
   "source": [
    "## Audio Feature Extraction"
   ]
  },
  {
   "cell_type": "markdown",
   "id": "84f4bc81-7101-463a-9201-aae6a407fbb6",
   "metadata": {},
   "source": [
    "**Packages**"
   ]
  },
  {
   "cell_type": "code",
   "execution_count": 71,
   "id": "ad46a217-820e-4d15-b41f-76e3032e984e",
   "metadata": {},
   "outputs": [],
   "source": [
    "import h5py\n",
    "import os\n",
    "os.environ['KMP_DUPLICATE_LIB_OK'] = 'True'\n",
    "from tqdm import tqdm\n",
    "import os.path as osp\n",
    "import torch\n",
    "import numpy as np\n",
    "from moviepy.video.io.VideoFileClip import VideoFileClip"
   ]
  },
  {
   "cell_type": "markdown",
   "id": "ebc9cf58-180b-4235-9da1-b45d67929292",
   "metadata": {
    "tags": []
   },
   "source": [
    "### Loading VGGish model"
   ]
  },
  {
   "cell_type": "code",
   "execution_count": 37,
   "id": "f247b795-5c33-4473-8194-d0bea3cb5001",
   "metadata": {
    "tags": []
   },
   "outputs": [
    {
     "name": "stderr",
     "output_type": "stream",
     "text": [
      "Using cache found in C:\\Users\\Msc 2/.cache\\torch\\hub\\harritaylor_torchvggish_master\n"
     ]
    },
    {
     "data": {
      "text/plain": [
       "VGGish(\n",
       "  (features): Sequential(\n",
       "    (0): Conv2d(1, 64, kernel_size=(3, 3), stride=(1, 1), padding=(1, 1))\n",
       "    (1): ReLU(inplace=True)\n",
       "    (2): MaxPool2d(kernel_size=2, stride=2, padding=0, dilation=1, ceil_mode=False)\n",
       "    (3): Conv2d(64, 128, kernel_size=(3, 3), stride=(1, 1), padding=(1, 1))\n",
       "    (4): ReLU(inplace=True)\n",
       "    (5): MaxPool2d(kernel_size=2, stride=2, padding=0, dilation=1, ceil_mode=False)\n",
       "    (6): Conv2d(128, 256, kernel_size=(3, 3), stride=(1, 1), padding=(1, 1))\n",
       "    (7): ReLU(inplace=True)\n",
       "    (8): Conv2d(256, 256, kernel_size=(3, 3), stride=(1, 1), padding=(1, 1))\n",
       "    (9): ReLU(inplace=True)\n",
       "    (10): MaxPool2d(kernel_size=2, stride=2, padding=0, dilation=1, ceil_mode=False)\n",
       "    (11): Conv2d(256, 512, kernel_size=(3, 3), stride=(1, 1), padding=(1, 1))\n",
       "    (12): ReLU(inplace=True)\n",
       "    (13): Conv2d(512, 512, kernel_size=(3, 3), stride=(1, 1), padding=(1, 1))\n",
       "    (14): ReLU(inplace=True)\n",
       "    (15): MaxPool2d(kernel_size=2, stride=2, padding=0, dilation=1, ceil_mode=False)\n",
       "  )\n",
       "  (embeddings): Sequential(\n",
       "    (0): Linear(in_features=12288, out_features=4096, bias=True)\n",
       "    (1): ReLU(inplace=True)\n",
       "    (2): Linear(in_features=4096, out_features=4096, bias=True)\n",
       "    (3): ReLU(inplace=True)\n",
       "    (4): Linear(in_features=4096, out_features=128, bias=True)\n",
       "    (5): ReLU(inplace=True)\n",
       "  )\n",
       "  (pproc): Postprocessor()\n",
       ")"
      ]
     },
     "execution_count": 37,
     "metadata": {},
     "output_type": "execute_result"
    }
   ],
   "source": [
    "import torch\n",
    "vggish = torch.hub.load('harritaylor/torchvggish', 'vggish')\n",
    "vggish.eval()\n"
   ]
  },
  {
   "cell_type": "markdown",
   "id": "3a552110-8f92-42a4-bc08-18f9ff6ce7b0",
   "metadata": {
    "tags": []
   },
   "source": [
    "### Feature Extracter"
   ]
  },
  {
   "cell_type": "code",
   "execution_count": 102,
   "id": "3d88b986-5c65-4776-b51b-be3fbbb6fac1",
   "metadata": {},
   "outputs": [],
   "source": [
    "def get_segFeats(path2vid, picks):\n",
    "    audio = VideoFileClip(path2vid).audio\n",
    "    dur=audio.duration\n",
    "    Audio_Feats=[]\n",
    "    \n",
    "    pbar = tqdm(total=len(picks), position=0, leave=True)\n",
    "    \n",
    "    first_sarr = audio.cutout(0.5,dur).to_soundarray(fps=16000)\n",
    "    pad_amt = 16000-first_sarr.shape[0]\n",
    "    first_sarr= np.pad(first_sarr, ((pad_amt,0),(0,0)), 'constant')\n",
    "    feat = vggish.forward(first_sarr, fs=16000).detach().numpy()\n",
    "    Audio_Feats.append(feat)\n",
    "    pbar.update(1)\n",
    "    \n",
    "    for pick in picks[1:]:\n",
    "        i=pick/30\n",
    "        audio_clip = audio.cutout(0,i-0.5).cutout(min(i+0.5,dur),dur)\n",
    "        audio_arr = audio_clip.to_soundarray(fps=16000)\n",
    "        pad_amt = 16000-audio_arr.shape[0]\n",
    "        if pad_amt>0:\n",
    "            audio_arr= np.pad(audio_arr, ((0, pad_amt),(0,0)), 'constant')\n",
    "        \n",
    "        feat = vggish.forward(audio_arr, fs=16000).detach().numpy()\n",
    "        Audio_Feats.append(feat)\n",
    "        pbar.update(1)\n",
    "        \n",
    "    return Audio_Feats\n",
    "        "
   ]
  },
  {
   "cell_type": "code",
   "execution_count": 106,
   "id": "bd5524aa-33c6-4c5b-8734-22ab965d6100",
   "metadata": {},
   "outputs": [],
   "source": [
    "def extract_audio_feats(args):\n",
    "    with h5py.File(args['output_h5'], 'a') as d:\n",
    "        for key in d.keys():\n",
    "            print(\"Extracting Audio Feature from : \", key)\n",
    "            video_name=d[key+'/video_name'][()].decode()\n",
    "            path2vid = args['video_folder']+'/'+video_name\n",
    "            picks = d[key+'/picks'][()]\n",
    "            \n",
    "            audio_feats = np.array(get_segFeats(path2vid, picks))\n",
    "\n",
    "            print('Feature Shape: ', audio_feats.shape)\n",
    "            \n",
    "            d.create_dataset(key + '/aud_feats', data=audio_feats)\n",
    "            \n",
    "            "
   ]
  },
  {
   "cell_type": "markdown",
   "id": "78d87002-54aa-4ed4-98f6-82a232397fdb",
   "metadata": {},
   "source": [
    "### TVSum Audio Feature Extraction"
   ]
  },
  {
   "cell_type": "code",
   "execution_count": 12,
   "id": "13c7bb57-96ef-4525-89f4-24ca3029f49d",
   "metadata": {},
   "outputs": [],
   "source": [
    "args={\n",
    "    'output_h5':'extracted_features/normal/TVSum.h5',\n",
    "    'video_folder':'../data/Public datasets/ydata-tvsum50-v1_1/video'\n",
    "}"
   ]
  },
  {
   "cell_type": "code",
   "execution_count": 107,
   "id": "5924fbbd-9756-49b4-9eb3-b1358370dd25",
   "metadata": {
    "tags": []
   },
   "outputs": [
    {
     "name": "stdout",
     "output_type": "stream",
     "text": [
      "Extracting Audio Feature from :  video_1\n"
     ]
    },
    {
     "name": "stderr",
     "output_type": "stream",
     "text": [
      "100%|████████████████████████████████████████████████████████████████████████████████| 706/706 [00:27<00:00, 25.44it/s]\n"
     ]
    },
    {
     "name": "stdout",
     "output_type": "stream",
     "text": [
      "Feature Shape:  (706, 128)\n",
      "Extracting Audio Feature from :  video_10\n"
     ]
    },
    {
     "name": "stderr",
     "output_type": "stream",
     "text": [
      "100%|████████████████████████████████████████████████████████████████████████████████| 266/266 [00:10<00:00, 26.41it/s]\n"
     ]
    },
    {
     "name": "stdout",
     "output_type": "stream",
     "text": [
      "Feature Shape:  (266, 128)\n",
      "Extracting Audio Feature from :  video_11\n"
     ]
    },
    {
     "name": "stderr",
     "output_type": "stream",
     "text": [
      "100%|████████████████████████████████████████████████████████████████████████████████| 313/313 [00:12<00:00, 25.23it/s]\n"
     ]
    },
    {
     "name": "stdout",
     "output_type": "stream",
     "text": [
      "Feature Shape:  (313, 128)\n",
      "Extracting Audio Feature from :  video_12\n"
     ]
    },
    {
     "name": "stderr",
     "output_type": "stream",
     "text": [
      "100%|████████████████████████████████████████████████████████████████████████████████| 900/900 [00:32<00:00, 27.58it/s]\n"
     ]
    },
    {
     "name": "stdout",
     "output_type": "stream",
     "text": [
      "Feature Shape:  (900, 128)\n",
      "Extracting Audio Feature from :  video_13\n"
     ]
    },
    {
     "name": "stderr",
     "output_type": "stream",
     "text": [
      "100%|████████████████████████████████████████████████████████████████████████████████| 235/235 [00:08<00:00, 26.33it/s]\n"
     ]
    },
    {
     "name": "stdout",
     "output_type": "stream",
     "text": [
      "Feature Shape:  (235, 128)\n",
      "Extracting Audio Feature from :  video_14\n"
     ]
    },
    {
     "name": "stderr",
     "output_type": "stream",
     "text": [
      "100%|████████████████████████████████████████████████████████████████████████████████| 323/323 [00:12<00:00, 26.23it/s]\n"
     ]
    },
    {
     "name": "stdout",
     "output_type": "stream",
     "text": [
      "Feature Shape:  (323, 128)\n",
      "Extracting Audio Feature from :  video_15\n"
     ]
    },
    {
     "name": "stderr",
     "output_type": "stream",
     "text": [
      "100%|████████████████████████████████████████████████████████████████████████████████| 288/288 [00:10<00:00, 26.64it/s]\n"
     ]
    },
    {
     "name": "stdout",
     "output_type": "stream",
     "text": [
      "Feature Shape:  (288, 128)\n",
      "Extracting Audio Feature from :  video_16\n"
     ]
    },
    {
     "name": "stderr",
     "output_type": "stream",
     "text": [
      "100%|████████████████████████████████████████████████████████████████████████████████| 635/635 [00:25<00:00, 25.24it/s]\n"
     ]
    },
    {
     "name": "stdout",
     "output_type": "stream",
     "text": [
      "Feature Shape:  (635, 128)\n",
      "Extracting Audio Feature from :  video_17\n"
     ]
    },
    {
     "name": "stderr",
     "output_type": "stream",
     "text": [
      "100%|████████████████████████████████████████████████████████████████████████████████| 389/389 [00:15<00:00, 25.31it/s]\n"
     ]
    },
    {
     "name": "stdout",
     "output_type": "stream",
     "text": [
      "Feature Shape:  (389, 128)\n",
      "Extracting Audio Feature from :  video_18\n"
     ]
    },
    {
     "name": "stderr",
     "output_type": "stream",
     "text": [
      "100%|████████████████████████████████████████████████████████████████████████████████| 648/648 [00:25<00:00, 25.11it/s]\n"
     ]
    },
    {
     "name": "stdout",
     "output_type": "stream",
     "text": [
      "Feature Shape:  (648, 128)\n",
      "Extracting Audio Feature from :  video_19\n"
     ]
    },
    {
     "name": "stderr",
     "output_type": "stream",
     "text": [
      "100%|████████████████████████████████████████████████████████████████████████████████| 382/382 [00:14<00:00, 25.61it/s]\n"
     ]
    },
    {
     "name": "stdout",
     "output_type": "stream",
     "text": [
      "Feature Shape:  (382, 128)\n",
      "Extracting Audio Feature from :  video_2\n"
     ]
    },
    {
     "name": "stderr",
     "output_type": "stream",
     "text": [
      "100%|████████████████████████████████████████████████████████████████████████████████| 312/312 [00:12<00:00, 25.84it/s]\n"
     ]
    },
    {
     "name": "stdout",
     "output_type": "stream",
     "text": [
      "Feature Shape:  (312, 128)\n",
      "Extracting Audio Feature from :  video_20\n"
     ]
    },
    {
     "name": "stderr",
     "output_type": "stream",
     "text": [
      "100%|████████████████████████████████████████████████████████████████████████████████| 416/416 [00:17<00:00, 23.85it/s]\n"
     ]
    },
    {
     "name": "stdout",
     "output_type": "stream",
     "text": [
      "Feature Shape:  (416, 128)\n",
      "Extracting Audio Feature from :  video_21\n"
     ]
    },
    {
     "name": "stderr",
     "output_type": "stream",
     "text": [
      "100%|██████████████████████████████████████████████████████████████████████████████| 1293/1293 [00:52<00:00, 24.68it/s]\n"
     ]
    },
    {
     "name": "stdout",
     "output_type": "stream",
     "text": [
      "Feature Shape:  (1293, 128)\n",
      "Extracting Audio Feature from :  video_22\n"
     ]
    },
    {
     "name": "stderr",
     "output_type": "stream",
     "text": [
      "100%|████████████████████████████████████████████████████████████████████████████████| 377/377 [00:15<00:00, 24.00it/s]\n"
     ]
    },
    {
     "name": "stdout",
     "output_type": "stream",
     "text": [
      "Feature Shape:  (377, 128)\n",
      "Extracting Audio Feature from :  video_23\n"
     ]
    },
    {
     "name": "stderr",
     "output_type": "stream",
     "text": [
      "100%|████████████████████████████████████████████████████████████████████████████████| 375/375 [00:16<00:00, 23.34it/s]\n"
     ]
    },
    {
     "name": "stdout",
     "output_type": "stream",
     "text": [
      "Feature Shape:  (375, 128)\n",
      "Extracting Audio Feature from :  video_24\n"
     ]
    },
    {
     "name": "stderr",
     "output_type": "stream",
     "text": [
      "100%|████████████████████████████████████████████████████████████████████████████████| 290/290 [00:11<00:00, 25.71it/s]\n"
     ]
    },
    {
     "name": "stdout",
     "output_type": "stream",
     "text": [
      "Feature Shape:  (290, 128)\n",
      "Extracting Audio Feature from :  video_25\n"
     ]
    },
    {
     "name": "stderr",
     "output_type": "stream",
     "text": [
      "100%|████████████████████████████████████████████████████████████████████████████████| 438/438 [00:17<00:00, 25.03it/s]\n"
     ]
    },
    {
     "name": "stdout",
     "output_type": "stream",
     "text": [
      "Feature Shape:  (438, 128)\n",
      "Extracting Audio Feature from :  video_26\n"
     ]
    },
    {
     "name": "stderr",
     "output_type": "stream",
     "text": [
      "100%|████████████████████████████████████████████████████████████████████████████████| 220/220 [00:10<00:00, 21.33it/s]\n"
     ]
    },
    {
     "name": "stdout",
     "output_type": "stream",
     "text": [
      "Feature Shape:  (220, 128)\n",
      "Extracting Audio Feature from :  video_27\n"
     ]
    },
    {
     "name": "stderr",
     "output_type": "stream",
     "text": [
      "100%|████████████████████████████████████████████████████████████████████████████████| 727/727 [00:30<00:00, 23.95it/s]\n"
     ]
    },
    {
     "name": "stdout",
     "output_type": "stream",
     "text": [
      "Feature Shape:  (727, 128)\n",
      "Extracting Audio Feature from :  video_28\n"
     ]
    },
    {
     "name": "stderr",
     "output_type": "stream",
     "text": [
      "100%|████████████████████████████████████████████████████████████████████████████████| 552/552 [00:20<00:00, 26.34it/s]\n"
     ]
    },
    {
     "name": "stdout",
     "output_type": "stream",
     "text": [
      "Feature Shape:  (552, 128)\n",
      "Extracting Audio Feature from :  video_29\n"
     ]
    },
    {
     "name": "stderr",
     "output_type": "stream",
     "text": [
      "100%|██████████████████████████████████████████████████████████████████████████████| 1168/1168 [00:46<00:00, 25.32it/s]\n"
     ]
    },
    {
     "name": "stdout",
     "output_type": "stream",
     "text": [
      "Feature Shape:  (1168, 128)\n",
      "Extracting Audio Feature from :  video_3\n"
     ]
    },
    {
     "name": "stderr",
     "output_type": "stream",
     "text": [
      "100%|████████████████████████████████████████████████████████████████████████████████| 934/934 [00:36<00:00, 25.46it/s]\n"
     ]
    },
    {
     "name": "stdout",
     "output_type": "stream",
     "text": [
      "Feature Shape:  (934, 128)\n",
      "Extracting Audio Feature from :  video_30\n"
     ]
    },
    {
     "name": "stderr",
     "output_type": "stream",
     "text": [
      "100%|████████████████████████████████████████████████████████████████████████████████| 267/267 [00:10<00:00, 24.81it/s]\n"
     ]
    },
    {
     "name": "stdout",
     "output_type": "stream",
     "text": [
      "Feature Shape:  (267, 128)\n",
      "Extracting Audio Feature from :  video_31\n"
     ]
    },
    {
     "name": "stderr",
     "output_type": "stream",
     "text": [
      "100%|████████████████████████████████████████████████████████████████████████████████| 360/360 [00:14<00:00, 25.55it/s]\n"
     ]
    },
    {
     "name": "stdout",
     "output_type": "stream",
     "text": [
      "Feature Shape:  (360, 128)\n",
      "Extracting Audio Feature from :  video_32\n"
     ]
    },
    {
     "name": "stderr",
     "output_type": "stream",
     "text": [
      "100%|████████████████████████████████████████████████████████████████████████████████| 253/253 [00:09<00:00, 26.64it/s]\n"
     ]
    },
    {
     "name": "stdout",
     "output_type": "stream",
     "text": [
      "Feature Shape:  (253, 128)\n",
      "Extracting Audio Feature from :  video_33\n"
     ]
    },
    {
     "name": "stderr",
     "output_type": "stream",
     "text": [
      "100%|████████████████████████████████████████████████████████████████████████████████| 891/891 [00:33<00:00, 26.31it/s]\n"
     ]
    },
    {
     "name": "stdout",
     "output_type": "stream",
     "text": [
      "Feature Shape:  (891, 128)\n",
      "Extracting Audio Feature from :  video_34\n"
     ]
    },
    {
     "name": "stderr",
     "output_type": "stream",
     "text": [
      "100%|████████████████████████████████████████████████████████████████████████████████| 247/247 [00:09<00:00, 26.35it/s]\n"
     ]
    },
    {
     "name": "stdout",
     "output_type": "stream",
     "text": [
      "Feature Shape:  (247, 128)\n",
      "Extracting Audio Feature from :  video_35\n"
     ]
    },
    {
     "name": "stderr",
     "output_type": "stream",
     "text": [
      "100%|████████████████████████████████████████████████████████████████████████████████| 297/297 [00:11<00:00, 26.86it/s]\n"
     ]
    },
    {
     "name": "stdout",
     "output_type": "stream",
     "text": [
      "Feature Shape:  (297, 128)\n",
      "Extracting Audio Feature from :  video_36\n"
     ]
    },
    {
     "name": "stderr",
     "output_type": "stream",
     "text": [
      "100%|████████████████████████████████████████████████████████████████████████████████| 530/530 [00:20<00:00, 26.05it/s]\n"
     ]
    },
    {
     "name": "stdout",
     "output_type": "stream",
     "text": [
      "Feature Shape:  (530, 128)\n",
      "Extracting Audio Feature from :  video_37\n"
     ]
    },
    {
     "name": "stderr",
     "output_type": "stream",
     "text": [
      "100%|████████████████████████████████████████████████████████████████████████████████| 267/267 [00:10<00:00, 25.88it/s]\n"
     ]
    },
    {
     "name": "stdout",
     "output_type": "stream",
     "text": [
      "Feature Shape:  (267, 128)\n",
      "Extracting Audio Feature from :  video_38\n"
     ]
    },
    {
     "name": "stderr",
     "output_type": "stream",
     "text": [
      "100%|████████████████████████████████████████████████████████████████████████████████| 196/196 [00:07<00:00, 26.39it/s]\n"
     ]
    },
    {
     "name": "stdout",
     "output_type": "stream",
     "text": [
      "Feature Shape:  (196, 128)\n",
      "Extracting Audio Feature from :  video_39\n"
     ]
    },
    {
     "name": "stderr",
     "output_type": "stream",
     "text": [
      "100%|████████████████████████████████████████████████████████████████████████████████| 277/277 [00:10<00:00, 26.13it/s]\n"
     ]
    },
    {
     "name": "stdout",
     "output_type": "stream",
     "text": [
      "Feature Shape:  (277, 128)\n",
      "Extracting Audio Feature from :  video_4\n"
     ]
    },
    {
     "name": "stderr",
     "output_type": "stream",
     "text": [
      "100%|████████████████████████████████████████████████████████████████████████████████| 480/480 [00:19<00:00, 25.21it/s]\n"
     ]
    },
    {
     "name": "stdout",
     "output_type": "stream",
     "text": [
      "Feature Shape:  (480, 128)\n",
      "Extracting Audio Feature from :  video_40\n"
     ]
    },
    {
     "name": "stderr",
     "output_type": "stream",
     "text": [
      "100%|████████████████████████████████████████████████████████████████████████████████| 760/760 [00:30<00:00, 24.99it/s]\n"
     ]
    },
    {
     "name": "stdout",
     "output_type": "stream",
     "text": [
      "Feature Shape:  (760, 128)\n",
      "Extracting Audio Feature from :  video_41\n"
     ]
    },
    {
     "name": "stderr",
     "output_type": "stream",
     "text": [
      "100%|████████████████████████████████████████████████████████████████████████████████| 538/538 [00:20<00:00, 26.20it/s]\n"
     ]
    },
    {
     "name": "stdout",
     "output_type": "stream",
     "text": [
      "Feature Shape:  (538, 128)\n",
      "Extracting Audio Feature from :  video_42\n"
     ]
    },
    {
     "name": "stderr",
     "output_type": "stream",
     "text": [
      "100%|████████████████████████████████████████████████████████████████████████████████| 395/395 [00:15<00:00, 25.54it/s]\n"
     ]
    },
    {
     "name": "stdout",
     "output_type": "stream",
     "text": [
      "Feature Shape:  (395, 128)\n",
      "Extracting Audio Feature from :  video_43\n"
     ]
    },
    {
     "name": "stderr",
     "output_type": "stream",
     "text": [
      "100%|████████████████████████████████████████████████████████████████████████████████| 328/328 [00:12<00:00, 25.75it/s]\n"
     ]
    },
    {
     "name": "stdout",
     "output_type": "stream",
     "text": [
      "Feature Shape:  (328, 128)\n",
      "Extracting Audio Feature from :  video_44\n"
     ]
    },
    {
     "name": "stderr",
     "output_type": "stream",
     "text": [
      "100%|████████████████████████████████████████████████████████████████████████████████| 286/286 [00:11<00:00, 25.57it/s]\n"
     ]
    },
    {
     "name": "stdout",
     "output_type": "stream",
     "text": [
      "Feature Shape:  (286, 128)\n",
      "Extracting Audio Feature from :  video_45\n"
     ]
    },
    {
     "name": "stderr",
     "output_type": "stream",
     "text": [
      "100%|████████████████████████████████████████████████████████████████████████████████| 166/166 [00:06<00:00, 25.50it/s]\n"
     ]
    },
    {
     "name": "stdout",
     "output_type": "stream",
     "text": [
      "Feature Shape:  (166, 128)\n",
      "Extracting Audio Feature from :  video_46\n"
     ]
    },
    {
     "name": "stderr",
     "output_type": "stream",
     "text": [
      "100%|██████████████████████████████████████████████████████████████████████████████| 1020/1020 [00:40<00:00, 25.45it/s]\n"
     ]
    },
    {
     "name": "stdout",
     "output_type": "stream",
     "text": [
      "Feature Shape:  (1020, 128)\n",
      "Extracting Audio Feature from :  video_47\n"
     ]
    },
    {
     "name": "stderr",
     "output_type": "stream",
     "text": [
      "100%|████████████████████████████████████████████████████████████████████████████████| 316/316 [00:12<00:00, 25.63it/s]\n"
     ]
    },
    {
     "name": "stdout",
     "output_type": "stream",
     "text": [
      "Feature Shape:  (316, 128)\n",
      "Extracting Audio Feature from :  video_48\n"
     ]
    },
    {
     "name": "stderr",
     "output_type": "stream",
     "text": [
      "100%|████████████████████████████████████████████████████████████████████████████████| 259/259 [00:10<00:00, 25.81it/s]\n"
     ]
    },
    {
     "name": "stdout",
     "output_type": "stream",
     "text": [
      "Feature Shape:  (259, 128)\n",
      "Extracting Audio Feature from :  video_49\n"
     ]
    },
    {
     "name": "stderr",
     "output_type": "stream",
     "text": [
      "100%|████████████████████████████████████████████████████████████████████████████████| 398/398 [00:15<00:00, 25.37it/s]\n"
     ]
    },
    {
     "name": "stdout",
     "output_type": "stream",
     "text": [
      "Feature Shape:  (398, 128)\n",
      "Extracting Audio Feature from :  video_5\n"
     ]
    },
    {
     "name": "stderr",
     "output_type": "stream",
     "text": [
      "100%|████████████████████████████████████████████████████████████████████████████████| 221/221 [00:09<00:00, 23.51it/s]\n"
     ]
    },
    {
     "name": "stdout",
     "output_type": "stream",
     "text": [
      "Feature Shape:  (221, 128)\n",
      "Extracting Audio Feature from :  video_50\n"
     ]
    },
    {
     "name": "stderr",
     "output_type": "stream",
     "text": [
      "100%|████████████████████████████████████████████████████████████████████████████████| 460/460 [00:17<00:00, 25.92it/s]\n"
     ]
    },
    {
     "name": "stdout",
     "output_type": "stream",
     "text": [
      "Feature Shape:  (460, 128)\n",
      "Extracting Audio Feature from :  video_6\n"
     ]
    },
    {
     "name": "stderr",
     "output_type": "stream",
     "text": [
      "100%|████████████████████████████████████████████████████████████████████████████████| 644/644 [00:25<00:00, 25.34it/s]\n"
     ]
    },
    {
     "name": "stdout",
     "output_type": "stream",
     "text": [
      "Feature Shape:  (644, 128)\n",
      "Extracting Audio Feature from :  video_7\n"
     ]
    },
    {
     "name": "stderr",
     "output_type": "stream",
     "text": [
      "100%|████████████████████████████████████████████████████████████████████████████████| 297/297 [00:11<00:00, 25.02it/s]\n"
     ]
    },
    {
     "name": "stdout",
     "output_type": "stream",
     "text": [
      "Feature Shape:  (297, 128)\n",
      "Extracting Audio Feature from :  video_8\n"
     ]
    },
    {
     "name": "stderr",
     "output_type": "stream",
     "text": [
      "100%|████████████████████████████████████████████████████████████████████████████████| 658/658 [00:26<00:00, 25.31it/s]\n"
     ]
    },
    {
     "name": "stdout",
     "output_type": "stream",
     "text": [
      "Feature Shape:  (658, 128)\n",
      "Extracting Audio Feature from :  video_9\n"
     ]
    },
    {
     "name": "stderr",
     "output_type": "stream",
     "text": [
      "100%|████████████████████████████████████████████████████████████████████████████████| 467/467 [00:17<00:00, 25.96it/s]"
     ]
    },
    {
     "name": "stdout",
     "output_type": "stream",
     "text": [
      "Feature Shape:  (467, 128)\n"
     ]
    },
    {
     "name": "stderr",
     "output_type": "stream",
     "text": [
      "\n"
     ]
    }
   ],
   "source": [
    "extract_audio_feats(args)"
   ]
  },
  {
   "cell_type": "markdown",
   "id": "bf123d88-1f0d-4c35-8a71-67c8246d42fb",
   "metadata": {},
   "source": [
    "--------------"
   ]
  }
 ],
 "metadata": {
  "kernelspec": {
   "display_name": "Python 3 (ipykernel)",
   "language": "python",
   "name": "python3"
  },
  "language_info": {
   "codemirror_mode": {
    "name": "ipython",
    "version": 3
   },
   "file_extension": ".py",
   "mimetype": "text/x-python",
   "name": "python",
   "nbconvert_exporter": "python",
   "pygments_lexer": "ipython3",
   "version": "3.9.12"
  }
 },
 "nbformat": 4,
 "nbformat_minor": 5
}
