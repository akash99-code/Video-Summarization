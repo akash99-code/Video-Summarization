{
 "cells": [
  {
   "cell_type": "markdown",
   "id": "252bbf5d-b921-4020-9840-e0d21d7598fa",
   "metadata": {},
   "source": [
    "### Dataset Split"
   ]
  },
  {
   "cell_type": "markdown",
   "id": "e7f56322-e46c-460c-a0e5-d20ae1498173",
   "metadata": {},
   "source": [
    "**packages**"
   ]
  },
  {
   "cell_type": "code",
   "execution_count": 22,
   "id": "edcdc828-b723-4bb8-939b-11fbdcf6e98a",
   "metadata": {
    "tags": []
   },
   "outputs": [],
   "source": [
    "import json\n",
    "import h5py\n",
    "import math\n",
    "import numpy as np\n",
    "\n",
    "import os.path as osp"
   ]
  },
  {
   "cell_type": "markdown",
   "id": "25ead81d-eda0-491d-bd59-73f532fa9057",
   "metadata": {
    "jp-MarkdownHeadingCollapsed": true,
    "tags": []
   },
   "source": [
    "#### **))Util functions**"
   ]
  },
  {
   "cell_type": "code",
   "execution_count": 4,
   "id": "bda39fba-e23f-40ed-840b-15c3e70302b8",
   "metadata": {},
   "outputs": [],
   "source": [
    "def mkdir_if_missing(directory):\n",
    "    if not osp.exists(directory):\n",
    "        try:\n",
    "            os.makedirs(directory)\n",
    "        except OSError as e:\n",
    "            if e.errno != errno.EEXIST:\n",
    "                raise\n",
    "                \n",
    "def write_json(obj, fpath):\n",
    "    mkdir_if_missing(osp.dirname(fpath))\n",
    "    with open(fpath, 'w') as f:\n",
    "        json.dump(obj, f, indent=4, separators=(',', ': '))\n",
    "\n",
    "def write_yaml(obj, fpath):\n",
    "    mkdir_if_missing(osp.dirname(fpath))\n",
    "    with open(fpath, 'w') as f:\n",
    "        yaml.dump(obj, f)\n",
    "        "
   ]
  },
  {
   "cell_type": "markdown",
   "id": "b5b2dccf-c290-4041-a61b-72842a4ef7a9",
   "metadata": {
    "jp-MarkdownHeadingCollapsed": true,
    "tags": []
   },
   "source": [
    "#### **)) Train Test Split modules**"
   ]
  },
  {
   "cell_type": "code",
   "execution_count": 14,
   "id": "783af6e0-4cd4-4cf8-bd81-888f0b2d9f27",
   "metadata": {},
   "outputs": [],
   "source": [
    "def train_test_split(keys, num_videos, num_train):\n",
    "    \"\"\"Random split\"\"\"\n",
    "    train_keys, test_keys = [], []\n",
    "    rnd_idxs = np.random.choice(range(num_videos), size=num_train, replace=False)\n",
    "    for key_idx, key in enumerate(keys):\n",
    "        if key_idx in rnd_idxs:\n",
    "            train_keys.append(key)\n",
    "        else:\n",
    "            test_keys.append(key)\n",
    "\n",
    "    assert len(set(train_keys) & set(test_keys)) == 0, \"Error: train_keys and test_keys overlap\"\n",
    "\n",
    "    return train_keys, test_keys"
   ]
  },
  {
   "cell_type": "code",
   "execution_count": 25,
   "id": "6a0177ec-e0ac-4059-8764-46d8333d6d2e",
   "metadata": {},
   "outputs": [],
   "source": [
    "def create_splits(train_percent=0.8, num_splits=1, dataset_path='extracted_features/normal/TVSum.h5', save_name='tvsum_splits'):\n",
    "    with h5py.File(dataset_path, 'r') as dataset:\n",
    "        keys = dataset.keys()\n",
    "        num_videos = len(keys)\n",
    "        num_train = int(math.ceil(num_videos * train_percent))\n",
    "        num_test = num_videos - num_train\n",
    "        \n",
    "        print(\"Split breakdown: # total videos {}. # train videos {}. # test videos {}\".format(num_videos, num_train, num_test))\n",
    "        splits = []\n",
    "        \n",
    "        for split_idx in range(num_splits):\n",
    "            \n",
    "            train_keys, test_keys = train_test_split(keys, num_videos, num_train)\n",
    "            splits.append({\n",
    "                'train_keys': train_keys,\n",
    "                'test_keys': test_keys,\n",
    "                })\n",
    "            print('Split-', split_idx+1, ' completed')\n",
    "\n",
    "        savetojson = osp.join('splits', save_name + '.json')\n",
    "        # savetoyaml = osp.join(save_dir, save_name + '.yaml')\n",
    "        write_json(splits, savetojson)\n",
    "        # write_yaml(splits, savetoyaml)\n",
    "        print(\"Splits saved to splits\")\n"
   ]
  },
  {
   "cell_type": "markdown",
   "id": "4e7b895b-4eb7-40f2-aa63-a5d40a42951f",
   "metadata": {},
   "source": [
    "#### **)) TVSum Split**"
   ]
  },
  {
   "cell_type": "code",
   "execution_count": 26,
   "id": "42230a21-fc52-4e8b-a468-1fd41b68f313",
   "metadata": {},
   "outputs": [
    {
     "name": "stdout",
     "output_type": "stream",
     "text": [
      "Split breakdown: # total videos 50. # train videos 40. # test videos 10\n",
      "Split- 0  completed\n",
      "Splits saved to splits\n"
     ]
    }
   ],
   "source": [
    "create(dataset_path='extracted_features/Prebuilt/eccv16_dataset_tvsum_google_pool5.h5')"
   ]
  }
 ],
 "metadata": {
  "kernelspec": {
   "display_name": "Python 3 (ipykernel)",
   "language": "python",
   "name": "python3"
  },
  "language_info": {
   "codemirror_mode": {
    "name": "ipython",
    "version": 3
   },
   "file_extension": ".py",
   "mimetype": "text/x-python",
   "name": "python",
   "nbconvert_exporter": "python",
   "pygments_lexer": "ipython3",
   "version": "3.9.12"
  }
 },
 "nbformat": 4,
 "nbformat_minor": 5
}
